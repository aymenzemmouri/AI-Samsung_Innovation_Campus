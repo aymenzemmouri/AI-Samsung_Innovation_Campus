{
  "nbformat": 4,
  "nbformat_minor": 0,
  "metadata": {
    "kernelspec": {
      "display_name": "Python 3",
      "language": "python",
      "name": "python3"
    },
    "language_info": {
      "codemirror_mode": {
        "name": "ipython",
        "version": 3
      },
      "file_extension": ".py",
      "mimetype": "text/x-python",
      "name": "python",
      "nbconvert_exporter": "python",
      "pygments_lexer": "ipython3",
      "version": "3.7.3"
    },
    "colab": {
      "name": "problem_0104.ipynb",
      "provenance": [],
      "collapsed_sections": []
    }
  },
  "cells": [
    {
      "cell_type": "markdown",
      "metadata": {
        "id": "697sTGnVohwm"
      },
      "source": [
        "## Quiz #0104 "
      ]
    },
    {
      "cell_type": "markdown",
      "metadata": {
        "id": "vsgXq2DDohwo"
      },
      "source": [
        "#### Code the class 'Aquarium' that outputs the result as shown. "
      ]
    },
    {
      "cell_type": "code",
      "metadata": {
        "id": "AX0EZQSHohwp",
        "colab": {
          "base_uri": "https://localhost:8080/"
        },
        "outputId": "d5783812-9d3d-497e-a9d9-143104910949"
      },
      "source": [
        "class Aquarium : \n",
        "    listAnimal = []\n",
        "    def __init__ (self): \n",
        "        print(\"An Aquarium has opened!\")\n",
        "    \n",
        "    def enters (self,animal) : \n",
        "        if animal in Aquarium.listAnimal : \n",
        "            print(\"We already have\",animal,\".\")\n",
        "        else :\n",
        "           Aquarium.listAnimal.append(animal)\n",
        "           print(animal,\"is a new member of our Aquarium!\")\n",
        "            \n",
        "    def show_all (self) : \n",
        "        print(Aquarium.listAnimal)\n",
        "        \n",
        "    def leaves (self,animal) : \n",
        "        if animal in Aquarium.listAnimal : \n",
        "            Aquarium.listAnimal.remove(animal)\n",
        "        else : \n",
        "            print(\"No such sea creature in the Aquarium!\")\n",
        "            \n",
        "        \n",
        "my_aquarium = Aquarium()\n",
        "my_aquarium.enters('Turtle')       \n",
        "my_aquarium.enters('Turtle')\n",
        "my_aquarium.enters('Dolphin')        \n",
        "my_aquarium.enters('Sea Lion')        \n",
        "my_aquarium.enters('Shark')        \n",
        "my_aquarium.show_all()\n",
        "my_aquarium.leaves(\"Sea Lion\")\n",
        "my_aquarium.leaves(\"Killer Whale\")\n",
        "my_aquarium.show_all()\n",
        "my_aquarium.leaves(\"Turtle\")\n",
        "my_aquarium.show_all()  "
      ],
      "execution_count": null,
      "outputs": [
        {
          "output_type": "stream",
          "text": [
            "An Aquarium has opened!\n",
            "Turtle is a new member of our Aquarium!\n",
            "We already have Turtle .\n",
            "Dolphin is a new member of our Aquarium!\n",
            "Sea Lion is a new member of our Aquarium!\n",
            "Shark is a new member of our Aquarium!\n",
            "['Turtle', 'Dolphin', 'Sea Lion', 'Shark']\n",
            "No such sea creature in the Aquarium!\n",
            "['Turtle', 'Dolphin', 'Shark']\n",
            "['Dolphin', 'Shark']\n"
          ],
          "name": "stdout"
        }
      ]
    },
    {
      "cell_type": "markdown",
      "metadata": {
        "id": "mOMmR1IHohwr"
      },
      "source": [
        "Test results:"
      ]
    },
    {
      "cell_type": "code",
      "metadata": {
        "id": "Uy5A9HnFohwr",
        "outputId": "1f81febf-c613-478f-f8c0-b46c3067a461"
      },
      "source": [
        "my_aquarium = Aquarium()"
      ],
      "execution_count": null,
      "outputs": [
        {
          "output_type": "stream",
          "text": [
            "An Aquarium has opened!\n"
          ],
          "name": "stdout"
        }
      ]
    },
    {
      "cell_type": "code",
      "metadata": {
        "id": "5Vo8A1qRohwt",
        "outputId": "19d9f110-cd10-4504-865b-4a8ece8ce4f7"
      },
      "source": [
        "my_aquarium.enters('Turtle')"
      ],
      "execution_count": null,
      "outputs": [
        {
          "output_type": "stream",
          "text": [
            "Turtle is a new member of our Aquarium!\n"
          ],
          "name": "stdout"
        }
      ]
    },
    {
      "cell_type": "code",
      "metadata": {
        "id": "iE-7adeFohwu",
        "outputId": "5e164c6d-5b6f-431c-ae33-fabe532de2c6"
      },
      "source": [
        "my_aquarium.enters('Turtle')"
      ],
      "execution_count": null,
      "outputs": [
        {
          "output_type": "stream",
          "text": [
            "We already have Turtle.\n"
          ],
          "name": "stdout"
        }
      ]
    },
    {
      "cell_type": "code",
      "metadata": {
        "id": "QGf9hFoLohwv",
        "outputId": "0f7e8fb4-fdee-4ed7-f131-e234b08050dc"
      },
      "source": [
        "my_aquarium.enters('Dolphin')"
      ],
      "execution_count": null,
      "outputs": [
        {
          "output_type": "stream",
          "text": [
            "Dolphin is a new member of our Aquarium!\n"
          ],
          "name": "stdout"
        }
      ]
    },
    {
      "cell_type": "code",
      "metadata": {
        "id": "fbTbctYBohww",
        "outputId": "c43305b7-705c-42bf-8f81-a6b2e2ffa709"
      },
      "source": [
        "my_aquarium.enters('Sea Lion')"
      ],
      "execution_count": null,
      "outputs": [
        {
          "output_type": "stream",
          "text": [
            "Sea Lion is a new member of our Aquarium!\n"
          ],
          "name": "stdout"
        }
      ]
    },
    {
      "cell_type": "code",
      "metadata": {
        "id": "3_J7QRAXohwy",
        "outputId": "26f35d23-bf20-43eb-ea9a-f428770b7463"
      },
      "source": [
        "my_aquarium.enters('Shark')"
      ],
      "execution_count": null,
      "outputs": [
        {
          "output_type": "stream",
          "text": [
            "Shark is a new member of our Aquarium!\n"
          ],
          "name": "stdout"
        }
      ]
    },
    {
      "cell_type": "code",
      "metadata": {
        "id": "Tp-MY73iohwz",
        "outputId": "e8f435fe-2fd4-483b-9569-b4340dd2a51a"
      },
      "source": [
        "my_aquarium.show_all()"
      ],
      "execution_count": null,
      "outputs": [
        {
          "output_type": "stream",
          "text": [
            "['Turtle', 'Dolphin', 'Sea Lion', 'Shark']\n"
          ],
          "name": "stdout"
        }
      ]
    },
    {
      "cell_type": "code",
      "metadata": {
        "id": "kESXx4jqohw0"
      },
      "source": [
        "my_aquarium.leaves(\"Sea Lion\")"
      ],
      "execution_count": null,
      "outputs": []
    },
    {
      "cell_type": "code",
      "metadata": {
        "id": "53MRnf4Vohw1",
        "outputId": "de78d980-8072-4d7c-d63f-3b79a7fcc092"
      },
      "source": [
        "my_aquarium.leaves(\"Killer Whale\")"
      ],
      "execution_count": null,
      "outputs": [
        {
          "output_type": "stream",
          "text": [
            "No such sea creature in the Aquarium!\n"
          ],
          "name": "stdout"
        }
      ]
    },
    {
      "cell_type": "code",
      "metadata": {
        "id": "yoBjQfKsohw2",
        "outputId": "30da2dcc-55e4-4dbf-8b6c-d70652bf87b8"
      },
      "source": [
        "my_aquarium.show_all()"
      ],
      "execution_count": null,
      "outputs": [
        {
          "output_type": "stream",
          "text": [
            "['Turtle', 'Dolphin', 'Shark']\n"
          ],
          "name": "stdout"
        }
      ]
    },
    {
      "cell_type": "code",
      "metadata": {
        "id": "34Osgxu5ohw3"
      },
      "source": [
        "my_aquarium.leaves(\"Turtle\")"
      ],
      "execution_count": null,
      "outputs": []
    },
    {
      "cell_type": "code",
      "metadata": {
        "id": "rsHCwjoxohw3",
        "outputId": "d0475f7f-1a37-414e-9192-1da59b96543a"
      },
      "source": [
        "my_aquarium.show_all()"
      ],
      "execution_count": null,
      "outputs": [
        {
          "output_type": "stream",
          "text": [
            "['Dolphin', 'Shark']\n"
          ],
          "name": "stdout"
        }
      ]
    }
  ]
}