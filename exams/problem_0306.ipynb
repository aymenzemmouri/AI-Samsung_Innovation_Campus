{
  "nbformat": 4,
  "nbformat_minor": 0,
  "metadata": {
    "kernelspec": {
      "display_name": "Python 3",
      "language": "python",
      "name": "python3"
    },
    "language_info": {
      "codemirror_mode": {
        "name": "ipython",
        "version": 3
      },
      "file_extension": ".py",
      "mimetype": "text/x-python",
      "name": "python",
      "nbconvert_exporter": "python",
      "pygments_lexer": "ipython3",
      "version": "3.8.8"
    },
    "toc": {
      "base_numbering": 1,
      "nav_menu": {},
      "number_sections": true,
      "sideBar": true,
      "skip_h1_title": false,
      "title_cell": "Table of Contents",
      "title_sidebar": "Contents",
      "toc_cell": false,
      "toc_position": {},
      "toc_section_display": true,
      "toc_window_display": false
    },
    "varInspector": {
      "cols": {
        "lenName": 16,
        "lenType": 16,
        "lenVar": 40
      },
      "kernels_config": {
        "python": {
          "delete_cmd_postfix": "",
          "delete_cmd_prefix": "del ",
          "library": "var_list.py",
          "varRefreshCmd": "print(var_dic_list())"
        },
        "r": {
          "delete_cmd_postfix": ") ",
          "delete_cmd_prefix": "rm(",
          "library": "var_list.r",
          "varRefreshCmd": "cat(var_dic_list()) "
        }
      },
      "types_to_exclude": [
        "module",
        "function",
        "builtin_function_or_method",
        "instance",
        "_Feature"
      ],
      "window_display": false
    },
    "colab": {
      "name": "problem_0306.ipynb",
      "provenance": []
    }
  },
  "cells": [
    {
      "cell_type": "markdown",
      "metadata": {
        "id": "ALWPTgmx9p-A"
      },
      "source": [
        "## Quiz #0306"
      ]
    },
    {
      "cell_type": "markdown",
      "metadata": {
        "id": "mey_hl_Q9p-d"
      },
      "source": [
        "### \"F test of variance ratio\""
      ]
    },
    {
      "cell_type": "code",
      "metadata": {
        "id": "EuNXup-y9p-g"
      },
      "source": [
        "import numpy as np\n",
        "import scipy.stats as st"
      ],
      "execution_count": null,
      "outputs": []
    },
    {
      "cell_type": "markdown",
      "metadata": {
        "id": "VR0fcsXz9p-i"
      },
      "source": [
        "#### Answer the following questions by providing Python code:"
      ]
    },
    {
      "cell_type": "markdown",
      "metadata": {
        "id": "14DarC9B9p-j"
      },
      "source": [
        "In a factory there are two packaging machines. Output samples are drawn from each machine. <br>\n",
        "- $n_1=15$, $\\bar{x}_1=5.0592 kg$, $s_1^2=0.1130 kg^2$\n",
        "- $n_2=12$, $\\bar{x}_2=4.9808 kg$, $s_2^2=0.0152 kg^2$  \n",
        "\n",
        "Test whether there is a significant difference in the variances (95%)."
      ]
    },
    {
      "cell_type": "code",
      "metadata": {
        "id": "K-Iomnj49p-k"
      },
      "source": [
        "n1 = 15\n",
        "ssq1 = 0.1130\n",
        "n2 = 12\n",
        "ssq2 = 0.0152"
      ],
      "execution_count": null,
      "outputs": []
    },
    {
      "cell_type": "code",
      "metadata": {
        "id": "mx181omT9p-l"
      },
      "source": [
        "#H0 : no difference in variances\n",
        "#Ha : difference in variances\n",
        "\n",
        "#Calculate the F value value \n",
        "f_stat = ssq1/ssq2\n",
        "\n",
        "#Calculate degrees of freedom\n",
        "df1 = 14\n",
        "df2 = 11"
      ],
      "execution_count": null,
      "outputs": []
    },
    {
      "cell_type": "markdown",
      "metadata": {
        "id": "rLhca5Yi9p-n"
      },
      "source": [
        "1). Do the right tail test:"
      ]
    },
    {
      "cell_type": "code",
      "metadata": {
        "id": "IfcMGkiI9p-q",
        "outputId": "c74c4507-9479-4e87-cad0-61e538ddc3ce"
      },
      "source": [
        "f_critical = st.f.ppf(0.95,df1,df2)\n",
        "\n",
        "if f_stat > f_critical  :\n",
        "    print(\"We reject H0 , There is a siginificant difference in variances\")\n",
        "else : \n",
        "    print(\"We cannot reject H0\")"
      ],
      "execution_count": null,
      "outputs": [
        {
          "output_type": "stream",
          "text": [
            "We reject H0 , There is a siginificant difference in variances\n"
          ],
          "name": "stdout"
        }
      ]
    },
    {
      "cell_type": "markdown",
      "metadata": {
        "id": "TxkxXajP9p-w"
      },
      "source": [
        "2). Do the two tail test:"
      ]
    },
    {
      "cell_type": "code",
      "metadata": {
        "id": "kT-TeeBz9p-y",
        "outputId": "f1ee1bb7-bc4b-4514-be34-79049a58db77"
      },
      "source": [
        "f_critical = st.f.ppf(0.975,df1,df2)\n",
        "\n",
        "if f_stat > f_critical  :\n",
        "    print(\"We reject H0 , There is a siginificant difference in variances\")\n",
        "else : \n",
        "    print(\"We cannot reject H0\")"
      ],
      "execution_count": null,
      "outputs": [
        {
          "output_type": "stream",
          "text": [
            "We reject H0 , There is a siginificant difference in variances\n"
          ],
          "name": "stdout"
        }
      ]
    },
    {
      "cell_type": "markdown",
      "metadata": {
        "id": "eN4NSL5U9p-z"
      },
      "source": [
        "3). Briefly discuss the results:"
      ]
    },
    {
      "cell_type": "markdown",
      "metadata": {
        "id": "90lhUyV_9p-0"
      },
      "source": [
        "Both two tail and right tail test concludes that there is a significant difference in variance, so we reject the null hypothesis H0 (#H0 : no difference in variances)"
      ]
    }
  ]
}