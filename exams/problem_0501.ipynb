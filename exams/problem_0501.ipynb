{
 "cells": [
  {
   "cell_type": "markdown",
   "metadata": {
    "id": "rjgrimodz8si"
   },
   "source": [
    "## Quiz #0501"
   ]
  },
  {
   "cell_type": "markdown",
   "metadata": {
    "id": "jKWQCplWz8sm"
   },
   "source": [
    "### \"Logistic Regression and Gradient Descent Algorithm\""
   ]
  },
  {
   "cell_type": "markdown",
   "metadata": {
    "id": "ii_vxXjRz8sp"
   },
   "source": [
    "#### Answer the following questions by providing Python code:\n",
    "#### Objectives:\n",
    "- Code a logistic regression class using only the NumPy library.\n",
    "- Implement in Python the Sigmoid function.\n",
    "- Implement in Python the Gradient of the logarithmic likelihood.\n",
    "- Implement in Python the Gradient Descent Algorithm."
   ]
  },
  {
   "cell_type": "code",
   "execution_count": 25,
   "metadata": {
    "id": "qPXzVLLez8ss"
   },
   "outputs": [],
   "source": [
    "import numpy as np\n",
    "import pandas as pd\n",
    "from sklearn.datasets import load_breast_cancer\n",
    "from sklearn.model_selection import train_test_split"
   ]
  },
  {
   "cell_type": "markdown",
   "metadata": {
    "id": "NfGrSwGhz8sv"
   },
   "source": [
    "#### Read in data:"
   ]
  },
  {
   "cell_type": "code",
   "execution_count": 26,
   "metadata": {
    "id": "5v7cO1Jez8sv"
   },
   "outputs": [],
   "source": [
    "# Load data.\n",
    "data = load_breast_cancer()\n",
    "# Explanatory variables.\n",
    "X = data['data']\n",
    "# Relabel such that 0 = 'benign' and 1 = malignant.\n",
    "Y = 1 - data['target']"
   ]
  },
  {
   "cell_type": "code",
   "execution_count": 27,
   "metadata": {},
   "outputs": [
    {
     "data": {
      "text/plain": [
       "(569, 30)"
      ]
     },
     "execution_count": 27,
     "metadata": {},
     "output_type": "execute_result"
    }
   ],
   "source": [
    "X.shape"
   ]
  },
  {
   "cell_type": "code",
   "execution_count": 28,
   "metadata": {},
   "outputs": [
    {
     "data": {
      "text/plain": [
       "(569,)"
      ]
     },
     "execution_count": 28,
     "metadata": {},
     "output_type": "execute_result"
    }
   ],
   "source": [
    "Y.shape"
   ]
  },
  {
   "cell_type": "code",
   "execution_count": 29,
   "metadata": {
    "id": "RfwOovCoz8sw"
   },
   "outputs": [],
   "source": [
    "# Split the dataset into training and testing.\n",
    "X_train, X_test, Y_train, Y_test = train_test_split(X, Y, test_size=0.4, random_state=1234)"
   ]
  },
  {
   "cell_type": "markdown",
   "metadata": {
    "id": "18dR-OLBz8sy"
   },
   "source": [
    "1). Define the 'sigmoid' and 'gradient' functions to produce the output shown below:"
   ]
  },
  {
   "cell_type": "code",
   "execution_count": 30,
   "metadata": {
    "id": "yPOYE1H2z8sz"
   },
   "outputs": [],
   "source": [
    "def sigmoid(x): \n",
    "    # <Your code goes in here>\n",
    "    s = 1/(1 + np.exp(-x))\n",
    "    return s\n",
    "       \n",
    "def gradient(X, Y, beta):\n",
    "    m = X.shape[1] # m is the number of features \n",
    "    return (1 / m) * np.dot(X.T, sigmoid(np.dot(X,beta)) - Y)\n"
   ]
  },
  {
   "cell_type": "markdown",
   "metadata": {
    "id": "fW8tGbtKz8s3"
   },
   "source": [
    "2). Define the 'LogisticRegression' class to produce the output shown below:"
   ]
  },
  {
   "cell_type": "code",
   "execution_count": 37,
   "metadata": {
    "id": "ZnWTClEYz8s4"
   },
   "outputs": [],
   "source": [
    "class LogisticRegression:\n",
    "    def __init__(self, learn_rate):\n",
    "        self.rate = learn_rate\n",
    "        self.n_nodes = None\n",
    "        self.beta = None\n",
    "        \n",
    "    def train(self, input_X, input_Y, n_epochs):\n",
    "        self.n_nodes,m = input_X.shape\n",
    "        self.beta = np.zeros(m)\n",
    "\n",
    "        for i in range(n_epochs):\n",
    "            db = gradient(input_X,input_Y,self.beta)\n",
    "            self.beta = self.beta - self.rate * db\n",
    "        \n",
    "        return self\n",
    "            \n",
    "    def query(self, input_X, cutoff=0.5):\n",
    "        # <Your code goes in here>\n",
    "        Z = sigmoid(np.dot(input_X,self.beta))\n",
    "        Y_pred = [1 if i >= 0.5 else 0 for i in Z]\n",
    "        return np.array(Y_pred)\n",
    "       "
   ]
  },
  {
   "cell_type": "markdown",
   "metadata": {
    "id": "Q4LW6q4tz8s5"
   },
   "source": [
    "#### Sample run:"
   ]
  },
  {
   "cell_type": "code",
   "execution_count": 32,
   "metadata": {
    "id": "LF-BtAahz8s6"
   },
   "outputs": [],
   "source": [
    "# Hyperparameter for the learner.\n",
    "learning_rate = 0.001"
   ]
  },
  {
   "cell_type": "code",
   "execution_count": 38,
   "metadata": {
    "id": "qJKt4sffz8s7"
   },
   "outputs": [
    {
     "name": "stderr",
     "output_type": "stream",
     "text": [
      "<ipython-input-30-0df3581f7680>:3: RuntimeWarning: overflow encountered in exp\n",
      "  s = 1/(1 + np.exp(-x))\n"
     ]
    }
   ],
   "source": [
    "# Train and predict.\n",
    "LR = LogisticRegression(learning_rate)\n",
    "LR.train(X_train, Y_train, 2000)\n",
    "Y_pred = LR.query(X_test,cutoff=0.5)"
   ]
  },
  {
   "cell_type": "code",
   "execution_count": 39,
   "metadata": {},
   "outputs": [
    {
     "name": "stdout",
     "output_type": "stream",
     "text": [
      "Accuracy : 0.925\n"
     ]
    }
   ],
   "source": [
    "from sklearn.metrics import accuracy_score\n",
    "# Display the accuracy.\n",
    "print('Accuracy : {}'.format(np.round(accuracy_score(Y_test,Y_pred),3)))"
   ]
  }
 ],
 "metadata": {
  "colab": {
   "name": "problem_0501.ipynb",
   "provenance": []
  },
  "kernelspec": {
   "display_name": "Python 3",
   "language": "python",
   "name": "python3"
  },
  "language_info": {
   "codemirror_mode": {
    "name": "ipython",
    "version": 3
   },
   "file_extension": ".py",
   "mimetype": "text/x-python",
   "name": "python",
   "nbconvert_exporter": "python",
   "pygments_lexer": "ipython3",
   "version": "3.8.8"
  }
 },
 "nbformat": 4,
 "nbformat_minor": 4
}
