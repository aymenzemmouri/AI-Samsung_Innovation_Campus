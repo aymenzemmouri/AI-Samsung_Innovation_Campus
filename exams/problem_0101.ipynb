{
  "nbformat": 4,
  "nbformat_minor": 0,
  "metadata": {
    "kernelspec": {
      "display_name": "Python 3",
      "language": "python",
      "name": "python3"
    },
    "language_info": {
      "codemirror_mode": {
        "name": "ipython",
        "version": 3
      },
      "file_extension": ".py",
      "mimetype": "text/x-python",
      "name": "python",
      "nbconvert_exporter": "python",
      "pygments_lexer": "ipython3",
      "version": "3.7.3"
    },
    "colab": {
      "name": "problem_0101.ipynb",
      "provenance": [],
      "collapsed_sections": []
    }
  },
  "cells": [
    {
      "cell_type": "markdown",
      "metadata": {
        "id": "zSEv5TaPlLaL"
      },
      "source": [
        "## Quiz #0101"
      ]
    },
    {
      "cell_type": "markdown",
      "metadata": {
        "id": "diDQ5XzHlLaN"
      },
      "source": [
        "#### Provide the answers in Python code:"
      ]
    },
    {
      "cell_type": "markdown",
      "metadata": {
        "id": "VT8uPTSXlLaP"
      },
      "source": [
        "1).  In the class A, students' heights are:\n",
        "\n",
        "161.5 <br>\n",
        "165.9 <br>\n",
        "168.7 <br>\n",
        "163.1 <br>\n",
        "170.8 <br>\n",
        "167.2 <br>\n",
        "\n",
        "Calculate the mean height by using Python 'list' and 'for' loop:"
      ]
    },
    {
      "cell_type": "code",
      "metadata": {
        "colab": {
          "base_uri": "https://localhost:8080/"
        },
        "id": "RoyEid4olLaQ",
        "outputId": "e17bd0d1-9c33-4fd3-ec4b-9253e39ec670"
      },
      "source": [
        "A = [161.5,165.9,168.7,163.1,170.8,167.2]\n",
        "meanHeightA = 0\n",
        "\n",
        "for i in range(0,len(A)) :\n",
        "    meanHeightA += A[i]\n",
        "    \n",
        "meanHeightA = (meanHeightA)/(len(A))\n",
        "print(meanHeightA)"
      ],
      "execution_count": null,
      "outputs": [
        {
          "output_type": "stream",
          "text": [
            "166.20000000000002\n"
          ],
          "name": "stdout"
        }
      ]
    },
    {
      "cell_type": "markdown",
      "metadata": {
        "id": "0joAoLVBlLaR"
      },
      "source": [
        "2).  In the class B, students' heights are:\n",
        "\n",
        "172.5 <br>\n",
        "162.9 <br>\n",
        "161.7 <br>\n",
        "160.1 <br>\n",
        "161.8 <br>\n",
        "169.2 <br>\n",
        "\n",
        "Calculate the mean height by using Python 'list' and 'for' loop:"
      ]
    },
    {
      "cell_type": "code",
      "metadata": {
        "colab": {
          "base_uri": "https://localhost:8080/"
        },
        "id": "doAfgfHPlLaS",
        "outputId": "032e1ac6-78c7-438a-a856-203e6d5167a9"
      },
      "source": [
        "B = [172.5,162.9,161.7,160.1,161.8,169.2]\n",
        "meanHeightB = 0\n",
        "\n",
        "for i in range(0,len(B)) :\n",
        "    meanHeightB += B[i]\n",
        "    \n",
        "meanHeightB = meanHeightB/len(B)\n",
        "\n",
        "print(meanHeightB)"
      ],
      "execution_count": null,
      "outputs": [
        {
          "output_type": "stream",
          "text": [
            "164.70000000000002\n"
          ],
          "name": "stdout"
        }
      ]
    },
    {
      "cell_type": "markdown",
      "metadata": {
        "id": "JFYtn-selLaT"
      },
      "source": [
        "3). The class A and the class B are joined together to form the class AB. Calculate the mean height by using Python 'list' and 'for' loop:"
      ]
    },
    {
      "cell_type": "code",
      "metadata": {
        "id": "xap40JYBlLaU"
      },
      "source": [
        "A = [161.5,165.9,168.7,163.1,170.8,167.2]\n",
        "B = [172.5,162.9,161.7,160.1,161.8,169.2]\n",
        "AB = A+B\n",
        "\n",
        "meanHeightAB = 0\n",
        "\n",
        "for i in range(0,len(AB)) :\n",
        "    meanHeightAB += AB[i]\n",
        "    \n",
        "meanHeightAB = meanHeightAB/len(AB)\n",
        "\n",
        "print(meanHeightAB)"
      ],
      "execution_count": null,
      "outputs": []
    },
    {
      "cell_type": "markdown",
      "metadata": {
        "id": "udU25yfJlLaW"
      },
      "source": [
        "4). Sort the heights of the class AB."
      ]
    },
    {
      "cell_type": "code",
      "metadata": {
        "colab": {
          "base_uri": "https://localhost:8080/"
        },
        "id": "P77rGoholLaX",
        "outputId": "956433a1-c7a0-479f-b57b-ceda38184ac9"
      },
      "source": [
        "A = [161.5,165.9,168.7,163.1,170.8,167.2]\n",
        "B = [172.5,162.9,161.7,160.1,161.8,169.2]\n",
        "AB = A+B\n",
        "AB.sort()\n",
        "\n",
        "print(AB)"
      ],
      "execution_count": null,
      "outputs": [
        {
          "output_type": "stream",
          "text": [
            "[160.1, 161.5, 161.7, 161.8, 162.9, 163.1, 165.9, 167.2, 168.7, 169.2, 170.8, 172.5]\n"
          ],
          "name": "stdout"
        }
      ]
    },
    {
      "cell_type": "markdown",
      "metadata": {
        "id": "1EUtXSDQlLaY"
      },
      "source": [
        "5). The class C is formed with students with the height less than 165. Make a list 'C' containing the heights of the class C."
      ]
    },
    {
      "cell_type": "code",
      "metadata": {
        "colab": {
          "base_uri": "https://localhost:8080/"
        },
        "id": "9I28WuXUlLaZ",
        "outputId": "73904521-e2bc-4866-8be3-fb977a92cd6c"
      },
      "source": [
        "A = [161.5,165.9,168.7,163.1,170.8,167.2]\n",
        "B = [172.5,162.9,161.7,160.1,161.8,169.2]\n",
        "AB = A+B\n",
        "C = []\n",
        "C = list(filter(lambda a : a<165,AB))\n",
        "\n",
        "print(C)\n"
      ],
      "execution_count": null,
      "outputs": [
        {
          "output_type": "stream",
          "text": [
            "[161.5, 163.1, 162.9, 161.7, 160.1, 161.8]\n"
          ],
          "name": "stdout"
        }
      ]
    },
    {
      "cell_type": "markdown",
      "metadata": {
        "id": "n91tyA_XlLaZ"
      },
      "source": [
        "6). The class D is formed with students with the height larger than 160 and less than 170. Make a list containing the heights of the class D."
      ]
    },
    {
      "cell_type": "code",
      "metadata": {
        "colab": {
          "base_uri": "https://localhost:8080/"
        },
        "id": "-BqKyz41lLaa",
        "outputId": "ffe09a8e-fa1a-4d4f-8b2a-f094c7581dfe"
      },
      "source": [
        "A = [161.5,165.9,168.7,163.1,170.8,167.2]\n",
        "B = [172.5,162.9,161.7,160.1,161.8,169.2]\n",
        "AB = A+B\n",
        "D = []\n",
        "D = list(filter(lambda a : a>160 and a<170,AB))\n",
        "\n",
        "print(D)"
      ],
      "execution_count": null,
      "outputs": [
        {
          "output_type": "stream",
          "text": [
            "[161.5, 165.9, 168.7, 163.1, 167.2, 162.9, 161.7, 160.1, 161.8, 169.2]\n"
          ],
          "name": "stdout"
        }
      ]
    }
  ]
}