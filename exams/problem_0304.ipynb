{
  "nbformat": 4,
  "nbformat_minor": 0,
  "metadata": {
    "kernelspec": {
      "display_name": "Python 3",
      "language": "python",
      "name": "python3"
    },
    "language_info": {
      "codemirror_mode": {
        "name": "ipython",
        "version": 3
      },
      "file_extension": ".py",
      "mimetype": "text/x-python",
      "name": "python",
      "nbconvert_exporter": "python",
      "pygments_lexer": "ipython3",
      "version": "3.8.8"
    },
    "toc": {
      "base_numbering": 1,
      "nav_menu": {},
      "number_sections": true,
      "sideBar": true,
      "skip_h1_title": false,
      "title_cell": "Table of Contents",
      "title_sidebar": "Contents",
      "toc_cell": false,
      "toc_position": {},
      "toc_section_display": true,
      "toc_window_display": false
    },
    "varInspector": {
      "cols": {
        "lenName": 16,
        "lenType": 16,
        "lenVar": 40
      },
      "kernels_config": {
        "python": {
          "delete_cmd_postfix": "",
          "delete_cmd_prefix": "del ",
          "library": "var_list.py",
          "varRefreshCmd": "print(var_dic_list())"
        },
        "r": {
          "delete_cmd_postfix": ") ",
          "delete_cmd_prefix": "rm(",
          "library": "var_list.r",
          "varRefreshCmd": "cat(var_dic_list()) "
        }
      },
      "types_to_exclude": [
        "module",
        "function",
        "builtin_function_or_method",
        "instance",
        "_Feature"
      ],
      "window_display": false
    },
    "colab": {
      "name": "problem_0304.ipynb",
      "provenance": []
    }
  },
  "cells": [
    {
      "cell_type": "markdown",
      "metadata": {
        "id": "gOxXLlmkGZik"
      },
      "source": [
        "## Coding Problem #0304"
      ]
    },
    {
      "cell_type": "markdown",
      "metadata": {
        "id": "YOR_erD-GZiu"
      },
      "source": [
        "### \"Policy support rate\""
      ]
    },
    {
      "cell_type": "code",
      "metadata": {
        "id": "x5dRJWTvGZix"
      },
      "source": [
        "import numpy as np\n",
        "import scipy.stats as st"
      ],
      "execution_count": null,
      "outputs": []
    },
    {
      "cell_type": "markdown",
      "metadata": {
        "id": "CES5re3hGZiz"
      },
      "source": [
        "#### Answer the following questions by providing Python code:"
      ]
    },
    {
      "cell_type": "markdown",
      "metadata": {
        "id": "ayZBbAHHGZi0"
      },
      "source": [
        "It is known that the overall policy support rate is 52%. <br>"
      ]
    },
    {
      "cell_type": "code",
      "metadata": {
        "id": "YcdXptCfGZi1"
      },
      "source": [
        "p = 0.52"
      ],
      "execution_count": null,
      "outputs": []
    },
    {
      "cell_type": "markdown",
      "metadata": {
        "id": "ajzM_qMWGZi2"
      },
      "source": [
        "1). What is the probability of support rate less than 50% when asked to 100 people? <br>\n",
        "HINT: Use sample proportion and Standard Normal distribution."
      ]
    },
    {
      "cell_type": "code",
      "metadata": {
        "id": "JR-Mnw4jGZi3",
        "outputId": "d5d047cf-a1c7-4638-ff45-18c9da364d5e"
      },
      "source": [
        "n=100\n",
        "std_error = np.sqrt(n*p*(1-p))\n",
        "z = (0.5*n - n*p)/std_error\n",
        "p_normal1 = st.norm.cdf(z)\n",
        "p_normal1"
      ],
      "execution_count": null,
      "outputs": [
        {
          "output_type": "execute_result",
          "data": {
            "text/plain": [
              "0.3444602779022303"
            ]
          },
          "metadata": {
            "tags": []
          },
          "execution_count": 45
        }
      ]
    },
    {
      "cell_type": "markdown",
      "metadata": {
        "id": "SlrAuCgtGZi8"
      },
      "source": [
        "2). What is the probability of support rate less than 50% when asked to 300 people? <br>\n",
        "HINT: Use sample proportion and Standard Normal distribution."
      ]
    },
    {
      "cell_type": "code",
      "metadata": {
        "id": "0gXOfkqJGZi9",
        "outputId": "c51f4f64-9a82-4604-92c0-86dc5477d867"
      },
      "source": [
        "n=300\n",
        "std_error = np.sqrt(n*p*(1-p))\n",
        "z = (0.5*n - n*p)/std_error\n",
        "p_normal2 = st.norm.cdf(z)\n",
        "p_normal2"
      ],
      "execution_count": null,
      "outputs": [
        {
          "output_type": "execute_result",
          "data": {
            "text/plain": [
              "0.24403704658262404"
            ]
          },
          "metadata": {
            "tags": []
          },
          "execution_count": 46
        }
      ]
    },
    {
      "cell_type": "markdown",
      "metadata": {
        "id": "hK3SZlpkGZi_"
      },
      "source": [
        "3). Redo the calculations of 1) and 2) using the Binomial distribution. Then, compare."
      ]
    },
    {
      "cell_type": "code",
      "metadata": {
        "id": "gqIZLlfOGZjA",
        "outputId": "2f0f434c-e2d1-4aac-8546-13a049743ff5"
      },
      "source": [
        "# Redo of 1).\n",
        "n=100\n",
        "# for n=100, the sample support rate < 50% <=> less than 50 doesn't support policy\n",
        "p_binom1 = st.binom.cdf(50,n,p) - st.binom.pmf(50,n,p)\n",
        "p_binom1"
      ],
      "execution_count": null,
      "outputs": [
        {
          "output_type": "execute_result",
          "data": {
            "text/plain": [
              "0.30815452834059376"
            ]
          },
          "metadata": {
            "tags": []
          },
          "execution_count": 47
        }
      ]
    },
    {
      "cell_type": "code",
      "metadata": {
        "tags": [],
        "id": "S_AGO-6gGZjC",
        "outputId": "76549c41-11e5-4d4a-9bd6-71a39bbcb6a5"
      },
      "source": [
        "# Redo of 2).\n",
        "n=300\n",
        "# for n=300, the sample support rate < 50% <=> less than 150 doesn't support policy\n",
        "p_binom2 = st.binom.cdf(150,n,p) - st.binom.pmf(150,n,p)\n",
        "p_binom2"
      ],
      "execution_count": null,
      "outputs": [
        {
          "output_type": "execute_result",
          "data": {
            "text/plain": [
              "0.22620549716634722"
            ]
          },
          "metadata": {
            "tags": []
          },
          "execution_count": 48
        }
      ]
    },
    {
      "cell_type": "markdown",
      "metadata": {
        "id": "X3Xl0AihGZjE"
      },
      "source": [
        "4). Redo the calculations of 1) and 2) using the Poisson distribution. Then, compare."
      ]
    },
    {
      "cell_type": "code",
      "metadata": {
        "id": "Q7E0-40SGZjF",
        "outputId": "7400e54e-cad8-4c31-a434-fb0fd86b541f"
      },
      "source": [
        "# Redo of 1).\n",
        "n=100\n",
        "p_poiss1 =st.poisson.cdf(50,n*p) - st.poisson.pmf(50,n*p)\n",
        "p_poiss1"
      ],
      "execution_count": null,
      "outputs": [
        {
          "output_type": "execute_result",
          "data": {
            "text/plain": [
              "0.3721497015738665"
            ]
          },
          "metadata": {
            "tags": []
          },
          "execution_count": 58
        }
      ]
    },
    {
      "cell_type": "code",
      "metadata": {
        "id": "ZQ1YPM1FGZjH",
        "outputId": "e43c1a9d-c065-48c1-b35b-07ce63f63999"
      },
      "source": [
        "# Redo of 2).\n",
        "n=300\n",
        "p_poiss2 = st.poisson.cdf(150,n*p) - st.poisson.pmf(150,n*p)\n",
        "p_poiss2"
      ],
      "execution_count": null,
      "outputs": [
        {
          "output_type": "execute_result",
          "data": {
            "text/plain": [
              "0.3047996078781204"
            ]
          },
          "metadata": {
            "tags": []
          },
          "execution_count": 60
        }
      ]
    },
    {
      "cell_type": "code",
      "metadata": {
        "id": "XVcgYAsRGZjI",
        "outputId": "72c7369f-a029-4062-90f9-71673091b238"
      },
      "source": [
        "st.poisson.pmf(150,n*p)"
      ],
      "execution_count": null,
      "outputs": [
        {
          "output_type": "execute_result",
          "data": {
            "text/plain": [
              "0.028963908400405483"
            ]
          },
          "metadata": {
            "tags": []
          },
          "execution_count": 62
        }
      ]
    },
    {
      "cell_type": "markdown",
      "metadata": {
        "id": "-Xrd77mRGZjK"
      },
      "source": [
        "### Comparing"
      ]
    },
    {
      "cell_type": "code",
      "metadata": {
        "id": "hoOilj7jGZjK",
        "outputId": "61516886-dd25-4534-8bb1-4db39aa98b3c"
      },
      "source": [
        "print(\"p_binom1\",p_binom1)\n",
        "print(\"p_normal1\",p_normal1)\n",
        "print(\"p_poiss1\",p_poiss1)"
      ],
      "execution_count": null,
      "outputs": [
        {
          "output_type": "stream",
          "text": [
            "p_binom1 0.30815452834059376\n",
            "p_normal1 0.3444602779022303\n",
            "p_poiss1 0.3721497015738665\n"
          ],
          "name": "stdout"
        }
      ]
    },
    {
      "cell_type": "code",
      "metadata": {
        "id": "4ZhJfn3NGZjM",
        "outputId": "8f1905c5-c073-46f0-95e1-f9b288fdbefd"
      },
      "source": [
        "print(\"p_binom2\",p_binom2)\n",
        "print(\"p_normal2\",p_normal2)\n",
        "print(\"p_poiss2\",p_poiss2)"
      ],
      "execution_count": null,
      "outputs": [
        {
          "output_type": "stream",
          "text": [
            "p_binom2 0.22620549716634722\n",
            "p_normal2 0.24403704658262404\n",
            "p_poiss2 0.3047996078781204\n"
          ],
          "name": "stdout"
        }
      ]
    },
    {
      "cell_type": "code",
      "metadata": {
        "id": "OZ8AAKeEGZjO",
        "outputId": "ab3fd4e9-9d92-48f2-a7aa-8fb521ae5869"
      },
      "source": [
        "print(\"binom < normal < poisson\")"
      ],
      "execution_count": null,
      "outputs": [
        {
          "output_type": "stream",
          "text": [
            "binom < normal < poisson\n"
          ],
          "name": "stdout"
        }
      ]
    }
  ]
}