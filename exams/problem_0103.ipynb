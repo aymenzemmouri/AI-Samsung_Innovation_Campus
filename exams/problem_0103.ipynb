{
  "nbformat": 4,
  "nbformat_minor": 0,
  "metadata": {
    "kernelspec": {
      "display_name": "Python 3",
      "language": "python",
      "name": "python3"
    },
    "language_info": {
      "codemirror_mode": {
        "name": "ipython",
        "version": 3
      },
      "file_extension": ".py",
      "mimetype": "text/x-python",
      "name": "python",
      "nbconvert_exporter": "python",
      "pygments_lexer": "ipython3",
      "version": "3.7.3"
    },
    "colab": {
      "name": "problem_0103.ipynb",
      "provenance": [],
      "collapsed_sections": []
    }
  },
  "cells": [
    {
      "cell_type": "markdown",
      "metadata": {
        "id": "GxXRmgKuobp2"
      },
      "source": [
        "## Quiz #0103 "
      ]
    },
    {
      "cell_type": "markdown",
      "metadata": {
        "id": "ozgqXje8obp4"
      },
      "source": [
        "#### Code the class named 'Calculator' that outputs the result as shown. "
      ]
    },
    {
      "cell_type": "code",
      "metadata": {
        "id": "HBgGYE0oobp5",
        "colab": {
          "base_uri": "https://localhost:8080/"
        },
        "outputId": "a2c20262-8eb4-4bd2-9e2f-643e6ecf38b4"
      },
      "source": [
        "class Calculator:\n",
        "   def __init__ (self,n1,n2):\n",
        "        self.n1 = n1\n",
        "        self.n2 = n2\n",
        "    \n",
        "   def sum(self) : \n",
        "        return self.n1+self.n2\n",
        "    \n",
        "   def subtract(self):\n",
        "        return self.n1-self.n2\n",
        "    \n",
        "   def product(self) :\n",
        "        return self.n1*self.n2\n",
        "    \n",
        "   def divide(self) :\n",
        "        return self.n1/self.n2\n",
        "\n",
        "calc1 = Calculator(5,3)\n",
        "calc2 = Calculator(10,2)\n",
        "print(calc1.sum())\n",
        "print(calc1.subtract())\n",
        "print(calc1.product())\n",
        "print(calc1.divide())"
      ],
      "execution_count": null,
      "outputs": [
        {
          "output_type": "stream",
          "text": [
            "8\n",
            "2\n",
            "15\n",
            "1.6666666666666667\n"
          ],
          "name": "stdout"
        }
      ]
    },
    {
      "cell_type": "markdown",
      "metadata": {
        "id": "RRMA4F9pobp8"
      },
      "source": [
        "Test results:"
      ]
    },
    {
      "cell_type": "code",
      "metadata": {
        "id": "Aa2bidluobp9"
      },
      "source": [
        "calc1 = Calculator(5,3)\n",
        "calc2 = Calculator(10,2)"
      ],
      "execution_count": null,
      "outputs": []
    },
    {
      "cell_type": "code",
      "metadata": {
        "id": "zDANAq7tobp-",
        "outputId": "ea9010cf-4e31-441c-cb5d-686ed267cb6a"
      },
      "source": [
        "print(calc1.sum())\n",
        "print(calc1.subtract())\n",
        "print(calc1.product())\n",
        "print(calc1.divide())"
      ],
      "execution_count": null,
      "outputs": [
        {
          "output_type": "stream",
          "text": [
            "8\n",
            "2\n",
            "15\n",
            "1.6666666666666667\n"
          ],
          "name": "stdout"
        }
      ]
    },
    {
      "cell_type": "code",
      "metadata": {
        "id": "PHW3jR42obqB"
      },
      "source": [
        "print(calc2.sum())\n",
        "print(calc2.subtract())\n",
        "print(calc2.product())\n",
        "print(calc2.divide())"
      ],
      "execution_count": null,
      "outputs": []
    }
  ]
}