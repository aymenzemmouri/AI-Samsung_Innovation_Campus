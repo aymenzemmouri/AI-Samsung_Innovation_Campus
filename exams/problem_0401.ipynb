{
 "cells": [
  {
   "cell_type": "markdown",
   "metadata": {
    "id": "ZzTOjJr9wtkH"
   },
   "source": [
    "## Quiz #0401"
   ]
  },
  {
   "cell_type": "markdown",
   "metadata": {
    "id": "p9c7d2t-wtkX"
   },
   "source": [
    "### \"Optimal number of clusters for K-means clustering\""
   ]
  },
  {
   "cell_type": "code",
   "execution_count": 25,
   "metadata": {
    "id": "A7EHrBL8wtka"
   },
   "outputs": [],
   "source": [
    "import numpy as np\n",
    "import pandas as pd\n",
    "import matplotlib.pyplot as plt\n",
    "from sklearn.datasets import make_blobs\n",
    "from sklearn.cluster import KMeans\n",
    "%matplotlib inline"
   ]
  },
  {
   "cell_type": "markdown",
   "metadata": {
    "id": "UnhePRhvwtkc"
   },
   "source": [
    "#### Answer the following question by providing Python code:"
   ]
  },
  {
   "cell_type": "code",
   "execution_count": 36,
   "metadata": {
    "id": "8x6zSfQQwtkh"
   },
   "outputs": [
    {
     "data": {
      "text/plain": [
       "(150,)"
      ]
     },
     "execution_count": 36,
     "metadata": {},
     "output_type": "execute_result"
    }
   ],
   "source": [
    "# We will use simulated data.\n",
    "# 3 clusters in 8 dimensional space.\n",
    "# Hard to visualize!\n",
    "X, label = make_blobs(n_samples=150, n_features=8, centers=3, cluster_std = 2, random_state=123)"
   ]
  },
  {
   "cell_type": "markdown",
   "metadata": {
    "id": "6bDNCasKwtki"
   },
   "source": [
    "1). Define a function that calculates the \"total internal sum of squares\".\n",
    "- X         :   Data.\n",
    "- centers   :   Array that contains the centroid coordinates. Calculated by kmeans.\n",
    "- clusters  :   Array of cluster labels. Calculated by kmeans. <br> <br>\n",
    "HINT: Implement the formula from the lecture note."
   ]
  },
  {
   "cell_type": "code",
   "execution_count": 46,
   "metadata": {
    "id": "ZE45NPy9wtkl"
   },
   "outputs": [],
   "source": [
    "def total_internal_ss(X, centers, clusters):\n",
    "    N_clusters = centers.shape[0]\n",
    "    N_columns = centers.shape[1]\n",
    "    N_rows = X.shape[0]\n",
    "    # <Your code goes in here>\n",
    "    sum_squares=0\n",
    "    for i in range(N_rows) : \n",
    "        distance=0\n",
    "        distance+=(np.linalg.norm(centers[clusters[i]]-X[i])**2) \n",
    "        sum_squares+=distance\n",
    "    return sum_squares"
   ]
  },
  {
   "cell_type": "markdown",
   "metadata": {
    "id": "kNlDfYUEwtqL"
   },
   "source": [
    "2). Visualize as a Scatter plot the \"total internal sum of squares\" vs N# of clusters. \n",
    "- Then, determine the optimal number of clusters.\n",
    "- Is this number the same as expected?"
   ]
  },
  {
   "cell_type": "code",
   "execution_count": 135,
   "metadata": {
    "id": "mqxDq0uYwtqQ"
   },
   "outputs": [],
   "source": [
    "n_cluster = np.array(range(2,10))                   # Array that contains the number of clusters.\n",
    "total_ss = np.array([])                             # Array that will contain the total internal sum of squares.\n",
    "      \n",
    "       # <Your code goes in here>\n",
    "plt.scatter(x=n_cluster,y=total_ss)"
   ]
  },
  {
   "cell_type": "code",
   "execution_count": 136,
   "metadata": {},
   "outputs": [
    {
     "data": {
      "text/plain": [
       "array([10921.71272404,  4665.30132239,  4419.13883239,  4229.80406881,\n",
       "        4001.92472191,  3827.53797203,  3657.12315894,  3582.70551776])"
      ]
     },
     "execution_count": 136,
     "metadata": {},
     "output_type": "execute_result"
    }
   ],
   "source": [
    "       # <Your code goes in here>\n",
    "from sklearn.cluster import KMeans\n",
    "for i in n_cluster : \n",
    "    kmeans= KMeans(n_clusters=i) \n",
    "    kmeans.fit(X)\n",
    "    centers = kmeans.cluster_centers_\n",
    "    total_ss=np.append(total_ss,total_internal_ss(X,centers,kmeans.labels_))\n",
    "total_ss"
   ]
  },
  {
   "cell_type": "code",
   "execution_count": 140,
   "metadata": {},
   "outputs": [
    {
     "data": {
      "text/plain": [
       "Text(0, 0.5, 'Total internal sum of squares')"
      ]
     },
     "execution_count": 140,
     "metadata": {},
     "output_type": "execute_result"
    },
    {
     "data": {
      "image/png": "[encoded data removed]",
      "text/plain": [
       "<Figure size 432x288 with 1 Axes>"
      ]
     },
     "metadata": {
      "needs_background": "light"
     },
     "output_type": "display_data"
    }
   ],
   "source": [
    "plt.scatter(x=n_cluster,y=total_ss)\n",
    "plt.xlabel(\"K number of clusters\")\n",
    "plt.ylabel(\"Total internal sum of squares\")"
   ]
  },
  {
   "cell_type": "markdown",
   "metadata": {},
   "source": [
    "Using the elbow method, the optimal number of clusters is k=3 (We see from the plot that the point correspoding to k=3 is the point of inflection, choosing a k>3 does not worth the gain on the total internal sum of squares and can lead to overfitting)<br>\n",
    "Yes, the number is the same as expected because when we created the data using make_blobs, we specified the number of centers to be 3"
   ]
  }
 ],
 "metadata": {
  "colab": {
   "name": "problem_0401.ipynb",
   "provenance": []
  },
  "kernelspec": {
   "display_name": "Python 3",
   "language": "python",
   "name": "python3"
  },
  "language_info": {
   "codemirror_mode": {
    "name": "ipython",
    "version": 3
   },
   "file_extension": ".py",
   "mimetype": "text/x-python",
   "name": "python",
   "nbconvert_exporter": "python",
   "pygments_lexer": "ipython3",
   "version": "3.8.8"
  }
 },
 "nbformat": 4,
 "nbformat_minor": 4
}
