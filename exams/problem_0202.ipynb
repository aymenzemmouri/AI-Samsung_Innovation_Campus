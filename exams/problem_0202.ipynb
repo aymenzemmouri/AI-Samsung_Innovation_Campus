{
  "nbformat": 4,
  "nbformat_minor": 0,
  "metadata": {
    "kernelspec": {
      "display_name": "Python 3",
      "language": "python",
      "name": "python3"
    },
    "language_info": {
      "codemirror_mode": {
        "name": "ipython",
        "version": 3
      },
      "file_extension": ".py",
      "mimetype": "text/x-python",
      "name": "python",
      "nbconvert_exporter": "python",
      "pygments_lexer": "ipython3",
      "version": "3.8.8"
    },
    "colab": {
      "name": "problem_0202.ipynb",
      "provenance": []
    }
  },
  "cells": [
    {
      "cell_type": "markdown",
      "metadata": {
        "id": "CGetpp_koheU"
      },
      "source": [
        "## Quiz #0202"
      ]
    },
    {
      "cell_type": "code",
      "metadata": {
        "id": "qKQJrwSHohef"
      },
      "source": [
        "import pandas as pd\n",
        "import numpy as np\n",
        "import os"
      ],
      "execution_count": null,
      "outputs": []
    },
    {
      "cell_type": "markdown",
      "metadata": {
        "id": "ubkvqqTLohei"
      },
      "source": [
        "#### Read in the data."
      ]
    },
    {
      "cell_type": "code",
      "metadata": {
        "id": "KI1PGIhYohej"
      },
      "source": [
        "# Go to the directory where the data file is located. \n",
        "# os.chdir(r'~~')                # Please, replace the path with your own."
      ],
      "execution_count": null,
      "outputs": []
    },
    {
      "cell_type": "code",
      "metadata": {
        "id": "mGL2XmpIohek"
      },
      "source": [
        "df = pd.read_csv('data_census.csv', header='infer')"
      ],
      "execution_count": null,
      "outputs": []
    },
    {
      "cell_type": "code",
      "metadata": {
        "id": "iWwumP-6ohel",
        "outputId": "488c202b-76b9-4680-8934-8db0c8da8751"
      },
      "source": [
        "df.shape"
      ],
      "execution_count": null,
      "outputs": [
        {
          "data": {
            "text/plain": [
              "(281, 6)"
            ]
          },
          "execution_count": 4,
          "metadata": {},
          "output_type": "execute_result"
        }
      ]
    },
    {
      "cell_type": "code",
      "metadata": {
        "id": "xvykE347oheo",
        "outputId": "29e6f789-47c8-4d2b-e4fc-4f1fc8f07bbf"
      },
      "source": [
        "df.head(10)"
      ],
      "execution_count": null,
      "outputs": [
        {
          "data": {
            "text/html": [
              "<div>\n",
              "<style scoped>\n",
              "    .dataframe tbody tr th:only-of-type {\n",
              "        vertical-align: middle;\n",
              "    }\n",
              "\n",
              "    .dataframe tbody tr th {\n",
              "        vertical-align: top;\n",
              "    }\n",
              "\n",
              "    .dataframe thead th {\n",
              "        text-align: right;\n",
              "    }\n",
              "</style>\n",
              "<table border=\"1\" class=\"dataframe\">\n",
              "  <thead>\n",
              "    <tr style=\"text-align: right;\">\n",
              "      <th></th>\n",
              "      <th>ProvinceCode</th>\n",
              "      <th>CityCode</th>\n",
              "      <th>Population</th>\n",
              "      <th>Households</th>\n",
              "      <th>PersonsHousehold</th>\n",
              "      <th>GenderRatio</th>\n",
              "    </tr>\n",
              "  </thead>\n",
              "  <tbody>\n",
              "    <tr>\n",
              "      <th>0</th>\n",
              "      <td>109</td>\n",
              "      <td>1001</td>\n",
              "      <td>10078850</td>\n",
              "      <td>4197478</td>\n",
              "      <td>2.40</td>\n",
              "      <td>0.97</td>\n",
              "    </tr>\n",
              "    <tr>\n",
              "      <th>1</th>\n",
              "      <td>109</td>\n",
              "      <td>1188</td>\n",
              "      <td>155695</td>\n",
              "      <td>72882</td>\n",
              "      <td>2.14</td>\n",
              "      <td>0.98</td>\n",
              "    </tr>\n",
              "    <tr>\n",
              "      <th>2</th>\n",
              "      <td>109</td>\n",
              "      <td>1189</td>\n",
              "      <td>126817</td>\n",
              "      <td>59614</td>\n",
              "      <td>2.13</td>\n",
              "      <td>1.00</td>\n",
              "    </tr>\n",
              "    <tr>\n",
              "      <th>3</th>\n",
              "      <td>109</td>\n",
              "      <td>1158</td>\n",
              "      <td>235186</td>\n",
              "      <td>108138</td>\n",
              "      <td>2.17</td>\n",
              "      <td>0.94</td>\n",
              "    </tr>\n",
              "    <tr>\n",
              "      <th>4</th>\n",
              "      <td>109</td>\n",
              "      <td>1105</td>\n",
              "      <td>298145</td>\n",
              "      <td>126915</td>\n",
              "      <td>2.35</td>\n",
              "      <td>0.99</td>\n",
              "    </tr>\n",
              "    <tr>\n",
              "      <th>5</th>\n",
              "      <td>109</td>\n",
              "      <td>1032</td>\n",
              "      <td>362197</td>\n",
              "      <td>158769</td>\n",
              "      <td>2.28</td>\n",
              "      <td>0.97</td>\n",
              "    </tr>\n",
              "    <tr>\n",
              "      <th>6</th>\n",
              "      <td>109</td>\n",
              "      <td>1065</td>\n",
              "      <td>362604</td>\n",
              "      <td>160110</td>\n",
              "      <td>2.26</td>\n",
              "      <td>1.01</td>\n",
              "    </tr>\n",
              "    <tr>\n",
              "      <th>7</th>\n",
              "      <td>109</td>\n",
              "      <td>1190</td>\n",
              "      <td>417976</td>\n",
              "      <td>177077</td>\n",
              "      <td>2.36</td>\n",
              "      <td>1.00</td>\n",
              "    </tr>\n",
              "    <tr>\n",
              "      <th>8</th>\n",
              "      <td>109</td>\n",
              "      <td>1106</td>\n",
              "      <td>464176</td>\n",
              "      <td>192670</td>\n",
              "      <td>2.41</td>\n",
              "      <td>0.96</td>\n",
              "    </tr>\n",
              "    <tr>\n",
              "      <th>9</th>\n",
              "      <td>109</td>\n",
              "      <td>1006</td>\n",
              "      <td>333523</td>\n",
              "      <td>141325</td>\n",
              "      <td>2.36</td>\n",
              "      <td>0.97</td>\n",
              "    </tr>\n",
              "  </tbody>\n",
              "</table>\n",
              "</div>"
            ],
            "text/plain": [
              "   ProvinceCode  CityCode  Population  Households  PersonsHousehold  \\\n",
              "0           109      1001    10078850     4197478              2.40   \n",
              "1           109      1188      155695       72882              2.14   \n",
              "2           109      1189      126817       59614              2.13   \n",
              "3           109      1158      235186      108138              2.17   \n",
              "4           109      1105      298145      126915              2.35   \n",
              "5           109      1032      362197      158769              2.28   \n",
              "6           109      1065      362604      160110              2.26   \n",
              "7           109      1190      417976      177077              2.36   \n",
              "8           109      1106      464176      192670              2.41   \n",
              "9           109      1006      333523      141325              2.36   \n",
              "\n",
              "   GenderRatio  \n",
              "0         0.97  \n",
              "1         0.98  \n",
              "2         1.00  \n",
              "3         0.94  \n",
              "4         0.99  \n",
              "5         0.97  \n",
              "6         1.01  \n",
              "7         1.00  \n",
              "8         0.96  \n",
              "9         0.97  "
            ]
          },
          "execution_count": 5,
          "metadata": {},
          "output_type": "execute_result"
        }
      ]
    },
    {
      "cell_type": "markdown",
      "metadata": {
        "id": "xlHO31peoheq"
      },
      "source": [
        "#### Answer the following questions using Pandas library."
      ]
    },
    {
      "cell_type": "markdown",
      "metadata": {
        "id": "zyTC9ZJAoher"
      },
      "source": [
        "1). Total population of ProvinceCode equal to 115 and 116:"
      ]
    },
    {
      "cell_type": "code",
      "metadata": {
        "id": "1VKJA8CWohes",
        "outputId": "354cd656-c663-43cd-b262-78c1e0bbc4b8"
      },
      "source": [
        "df[(df['ProvinceCode'] == 115) | (df['ProvinceCode'] == 116)].Population.sum()"
      ],
      "execution_count": null,
      "outputs": [
        {
          "data": {
            "text/plain": [
              "5970327"
            ]
          },
          "execution_count": 7,
          "metadata": {},
          "output_type": "execute_result"
        }
      ]
    },
    {
      "cell_type": "markdown",
      "metadata": {
        "id": "LSbC_IaNohe4"
      },
      "source": [
        "2). Average population of the cities where there are more males (GenderRatio >1):"
      ]
    },
    {
      "cell_type": "code",
      "metadata": {
        "id": "SdujlS8mohe5",
        "outputId": "48e95778-dc6a-47a2-a34d-7cf2edaf6340"
      },
      "source": [
        "df[df['GenderRatio'] > 1 ].Population.mean()"
      ],
      "execution_count": null,
      "outputs": [
        {
          "data": {
            "text/plain": [
              "419221.2076923077"
            ]
          },
          "execution_count": 8,
          "metadata": {},
          "output_type": "execute_result"
        }
      ]
    },
    {
      "cell_type": "markdown",
      "metadata": {
        "id": "Fdq36LoQohe7"
      },
      "source": [
        "3). Places with more males  (GenderRatio >1) and less than 2 persons per household: "
      ]
    },
    {
      "cell_type": "code",
      "metadata": {
        "id": "WV03h9i7ohe8",
        "outputId": "d2cb38ad-5594-4d3b-fb15-3292d5b0f87d"
      },
      "source": [
        "df[(df['GenderRatio'] > 1) & (df['PersonsHousehold'] < 2)].CityCode"
      ],
      "execution_count": null,
      "outputs": [
        {
          "data": {
            "text/plain": [
              "62     1155\n",
              "149    1240\n",
              "152    1017\n",
              "167    1033\n",
              "227    1120\n",
              "253    1163\n",
              "Name: CityCode, dtype: int64"
            ]
          },
          "execution_count": 13,
          "metadata": {},
          "output_type": "execute_result"
        }
      ]
    },
    {
      "cell_type": "markdown",
      "metadata": {
        "id": "nbJqQp3_ohe9"
      },
      "source": [
        "4). Sort the DataFrame in ascending order of the 'Households'. Show the top 10."
      ]
    },
    {
      "cell_type": "code",
      "metadata": {
        "id": "ZSLN2AgJohe-",
        "outputId": "50720b47-e0bf-450f-e553-1c63a4209a05"
      },
      "source": [
        "df.sort_values(by='Households' , ascending = True , inplace = True)\n",
        "df[::-1].head(10)"
      ],
      "execution_count": null,
      "outputs": [
        {
          "data": {
            "text/html": [
              "<div>\n",
              "<style scoped>\n",
              "    .dataframe tbody tr th:only-of-type {\n",
              "        vertical-align: middle;\n",
              "    }\n",
              "\n",
              "    .dataframe tbody tr th {\n",
              "        vertical-align: top;\n",
              "    }\n",
              "\n",
              "    .dataframe thead th {\n",
              "        text-align: right;\n",
              "    }\n",
              "</style>\n",
              "<table border=\"1\" class=\"dataframe\">\n",
              "  <thead>\n",
              "    <tr style=\"text-align: right;\">\n",
              "      <th></th>\n",
              "      <th>ProvinceCode</th>\n",
              "      <th>CityCode</th>\n",
              "      <th>Population</th>\n",
              "      <th>Households</th>\n",
              "      <th>PersonsHousehold</th>\n",
              "      <th>GenderRatio</th>\n",
              "    </tr>\n",
              "  </thead>\n",
              "  <tbody>\n",
              "    <tr>\n",
              "      <th>83</th>\n",
              "      <td>102</td>\n",
              "      <td>1001</td>\n",
              "      <td>12432063</td>\n",
              "      <td>4829521</td>\n",
              "      <td>2.57</td>\n",
              "      <td>1.01</td>\n",
              "    </tr>\n",
              "    <tr>\n",
              "      <th>0</th>\n",
              "      <td>109</td>\n",
              "      <td>1001</td>\n",
              "      <td>10078850</td>\n",
              "      <td>4197478</td>\n",
              "      <td>2.40</td>\n",
              "      <td>0.97</td>\n",
              "    </tr>\n",
              "    <tr>\n",
              "      <th>26</th>\n",
              "      <td>108</td>\n",
              "      <td>1001</td>\n",
              "      <td>3517491</td>\n",
              "      <td>1430441</td>\n",
              "      <td>2.46</td>\n",
              "      <td>0.98</td>\n",
              "    </tr>\n",
              "    <tr>\n",
              "      <th>254</th>\n",
              "      <td>103</td>\n",
              "      <td>1001</td>\n",
              "      <td>3356540</td>\n",
              "      <td>1356430</td>\n",
              "      <td>2.47</td>\n",
              "      <td>1.02</td>\n",
              "    </tr>\n",
              "    <tr>\n",
              "      <th>228</th>\n",
              "      <td>104</td>\n",
              "      <td>1001</td>\n",
              "      <td>2697791</td>\n",
              "      <td>1160150</td>\n",
              "      <td>2.33</td>\n",
              "      <td>1.01</td>\n",
              "    </tr>\n",
              "    <tr>\n",
              "      <th>52</th>\n",
              "      <td>112</td>\n",
              "      <td>1001</td>\n",
              "      <td>2914271</td>\n",
              "      <td>1145232</td>\n",
              "      <td>2.54</td>\n",
              "      <td>1.01</td>\n",
              "    </tr>\n",
              "    <tr>\n",
              "      <th>43</th>\n",
              "      <td>106</td>\n",
              "      <td>1001</td>\n",
              "      <td>2491137</td>\n",
              "      <td>977714</td>\n",
              "      <td>2.55</td>\n",
              "      <td>0.99</td>\n",
              "    </tr>\n",
              "    <tr>\n",
              "      <th>170</th>\n",
              "      <td>116</td>\n",
              "      <td>1001</td>\n",
              "      <td>2068444</td>\n",
              "      <td>878544</td>\n",
              "      <td>2.35</td>\n",
              "      <td>1.03</td>\n",
              "    </tr>\n",
              "    <tr>\n",
              "      <th>205</th>\n",
              "      <td>113</td>\n",
              "      <td>1001</td>\n",
              "      <td>1902638</td>\n",
              "      <td>827264</td>\n",
              "      <td>2.30</td>\n",
              "      <td>1.00</td>\n",
              "    </tr>\n",
              "    <tr>\n",
              "      <th>188</th>\n",
              "      <td>114</td>\n",
              "      <td>1001</td>\n",
              "      <td>1869668</td>\n",
              "      <td>778350</td>\n",
              "      <td>2.40</td>\n",
              "      <td>0.99</td>\n",
              "    </tr>\n",
              "  </tbody>\n",
              "</table>\n",
              "</div>"
            ],
            "text/plain": [
              "     ProvinceCode  CityCode  Population  Households  PersonsHousehold  \\\n",
              "83            102      1001    12432063     4829521              2.57   \n",
              "0             109      1001    10078850     4197478              2.40   \n",
              "26            108      1001     3517491     1430441              2.46   \n",
              "254           103      1001     3356540     1356430              2.47   \n",
              "228           104      1001     2697791     1160150              2.33   \n",
              "52            112      1001     2914271     1145232              2.54   \n",
              "43            106      1001     2491137      977714              2.55   \n",
              "170           116      1001     2068444      878544              2.35   \n",
              "205           113      1001     1902638      827264              2.30   \n",
              "188           114      1001     1869668      778350              2.40   \n",
              "\n",
              "     GenderRatio  \n",
              "83          1.01  \n",
              "0           0.97  \n",
              "26          0.98  \n",
              "254         1.02  \n",
              "228         1.01  \n",
              "52          1.01  \n",
              "43          0.99  \n",
              "170         1.03  \n",
              "205         1.00  \n",
              "188         0.99  "
            ]
          },
          "execution_count": 21,
          "metadata": {},
          "output_type": "execute_result"
        }
      ]
    }
  ]
}