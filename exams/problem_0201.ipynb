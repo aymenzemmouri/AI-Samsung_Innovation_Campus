{
  "nbformat": 4,
  "nbformat_minor": 0,
  "metadata": {
    "kernelspec": {
      "display_name": "Python 3",
      "language": "python",
      "name": "python3"
    },
    "language_info": {
      "codemirror_mode": {
        "name": "ipython",
        "version": 3
      },
      "file_extension": ".py",
      "mimetype": "text/x-python",
      "name": "python",
      "nbconvert_exporter": "python",
      "pygments_lexer": "ipython3",
      "version": "3.8.8"
    },
    "colab": {
      "name": "problem_0201.ipynb",
      "provenance": []
    }
  },
  "cells": [
    {
      "cell_type": "markdown",
      "metadata": {
        "id": "3xOd1VdJofd0"
      },
      "source": [
        "## Quiz #0201 "
      ]
    },
    {
      "cell_type": "code",
      "metadata": {
        "id": "ERv3Vx3oofd9"
      },
      "source": [
        "import pandas as pd\n",
        "import os"
      ],
      "execution_count": null,
      "outputs": []
    },
    {
      "cell_type": "markdown",
      "metadata": {
        "id": "4qQcNVTvofeC"
      },
      "source": [
        "#### Read in the data."
      ]
    },
    {
      "cell_type": "code",
      "metadata": {
        "id": "1C2MCPXnofeD"
      },
      "source": [
        "# Go to the directory where the data file is located. \n",
        "# os.chdir(r'~~')                # Please, replace the path with your own."
      ],
      "execution_count": null,
      "outputs": []
    },
    {
      "cell_type": "code",
      "metadata": {
        "id": "aR5CriTTofeE"
      },
      "source": [
        "df = pd.read_csv('data_studentlist.csv', header='infer')"
      ],
      "execution_count": null,
      "outputs": []
    },
    {
      "cell_type": "code",
      "metadata": {
        "id": "1EAgHWl9ofeF",
        "outputId": "8677a783-c39f-43e4-941c-f95d09469072"
      },
      "source": [
        "df.head(5)"
      ],
      "execution_count": null,
      "outputs": [
        {
          "data": {
            "text/html": [
              "<div>\n",
              "<style scoped>\n",
              "    .dataframe tbody tr th:only-of-type {\n",
              "        vertical-align: middle;\n",
              "    }\n",
              "\n",
              "    .dataframe tbody tr th {\n",
              "        vertical-align: top;\n",
              "    }\n",
              "\n",
              "    .dataframe thead th {\n",
              "        text-align: right;\n",
              "    }\n",
              "</style>\n",
              "<table border=\"1\" class=\"dataframe\">\n",
              "  <thead>\n",
              "    <tr style=\"text-align: right;\">\n",
              "      <th></th>\n",
              "      <th>name</th>\n",
              "      <th>gender</th>\n",
              "      <th>age</th>\n",
              "      <th>grade</th>\n",
              "      <th>absence</th>\n",
              "      <th>bloodtype</th>\n",
              "      <th>height</th>\n",
              "      <th>weight</th>\n",
              "    </tr>\n",
              "  </thead>\n",
              "  <tbody>\n",
              "    <tr>\n",
              "      <th>0</th>\n",
              "      <td>Jared Diamond</td>\n",
              "      <td>M</td>\n",
              "      <td>23</td>\n",
              "      <td>3</td>\n",
              "      <td>Y</td>\n",
              "      <td>O</td>\n",
              "      <td>165.3</td>\n",
              "      <td>68.2</td>\n",
              "    </tr>\n",
              "    <tr>\n",
              "      <th>1</th>\n",
              "      <td>Sarah O'Donnel</td>\n",
              "      <td>F</td>\n",
              "      <td>22</td>\n",
              "      <td>2</td>\n",
              "      <td>N</td>\n",
              "      <td>AB</td>\n",
              "      <td>170.1</td>\n",
              "      <td>53.0</td>\n",
              "    </tr>\n",
              "    <tr>\n",
              "      <th>2</th>\n",
              "      <td>Brian Martin</td>\n",
              "      <td>M</td>\n",
              "      <td>24</td>\n",
              "      <td>4</td>\n",
              "      <td>N</td>\n",
              "      <td>B</td>\n",
              "      <td>175.0</td>\n",
              "      <td>80.1</td>\n",
              "    </tr>\n",
              "    <tr>\n",
              "      <th>3</th>\n",
              "      <td>David Hassel</td>\n",
              "      <td>M</td>\n",
              "      <td>23</td>\n",
              "      <td>3</td>\n",
              "      <td>N</td>\n",
              "      <td>AB</td>\n",
              "      <td>182.1</td>\n",
              "      <td>85.7</td>\n",
              "    </tr>\n",
              "    <tr>\n",
              "      <th>4</th>\n",
              "      <td>Clara Rodriquez</td>\n",
              "      <td>F</td>\n",
              "      <td>20</td>\n",
              "      <td>1</td>\n",
              "      <td>Y</td>\n",
              "      <td>A</td>\n",
              "      <td>168.0</td>\n",
              "      <td>49.5</td>\n",
              "    </tr>\n",
              "  </tbody>\n",
              "</table>\n",
              "</div>"
            ],
            "text/plain": [
              "              name gender  age  grade absence bloodtype  height  weight\n",
              "0    Jared Diamond      M   23      3       Y         O   165.3    68.2\n",
              "1   Sarah O'Donnel      F   22      2       N        AB   170.1    53.0\n",
              "2     Brian Martin      M   24      4       N         B   175.0    80.1\n",
              "3     David Hassel      M   23      3       N        AB   182.1    85.7\n",
              "4  Clara Rodriquez      F   20      1       Y         A   168.0    49.5"
            ]
          },
          "execution_count": 3,
          "metadata": {},
          "output_type": "execute_result"
        }
      ]
    },
    {
      "cell_type": "markdown",
      "metadata": {
        "id": "pEbFA-SSofeH"
      },
      "source": [
        "#### Answer the following questions using Pandas library."
      ]
    },
    {
      "cell_type": "markdown",
      "metadata": {
        "id": "Eeq0GB9ZofeI"
      },
      "source": [
        "1). Average height of the male students:"
      ]
    },
    {
      "cell_type": "code",
      "metadata": {
        "id": "v0VbfGOnofeJ",
        "outputId": "b5742a93-1e91-40c4-cdfb-d30a0e8733a8"
      },
      "source": [
        "df[df['gender'] == 'M'].height.mean()"
      ],
      "execution_count": null,
      "outputs": [
        {
          "data": {
            "text/plain": [
              "172.41"
            ]
          },
          "execution_count": 7,
          "metadata": {},
          "output_type": "execute_result"
        }
      ]
    },
    {
      "cell_type": "markdown",
      "metadata": {
        "id": "Vh4F0RkMofeK"
      },
      "source": [
        "2). Average height of the male students:"
      ]
    },
    {
      "cell_type": "code",
      "metadata": {
        "id": "YPe4k65DofeL",
        "outputId": "d23d1ed8-f811-478b-d42e-0fd4526167d0"
      },
      "source": [
        "df[df['gender'] == 'F'].height.mean()"
      ],
      "execution_count": null,
      "outputs": [
        {
          "data": {
            "text/plain": [
              "166.64285714285714"
            ]
          },
          "execution_count": 8,
          "metadata": {},
          "output_type": "execute_result"
        }
      ]
    },
    {
      "cell_type": "markdown",
      "metadata": {
        "id": "bg8XvDOFofeM"
      },
      "source": [
        "3). Average weight of the male students:"
      ]
    },
    {
      "cell_type": "code",
      "metadata": {
        "id": "xlVnM_HmofeO"
      },
      "source": [
        "df[df['gender'] == 'M'].weight.mean()"
      ],
      "execution_count": null,
      "outputs": []
    },
    {
      "cell_type": "markdown",
      "metadata": {
        "id": "ZsE9gLuyofeP"
      },
      "source": [
        "4). Average weight of the female students:"
      ]
    },
    {
      "cell_type": "code",
      "metadata": {
        "id": "Sc9_uSykofeQ"
      },
      "source": [
        "df[df['gender'] == 'F'].weight.mean()"
      ],
      "execution_count": null,
      "outputs": []
    },
    {
      "cell_type": "markdown",
      "metadata": {
        "id": "olinxyEaofeQ"
      },
      "source": [
        "5). The tallest height among the male students:"
      ]
    },
    {
      "cell_type": "code",
      "metadata": {
        "id": "OGE6ZCw2ofeR",
        "outputId": "968aa2a6-7750-4791-9eb1-0c98d2b87761"
      },
      "source": [
        "df[df['gender'] == 'M'].height.max()"
      ],
      "execution_count": null,
      "outputs": [
        {
          "data": {
            "text/plain": [
              "182.1"
            ]
          },
          "execution_count": 12,
          "metadata": {},
          "output_type": "execute_result"
        }
      ]
    },
    {
      "cell_type": "markdown",
      "metadata": {
        "id": "SRg2gvcCofeS"
      },
      "source": [
        "6). The shortest height among the female students:"
      ]
    },
    {
      "cell_type": "code",
      "metadata": {
        "id": "6vK3YDiIofeT",
        "outputId": "0ed0faa3-eaa1-431a-b30d-017b63e89c7c"
      },
      "source": [
        "df[df['gender'] == 'F'].height.min()"
      ],
      "execution_count": null,
      "outputs": [
        {
          "data": {
            "text/plain": [
              "155.2"
            ]
          },
          "execution_count": 11,
          "metadata": {},
          "output_type": "execute_result"
        }
      ]
    },
    {
      "cell_type": "markdown",
      "metadata": {
        "id": "5wHVbl5yofeT"
      },
      "source": [
        "7). The lightest weight among the male students of height taller than 175cm: "
      ]
    },
    {
      "cell_type": "code",
      "metadata": {
        "id": "Y2FUmk8PofeU",
        "outputId": "6839471c-c213-4cda-f26d-54ae749d8841"
      },
      "source": [
        "df[(df['gender'] == 'M') & (df['height'] > 175)].weight.min()"
      ],
      "execution_count": null,
      "outputs": [
        {
          "data": {
            "text/plain": [
              "61.3"
            ]
          },
          "execution_count": 15,
          "metadata": {},
          "output_type": "execute_result"
        }
      ]
    },
    {
      "cell_type": "markdown",
      "metadata": {
        "id": "OCBVSciLofeV"
      },
      "source": [
        "8). The heaviest weight among the female students of height shorter than 160cm: "
      ]
    },
    {
      "cell_type": "code",
      "metadata": {
        "id": "HMzkqgLDofeV",
        "outputId": "d600f60d-4048-435a-fe42-909cdb164ced"
      },
      "source": [
        "df[(df['gender'] == 'F') & (df['height'] < 160)].weight.max()"
      ],
      "execution_count": null,
      "outputs": [
        {
          "data": {
            "text/plain": [
              "55.0"
            ]
          },
          "execution_count": 16,
          "metadata": {},
          "output_type": "execute_result"
        }
      ]
    },
    {
      "cell_type": "markdown",
      "metadata": {
        "id": "-ZMViROmofeW"
      },
      "source": [
        "9). The average grade of students without absence ('N'):"
      ]
    },
    {
      "cell_type": "code",
      "metadata": {
        "id": "RUg9L1qHofeX",
        "outputId": "71e4031b-5d5d-49be-f908-16dc7ffbe721"
      },
      "source": [
        "df[(df['absence'] == 'N')].grade.mean()"
      ],
      "execution_count": null,
      "outputs": [
        {
          "data": {
            "text/plain": [
              "2.076923076923077"
            ]
          },
          "execution_count": 17,
          "metadata": {},
          "output_type": "execute_result"
        }
      ]
    },
    {
      "cell_type": "markdown",
      "metadata": {
        "id": "inIhj2zFofeX"
      },
      "source": [
        "10). The average grade of students with absence ('Y'):"
      ]
    },
    {
      "cell_type": "code",
      "metadata": {
        "id": "vNOyBD5JofeY"
      },
      "source": [
        "df[(df['absence'] == 'Y')].grade.mean()"
      ],
      "execution_count": null,
      "outputs": []
    },
    {
      "cell_type": "markdown",
      "metadata": {
        "id": "0vc2VJm1ofeZ"
      },
      "source": [
        "11). Average height of the students with blood type 'A' or 'AB':"
      ]
    },
    {
      "cell_type": "code",
      "metadata": {
        "id": "x8UxpcBTofeZ",
        "outputId": "982d7494-ba61-483c-d5e0-7df9edf15a0d"
      },
      "source": [
        "df[(df['bloodtype'] == 'A') | (df['bloodtype'] == 'AB')].height.mean()"
      ],
      "execution_count": null,
      "outputs": [
        {
          "data": {
            "text/plain": [
              "172.64285714285714"
            ]
          },
          "execution_count": 18,
          "metadata": {},
          "output_type": "execute_result"
        }
      ]
    },
    {
      "cell_type": "markdown",
      "metadata": {
        "id": "CzX3y49gofea"
      },
      "source": [
        "12). Average height of the **male** students with blood type 'A' or 'AB':"
      ]
    },
    {
      "cell_type": "code",
      "metadata": {
        "id": "CvJWdB6zofeb",
        "outputId": "6c2ca6a1-a39d-437d-c09d-fb3292024c1d"
      },
      "source": [
        "df.loc[((df['gender'] == 'M') & ((df['bloodtype'] == 'AB') | (df['bloodtype'] == 'A')))].height.mean()"
      ],
      "execution_count": null,
      "outputs": [
        {
          "data": {
            "text/plain": [
              "173.375"
            ]
          },
          "execution_count": 26,
          "metadata": {},
          "output_type": "execute_result"
        }
      ]
    },
    {
      "cell_type": "markdown",
      "metadata": {
        "id": "n7fl_Ls2ofec"
      },
      "source": [
        "13). Average age of the students with absence ('Y') whose grade is equal or larger than 3:"
      ]
    },
    {
      "cell_type": "code",
      "metadata": {
        "id": "MZdYD6XTofed",
        "outputId": "13d950fd-347e-4c1e-9ba3-428771779fe4"
      },
      "source": [
        "df.loc[((df['absence'] == 'Y') & (df['grade'] >= 3))].age.mean()"
      ],
      "execution_count": null,
      "outputs": [
        {
          "data": {
            "text/plain": [
              "23.666666666666668"
            ]
          },
          "execution_count": 29,
          "metadata": {},
          "output_type": "execute_result"
        }
      ]
    },
    {
      "cell_type": "code",
      "metadata": {
        "id": "bLFTI3ZGofed"
      },
      "source": [
        ""
      ],
      "execution_count": null,
      "outputs": []
    }
  ]
}