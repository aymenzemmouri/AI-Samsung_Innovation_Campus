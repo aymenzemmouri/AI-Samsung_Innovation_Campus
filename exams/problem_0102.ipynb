{
  "nbformat": 4,
  "nbformat_minor": 0,
  "metadata": {
    "kernelspec": {
      "display_name": "Python 3",
      "language": "python",
      "name": "python3"
    },
    "language_info": {
      "codemirror_mode": {
        "name": "ipython",
        "version": 3
      },
      "file_extension": ".py",
      "mimetype": "text/x-python",
      "name": "python",
      "nbconvert_exporter": "python",
      "pygments_lexer": "ipython3",
      "version": "3.7.3"
    },
    "colab": {
      "name": "problem_0102.ipynb",
      "provenance": [],
      "collapsed_sections": []
    }
  },
  "cells": [
    {
      "cell_type": "markdown",
      "metadata": {
        "id": "J5E0-PHik-3C"
      },
      "source": [
        "## Quiz #0102 "
      ]
    },
    {
      "cell_type": "markdown",
      "metadata": {
        "id": "9VlkOq4Ak-3E"
      },
      "source": [
        "#### Use a lambda function and map() to answer the following questions."
      ]
    },
    {
      "cell_type": "markdown",
      "metadata": {
        "id": "vtOQN4Uak-3F"
      },
      "source": [
        "1). Add 1 to each element of the list 'a' and create another list. <br>\n",
        "\n",
        "a = [1, 2, 3, 4, 5, 6, 7, 8, 9, 10]"
      ]
    },
    {
      "cell_type": "code",
      "metadata": {
        "colab": {
          "base_uri": "https://localhost:8080/"
        },
        "id": "tV_7z5gPk-3G",
        "outputId": "472a0aa9-336a-4713-9a37-6e1c715bdfb7"
      },
      "source": [
        "a = [1, 2, 3, 4, 5, 6, 7, 8, 9, 10]\n",
        "b = list(map(lambda a : a+1 , a))\n",
        "print(b)"
      ],
      "execution_count": null,
      "outputs": [
        {
          "output_type": "stream",
          "text": [
            "[2, 3, 4, 5, 6, 7, 8, 9, 10, 11]\n"
          ],
          "name": "stdout"
        }
      ]
    },
    {
      "cell_type": "code",
      "metadata": {
        "id": "rWbYn0X_k-3H"
      },
      "source": [
        ""
      ],
      "execution_count": null,
      "outputs": []
    },
    {
      "cell_type": "markdown",
      "metadata": {
        "id": "vpxPOA4Wk-3H"
      },
      "source": [
        "2). Multiply element-wise the lists 'a' and 'b'. Show the result as another list.\n",
        "\n",
        "a = [2, 4, 6, 8, 10]\n",
        "\n",
        "b = [10, 8, 6, 4, 2]"
      ]
    },
    {
      "cell_type": "code",
      "metadata": {
        "colab": {
          "base_uri": "https://localhost:8080/"
        },
        "id": "YuX6Xb5jk-3I",
        "outputId": "0a13efe8-0561-456f-e929-adeb82a9d6b5"
      },
      "source": [
        "a = [2, 4, 6, 8, 10]\n",
        "\n",
        "b = [10, 8, 6, 4, 2]\n",
        "\n",
        "c = list(map(lambda a,b : a*b , a , b))\n",
        "\n",
        "print(c)"
      ],
      "execution_count": null,
      "outputs": [
        {
          "output_type": "stream",
          "text": [
            "[20, 32, 36, 32, 20]\n"
          ],
          "name": "stdout"
        }
      ]
    },
    {
      "cell_type": "code",
      "metadata": {
        "id": "Wo03ec8Kk-3J"
      },
      "source": [
        ""
      ],
      "execution_count": null,
      "outputs": []
    },
    {
      "cell_type": "code",
      "metadata": {
        "id": "5i6UM1ink-3K"
      },
      "source": [
        ""
      ],
      "execution_count": null,
      "outputs": []
    },
    {
      "cell_type": "markdown",
      "metadata": {
        "id": "vVKijvjpk-3L"
      },
      "source": [
        "#### Use a lambda function and filter() to answer the following questions."
      ]
    },
    {
      "cell_type": "markdown",
      "metadata": {
        "id": "B4Ao1ffwk-3L"
      },
      "source": [
        "3). Find the multiples of 5 in the range 1~100. Show the result as a list."
      ]
    },
    {
      "cell_type": "code",
      "metadata": {
        "colab": {
          "base_uri": "https://localhost:8080/"
        },
        "id": "Pg9avsjPk-3M",
        "outputId": "bbbb592e-683a-4e41-cab6-74bb1ac511f4"
      },
      "source": [
        "l1 = list(filter(lambda a : a%5 == 0 , range(0,100+1)))\n",
        "\n",
        "print(l1)"
      ],
      "execution_count": null,
      "outputs": [
        {
          "output_type": "stream",
          "text": [
            "[0, 5, 10, 15, 20, 25, 30, 35, 40, 45, 50, 55, 60, 65, 70, 75, 80, 85, 90, 95, 100]\n"
          ],
          "name": "stdout"
        }
      ]
    },
    {
      "cell_type": "code",
      "metadata": {
        "id": "EPiCLp6Jk-3M"
      },
      "source": [
        ""
      ],
      "execution_count": null,
      "outputs": []
    },
    {
      "cell_type": "markdown",
      "metadata": {
        "id": "v0CX6cFHk-3N"
      },
      "source": [
        "4). In the following list, find the values larger than 160. Show the result as a list.\n",
        "\n",
        "a = [145.2, 160.3, 155.2, 171.6, 165.34, 167.2, 161.1, 164.9]"
      ]
    },
    {
      "cell_type": "code",
      "metadata": {
        "colab": {
          "base_uri": "https://localhost:8080/"
        },
        "id": "8q6V15fwk-3N",
        "outputId": "2ddcbab0-47b0-4cdd-d7b8-b65241bfb214"
      },
      "source": [
        "a = [145.2, 160.3, 155.2, 171.6, 165.34, 167.2, 161.1, 164.9]\n",
        "l2 = list(filter(lambda a : a>160 , a ))\n",
        "\n",
        "print(l2)"
      ],
      "execution_count": null,
      "outputs": [
        {
          "output_type": "stream",
          "text": [
            "[160.3, 171.6, 165.34, 167.2, 161.1, 164.9]\n"
          ],
          "name": "stdout"
        }
      ]
    },
    {
      "cell_type": "code",
      "metadata": {
        "id": "62WCSBwLk-3O"
      },
      "source": [
        ""
      ],
      "execution_count": null,
      "outputs": []
    },
    {
      "cell_type": "markdown",
      "metadata": {
        "id": "zj02QiPzk-3O"
      },
      "source": [
        "5). In the following list, find the values larger than 160 and smaller than 165. Show the result as a list.\n",
        "\n",
        "a = [145.2, 160.3, 155.2, 171.6, 165.34, 167.2, 161.1, 164.9]"
      ]
    },
    {
      "cell_type": "code",
      "metadata": {
        "colab": {
          "base_uri": "https://localhost:8080/"
        },
        "id": "CC4S4ik8k-3P",
        "outputId": "01743a6c-6c19-4183-a6f0-f252fde6c65a"
      },
      "source": [
        "a = [145.2, 160.3, 155.2, 171.6, 165.34, 167.2, 161.1, 164.9]\n",
        "l3 = list(filter(lambda a : a>160 and a<165, a ))\n",
        "\n",
        "print(l3)"
      ],
      "execution_count": null,
      "outputs": [
        {
          "output_type": "stream",
          "text": [
            "[160.3, 161.1, 164.9]\n"
          ],
          "name": "stdout"
        }
      ]
    },
    {
      "cell_type": "code",
      "metadata": {
        "id": "fLHmr7Iqk-3P"
      },
      "source": [
        ""
      ],
      "execution_count": null,
      "outputs": []
    },
    {
      "cell_type": "markdown",
      "metadata": {
        "id": "Hpy0bLfdk-3P"
      },
      "source": [
        "6). In the following list of names, extract only those stargin with 'J'. Show the result as a list.\n",
        "\n",
        "a = ['Sara', 'Jack', 'Rebecca', 'Jennifer', 'Paul', 'Andrew', 'John']"
      ]
    },
    {
      "cell_type": "code",
      "metadata": {
        "colab": {
          "base_uri": "https://localhost:8080/"
        },
        "id": "s2KzICerk-3Q",
        "outputId": "889c4546-6e99-43d0-df8b-e3178015efb0"
      },
      "source": [
        "a = ['Sara', 'Jack', 'Rebecca', 'Jennifer', 'Paul', 'Andrew', 'John']\n",
        "l4 = list(filter(lambda str : str[0] == \"J\" , a))\n",
        "\n",
        "print(l4)"
      ],
      "execution_count": null,
      "outputs": [
        {
          "output_type": "stream",
          "text": [
            "['Jack', 'Jennifer', 'John']\n"
          ],
          "name": "stdout"
        }
      ]
    },
    {
      "cell_type": "code",
      "metadata": {
        "id": "IttzjqUZk-3Q"
      },
      "source": [
        ""
      ],
      "execution_count": null,
      "outputs": []
    }
  ]
}