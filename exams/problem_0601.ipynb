{
  "nbformat": 4,
  "nbformat_minor": 0,
  "metadata": {
    "kernelspec": {
      "display_name": "Python 3",
      "language": "python",
      "name": "python3"
    },
    "language_info": {
      "codemirror_mode": {
        "name": "ipython",
        "version": 3
      },
      "file_extension": ".py",
      "mimetype": "text/x-python",
      "name": "python",
      "nbconvert_exporter": "python",
      "pygments_lexer": "ipython3",
      "version": "3.7.3"
    },
    "colab": {
      "name": "problem_0601.ipynb",
      "provenance": [],
      "collapsed_sections": []
    }
  },
  "cells": [
    {
      "cell_type": "markdown",
      "metadata": {
        "id": "C78ysjnnhLAJ"
      },
      "source": [
        "## Coding Problem #0601"
      ]
    },
    {
      "cell_type": "markdown",
      "metadata": {
        "id": "nIh-q_cmhLAP"
      },
      "source": [
        "### \"NLP Classification Analysis.\""
      ]
    },
    {
      "cell_type": "markdown",
      "metadata": {
        "id": "YD7Kxnq7hLAQ"
      },
      "source": [
        "#### Answer the following questions by providing Python code:\n",
        "#### Objectives:\n",
        "- Pre-processing of text data.\n",
        "- Create a TF IDF representation.\n",
        "- Carry out the predictive analysis using the Naive Bayes algorithm. "
      ]
    },
    {
      "cell_type": "code",
      "metadata": {
        "id": "PvixsqYvhLAS"
      },
      "source": [
        "import numpy as np\n",
        "import re\n",
        "import nltk\n",
        "import seaborn as sns\n",
        "import matplotlib.pyplot as plt\n",
        "import warnings\n",
        "from nltk.corpus import stopwords\n",
        "from sklearn.datasets import load_files\n",
        "from sklearn.model_selection import train_test_split\n",
        "from sklearn.feature_extraction.text import TfidfVectorizer\n",
        "from sklearn.naive_bayes import GaussianNB\n",
        "from sklearn.metrics import confusion_matrix\n",
        "from sklearn.metrics import accuracy_score\n",
        "warnings.filterwarnings('ignore')               # Turn the warnings off."
      ],
      "execution_count": 152,
      "outputs": []
    },
    {
      "cell_type": "markdown",
      "metadata": {
        "id": "_9D1OsUrhLAU"
      },
      "source": [
        "#### Read in data:\n",
        "Movie review data from Cornell CS department. <br>\n",
        "- The data can be found [here](https://www.cs.cornell.edu/people/pabo/movie-review-data). <br>\n",
        "- Download the “polarity dataset” and unzip. <br>\n",
        "- Under the \"txt_sentoken” folder, there are “pos” and “neg\" subfolders. <br>"
      ]
    },
    {
      "cell_type": "code",
      "metadata": {
        "id": "Tzh0szbWhLAW"
      },
      "source": [
        "# Specify the folder and read in the subfolders.\n",
        "reviews = load_files('txt_sentoken/')\n",
        "my_docs, y = reviews.data, reviews.target"
      ],
      "execution_count": 153,
      "outputs": []
    },
    {
      "cell_type": "code",
      "metadata": {
        "id": "LKNomYLlhLAX",
        "colab": {
          "base_uri": "https://localhost:8080/"
        },
        "outputId": "6fc992e1-428a-44a1-cb08-f81aef75d550"
      },
      "source": [
        "len(my_docs)"
      ],
      "execution_count": 154,
      "outputs": [
        {
          "output_type": "execute_result",
          "data": {
            "text/plain": [
              "1017"
            ]
          },
          "metadata": {},
          "execution_count": 154
        }
      ]
    },
    {
      "cell_type": "code",
      "metadata": {
        "colab": {
          "base_uri": "https://localhost:8080/"
        },
        "id": "41R_DWdje0sI",
        "outputId": "3ad29737-85ac-4e95-9a85-609aa2b472a9"
      },
      "source": [
        "y.shape"
      ],
      "execution_count": 155,
      "outputs": [
        {
          "output_type": "execute_result",
          "data": {
            "text/plain": [
              "(1017,)"
            ]
          },
          "metadata": {},
          "execution_count": 155
        }
      ]
    },
    {
      "cell_type": "code",
      "metadata": {
        "id": "FKk5yrPghLAZ",
        "colab": {
          "base_uri": "https://localhost:8080/"
        },
        "outputId": "f4090153-bef6-480e-fd7b-3328971af8d1"
      },
      "source": [
        "np.unique(y, return_counts=True)"
      ],
      "execution_count": 156,
      "outputs": [
        {
          "output_type": "execute_result",
          "data": {
            "text/plain": [
              "(array([1, 2]), array([1000,   17]))"
            ]
          },
          "metadata": {},
          "execution_count": 156
        }
      ]
    },
    {
      "cell_type": "code",
      "metadata": {
        "id": "N962Q4EphLAa",
        "colab": {
          "base_uri": "https://localhost:8080/",
          "height": 281
        },
        "outputId": "7ed7337e-44bf-439c-86ad-7f71ce03a62d"
      },
      "source": [
        "# Visualize the response variable.\n",
        "sns.countplot(y).set_title(\"Frequency Table\")\n",
        "plt.show()"
      ],
      "execution_count": 157,
      "outputs": [
        {
          "output_type": "display_data",
          "data": {
            "image/png": "[encoded data removed]",
            "text/plain": [
              "<Figure size 432x288 with 1 Axes>"
            ]
          },
          "metadata": {
            "needs_background": "light"
          }
        }
      ]
    },
    {
      "cell_type": "markdown",
      "metadata": {
        "id": "CepXD3AfhLAc"
      },
      "source": [
        "1). Carry out the data pre-processing:"
      ]
    },
    {
      "cell_type": "code",
      "metadata": {
        "colab": {
          "base_uri": "https://localhost:8080/"
        },
        "id": "shz71CZ8gYmT",
        "outputId": "6bfc551c-961d-4ccb-d36f-cdfbecdbcb07"
      },
      "source": [
        "nltk.download('stopwords')\n",
        "# collecting english stop words from nltk-library\n",
        "stpw = stopwords.words('english')\n",
        "    \n",
        "# Adding custom stop-words\n",
        "stpw.extend(['www','http','utc'])\n",
        "stpw = set(stpw)"
      ],
      "execution_count": 158,
      "outputs": [
        {
          "output_type": "stream",
          "name": "stdout",
          "text": [
            "[nltk_data] Downloading package stopwords to /root/nltk_data...\n",
            "[nltk_data]   Package stopwords is already up-to-date!\n"
          ]
        }
      ]
    },
    {
      "cell_type": "code",
      "metadata": {
        "id": "5cD0e1UOmD1R"
      },
      "source": [
        "new_text = [x.decode('utf-8') for x in my_docs]"
      ],
      "execution_count": 159,
      "outputs": []
    },
    {
      "cell_type": "code",
      "metadata": {
        "colab": {
          "base_uri": "https://localhost:8080/"
        },
        "id": "Nx_CmydYlkpD",
        "outputId": "3d733e34-7c2a-4e14-9d43-4d96d8ca7a5e"
      },
      "source": [
        "len(new_text)"
      ],
      "execution_count": 160,
      "outputs": [
        {
          "output_type": "execute_result",
          "data": {
            "text/plain": [
              "1017"
            ]
          },
          "metadata": {},
          "execution_count": 160
        }
      ]
    },
    {
      "cell_type": "markdown",
      "metadata": {
        "id": "2h_gM-lzu4gr"
      },
      "source": [
        "Using regex to clean the text"
      ]
    },
    {
      "cell_type": "code",
      "metadata": {
        "id": "ASaWRt3OhLAd"
      },
      "source": [
        "for i in range(len(new_text)) : \n",
        "  # remove special characters/symbols\n",
        "  new_text[i] = re.sub(r\"\\n\", \" \", new_text[i]) \n",
        "  new_text[i] = re.sub(\"[\\<\\[].*?[\\>\\]]\", \" \", new_text[i])\n",
        "  #convert text to lower-case\n",
        "  new_text[i] = new_text[i].lower()\n",
        "  #retain only alphabets\n",
        "  new_text[i] = re.sub(r\"[^a-z ]\", \" \", new_text[i])\n",
        "  #remove words less than 3 characters\n",
        "  new_text[i] = re.sub(r\"\\b\\w{1,3}\\b\", \" \",new_text[i])\n",
        "  #remove stop-words\n",
        "  new_text[i] = \" \".join([x for x in new_text[i].split() if x not in stpw])"
      ],
      "execution_count": 167,
      "outputs": []
    },
    {
      "cell_type": "code",
      "metadata": {
        "id": "mZPCku7Sn3vk"
      },
      "source": [
        "X = new_text"
      ],
      "execution_count": 168,
      "outputs": []
    },
    {
      "cell_type": "markdown",
      "metadata": {
        "id": "Xokt070xhLAd"
      },
      "source": [
        "2). Create a TF IDF representation."
      ]
    },
    {
      "cell_type": "code",
      "metadata": {
        "id": "JYvem45XhLAe"
      },
      "source": [
        "vect = TfidfVectorizer(decode_error='ignore',stop_words='english')\n",
        "X = vect.fit_transform(X)\n",
        "X = X.toarray()"
      ],
      "execution_count": 169,
      "outputs": []
    },
    {
      "cell_type": "markdown",
      "metadata": {
        "id": "E0j9Fo2xhLAe"
      },
      "source": [
        "3). Apply the Naive Bayes algorithm. Calculate the accuracy."
      ]
    },
    {
      "cell_type": "code",
      "metadata": {
        "id": "egDDpMUshLAf"
      },
      "source": [
        "X_train, X_test, Y_train, Y_test = train_test_split(X, y, test_size = 0.3, random_state = 1234)"
      ],
      "execution_count": 170,
      "outputs": []
    },
    {
      "cell_type": "code",
      "metadata": {
        "id": "mkBeEs0DZ-e6",
        "colab": {
          "base_uri": "https://localhost:8080/"
        },
        "outputId": "35ed7f54-c39b-44ea-9f67-37dda4ff9c4f"
      },
      "source": [
        "# Training.\n",
        "NB = GaussianNB()\n",
        "#your code goes here\n",
        "NB.fit(X_train, Y_train)"
      ],
      "execution_count": 171,
      "outputs": [
        {
          "output_type": "execute_result",
          "data": {
            "text/plain": [
              "GaussianNB(priors=None, var_smoothing=1e-09)"
            ]
          },
          "metadata": {},
          "execution_count": 171
        }
      ]
    },
    {
      "cell_type": "code",
      "metadata": {
        "id": "njvHZxk7aDrA",
        "colab": {
          "base_uri": "https://localhost:8080/",
          "height": 514
        },
        "outputId": "d7ffa2ed-4fc1-4e55-eeef-a56148997c83"
      },
      "source": [
        "# Testing.\n",
        "Y_pred = NB.predict(X_test)\n",
        " \n",
        " #use confusion matrix \n",
        "\n",
        "cm = confusion_matrix(Y_test, Y_pred)\n",
        "plt.figure(figsize = (8, 8))\n",
        "sns.heatmap(cm, annot=True,cmap=plt.cm.Blues)\n",
        "plt.ylabel('True label')\n",
        "plt.xlabel('Predicted label')\n",
        "plt.show()\n",
        "\n",
        "#use accuracy_score\n",
        "print('accuracy :',metrics.accuracy_score(Y_test,Y_pred))"
      ],
      "execution_count": 172,
      "outputs": [
        {
          "output_type": "display_data",
          "data": {
            "image/png": "[encoded data removed]",
            "text/plain": [
              "<Figure size 576x576 with 2 Axes>"
            ]
          },
          "metadata": {
            "needs_background": "light"
          }
        },
        {
          "output_type": "stream",
          "name": "stdout",
          "text": [
            "accuracy : 0.9771241830065359\n"
          ]
        }
      ]
    }
  ]
}