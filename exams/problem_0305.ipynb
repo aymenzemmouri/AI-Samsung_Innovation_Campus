{
  "nbformat": 4,
  "nbformat_minor": 0,
  "metadata": {
    "kernelspec": {
      "display_name": "Python 3",
      "language": "python",
      "name": "python3"
    },
    "language_info": {
      "codemirror_mode": {
        "name": "ipython",
        "version": 3
      },
      "file_extension": ".py",
      "mimetype": "text/x-python",
      "name": "python",
      "nbconvert_exporter": "python",
      "pygments_lexer": "ipython3",
      "version": "3.8.8"
    },
    "toc": {
      "base_numbering": 1,
      "nav_menu": {},
      "number_sections": true,
      "sideBar": true,
      "skip_h1_title": false,
      "title_cell": "Table of Contents",
      "title_sidebar": "Contents",
      "toc_cell": false,
      "toc_position": {},
      "toc_section_display": true,
      "toc_window_display": false
    },
    "varInspector": {
      "cols": {
        "lenName": 16,
        "lenType": 16,
        "lenVar": 40
      },
      "kernels_config": {
        "python": {
          "delete_cmd_postfix": "",
          "delete_cmd_prefix": "del ",
          "library": "var_list.py",
          "varRefreshCmd": "print(var_dic_list())"
        },
        "r": {
          "delete_cmd_postfix": ") ",
          "delete_cmd_prefix": "rm(",
          "library": "var_list.r",
          "varRefreshCmd": "cat(var_dic_list()) "
        }
      },
      "types_to_exclude": [
        "module",
        "function",
        "builtin_function_or_method",
        "instance",
        "_Feature"
      ],
      "window_display": false
    },
    "colab": {
      "name": "problem_0305.ipynb",
      "provenance": []
    }
  },
  "cells": [
    {
      "cell_type": "markdown",
      "metadata": {
        "id": "fcvOSOylGbrG"
      },
      "source": [
        "## Quiz #0305"
      ]
    },
    {
      "cell_type": "markdown",
      "metadata": {
        "id": "ykVZ8ofiGbrW"
      },
      "source": [
        "### \"Correlation and interval estimation\""
      ]
    },
    {
      "cell_type": "code",
      "metadata": {
        "id": "ehHLIgiMGbrY"
      },
      "source": [
        "import numpy as np\n",
        "import scipy.stats as st"
      ],
      "execution_count": null,
      "outputs": []
    },
    {
      "cell_type": "markdown",
      "metadata": {
        "id": "gYCJNXEcGbrb"
      },
      "source": [
        "#### Answer the following questions by providing Python code:"
      ]
    },
    {
      "cell_type": "markdown",
      "metadata": {
        "id": "M2aZK7GsGbrc"
      },
      "source": [
        "Calculate the 95% and 99% conficence intervals for the Pearson correlation. <br>\n",
        "Discuss whether the confidence interval includes zero or not."
      ]
    },
    {
      "cell_type": "markdown",
      "metadata": {
        "id": "lCfhUK9hGbrd"
      },
      "source": [
        "1). When the sample size $n = 30$ and the sample correlation $r = 0.45$:"
      ]
    },
    {
      "cell_type": "code",
      "metadata": {
        "id": "zJkcV3SJGbre"
      },
      "source": [
        "n=30\n",
        "r=0.45\n",
        "#The transformation of the correlation coefficient into a Fishers’ Z-score.\n",
        "z = np.arctanh(r)\n",
        "#Calculating SE\n",
        "std_error_z = 1/np.sqrt(n-3)"
      ],
      "execution_count": null,
      "outputs": []
    },
    {
      "cell_type": "code",
      "metadata": {
        "id": "fzD7e5T9Gbrg",
        "outputId": "509c91b8-b60a-49d6-e740-a241aa1f6120"
      },
      "source": [
        "# 95% confidence interval.\n",
        "{'low':np.tanh(z-st.norm.ppf(0.975)*std_error_z), 'high': np.tanh(z+st.norm.ppf(0.975)*std_error_z)}"
      ],
      "execution_count": null,
      "outputs": [
        {
          "output_type": "execute_result",
          "data": {
            "text/plain": [
              "{'low': 0.10709278247377603, 'high': 0.6972330057657298}"
            ]
          },
          "metadata": {
            "tags": []
          },
          "execution_count": 27
        }
      ]
    },
    {
      "cell_type": "markdown",
      "metadata": {
        "id": "qoPWsTGuGbrj"
      },
      "source": [
        "The confidence interval doesn't include 0"
      ]
    },
    {
      "cell_type": "code",
      "metadata": {
        "id": "kXpgvN9ZGbrk",
        "outputId": "1a0796bf-1232-4c5c-bc4a-b695cdc9a832"
      },
      "source": [
        "# 99% confidence interval. \n",
        "{'low':np.tanh(z-st.norm.ppf(0.995)*std_error_z), 'high': np.tanh(z+st.norm.ppf(0.995)*std_error_z)}"
      ],
      "execution_count": null,
      "outputs": [
        {
          "output_type": "execute_result",
          "data": {
            "text/plain": [
              "{'low': -0.011017856139532255, 'high': 0.7532471683684435}"
            ]
          },
          "metadata": {
            "tags": []
          },
          "execution_count": 28
        }
      ]
    },
    {
      "cell_type": "markdown",
      "metadata": {
        "id": "zg-FXv5ZGbrm"
      },
      "source": [
        "The confidence interval includes 0"
      ]
    },
    {
      "cell_type": "markdown",
      "metadata": {
        "id": "jSOdSHuNGbrm"
      },
      "source": [
        "2). When the sample size $n = 300$ and the sample correlation $r = -0.2$:"
      ]
    },
    {
      "cell_type": "code",
      "metadata": {
        "id": "a2ECc3_XGbrn"
      },
      "source": [
        "#he first step involves transformation of the correlation coefficient into a Fishers’ Z-score.\n",
        "n=300\n",
        "r=-0.2\n",
        "z = np.arctanh(r)\n",
        "#Calculating SE\n",
        "std_error_z = 1/np.sqrt(n-3)"
      ],
      "execution_count": null,
      "outputs": []
    },
    {
      "cell_type": "code",
      "metadata": {
        "id": "jqzPsJSdGbro",
        "outputId": "1f474585-382a-44f1-fa03-c72862e1ee06"
      },
      "source": [
        "# 95% confidence interval. \n",
        "{'low':np.tanh(z-st.norm.ppf(0.975)*std_error_z), 'high': np.tanh(z+st.norm.ppf(0.975)*std_error_z)}"
      ],
      "execution_count": null,
      "outputs": [
        {
          "output_type": "execute_result",
          "data": {
            "text/plain": [
              "{'low': -0.3063036232659099, 'high': -0.08876963035471497}"
            ]
          },
          "metadata": {
            "tags": []
          },
          "execution_count": 30
        }
      ]
    },
    {
      "cell_type": "markdown",
      "metadata": {
        "id": "zz4oZOmdGbrp"
      },
      "source": [
        "The confidence interval doesn't include 0"
      ]
    },
    {
      "cell_type": "code",
      "metadata": {
        "id": "4IZGYeY8Gbrp",
        "outputId": "db9f4f6c-686f-4d5f-e4ad-baf64e2780b9"
      },
      "source": [
        "# 99% confidence interval. \n",
        "{'low':np.tanh(z-st.norm.ppf(0.995)*std_error_z), 'high': np.tanh(z+st.norm.ppf(0.995)*std_error_z)}"
      ],
      "execution_count": null,
      "outputs": [
        {
          "output_type": "execute_result",
          "data": {
            "text/plain": [
              "{'low': -0.33832280715950935, 'high': -0.053217453740209496}"
            ]
          },
          "metadata": {
            "tags": []
          },
          "execution_count": 31
        }
      ]
    },
    {
      "cell_type": "markdown",
      "metadata": {
        "id": "4g4XKcoeGbrt"
      },
      "source": [
        "The confidence interval doesn't include 0"
      ]
    }
  ]
}