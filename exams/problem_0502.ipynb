{
  "nbformat": 4,
  "nbformat_minor": 0,
  "metadata": {
    "colab": {
      "name": "problem_0502-Copy1.ipynb",
      "provenance": [],
      "collapsed_sections": []
    },
    "kernelspec": {
      "display_name": "Python 3",
      "language": "python",
      "name": "python3"
    },
    "language_info": {
      "codemirror_mode": {
        "name": "ipython",
        "version": 3
      },
      "file_extension": ".py",
      "mimetype": "text/x-python",
      "name": "python",
      "nbconvert_exporter": "python",
      "pygments_lexer": "ipython3",
      "version": "3.8.8"
    }
  },
  "cells": [
    {
      "cell_type": "markdown",
      "metadata": {
        "id": "gc0c_QDyz9la"
      },
      "source": [
        "## Quiz #0502"
      ]
    },
    {
      "cell_type": "markdown",
      "metadata": {
        "id": "gg5-Q7hwz9lc"
      },
      "source": [
        "### \"Human Activity Recognition\" "
      ]
    },
    {
      "cell_type": "markdown",
      "metadata": {
        "id": "AK-HfZSVz9ld"
      },
      "source": [
        "#### Answer the following questions by providing Python code:\n",
        "#### Objectives:\n",
        "- Carry out the EDA.\n",
        "- Carry out the data pre-processing.\n",
        "- Optimize and test a predictive model of your choice."
      ]
    },
    {
      "cell_type": "code",
      "metadata": {
        "id": "09KTmndGz9ld"
      },
      "source": [
        "import numpy as np\n",
        "import pandas as pd\n",
        "import matplotlib.pyplot as plt\n",
        "import seaborn as sns\n",
        "import os\n",
        "import warnings\n",
        "from sklearn.model_selection import train_test_split, GridSearchCV\n",
        "from sklearn.neighbors import KNeighborsClassifier\n",
        "from sklearn.tree import DecisionTreeClassifier\n",
        "from sklearn.ensemble import RandomForestClassifier,AdaBoostClassifier, GradientBoostingClassifier\n",
        "from xgboost import XGBClassifier\n",
        "from sklearn import metrics, preprocessing\n",
        "warnings.filterwarnings(action='ignore')                  # Turn off the warnings.\n",
        "%matplotlib inline"
      ],
      "execution_count": 44,
      "outputs": []
    },
    {
      "cell_type": "markdown",
      "metadata": {
        "id": "uqIxoAEXz9le"
      },
      "source": [
        "#### Read in data:\n",
        "The explanation on the dataset can be found [here](https://archive.ics.uci.edu/ml/datasets/human+activity+recognition+using+smartphones)."
      ]
    },
    {
      "cell_type": "code",
      "metadata": {
        "id": "T4HTIdmuz9le"
      },
      "source": [
        "# Go to the directory where the data file is located. \n",
        "# os.chdir(r'~~')                # Please, replace the path with your own. "
      ],
      "execution_count": 2,
      "outputs": []
    },
    {
      "cell_type": "code",
      "metadata": {
        "id": "q9I9VS7Kz9lf"
      },
      "source": [
        "df = pd.read_csv('data_human activity recognition.csv', header='infer')"
      ],
      "execution_count": 45,
      "outputs": []
    },
    {
      "cell_type": "code",
      "metadata": {
        "id": "NYfBecxSz9lf",
        "colab": {
          "base_uri": "https://localhost:8080/"
        },
        "outputId": "f9921778-02de-486b-a730-04818ce60159"
      },
      "source": [
        "df.shape"
      ],
      "execution_count": 46,
      "outputs": [
        {
          "output_type": "execute_result",
          "data": {
            "text/plain": [
              "(19622, 160)"
            ]
          },
          "metadata": {},
          "execution_count": 46
        }
      ]
    },
    {
      "cell_type": "code",
      "metadata": {
        "id": "vb5_SYjjz9lf",
        "colab": {
          "base_uri": "https://localhost:8080/"
        },
        "outputId": "67b47de3-95fb-4ec7-9f75-c89828c53075"
      },
      "source": [
        "df.columns"
      ],
      "execution_count": 47,
      "outputs": [
        {
          "output_type": "execute_result",
          "data": {
            "text/plain": [
              "Index(['Unnamed: 0', 'user_name', 'raw_timestamp_part_1',\n",
              "       'raw_timestamp_part_2', 'cvtd_timestamp', 'new_window', 'num_window',\n",
              "       'roll_belt', 'pitch_belt', 'yaw_belt',\n",
              "       ...\n",
              "       'gyros_forearm_x', 'gyros_forearm_y', 'gyros_forearm_z',\n",
              "       'accel_forearm_x', 'accel_forearm_y', 'accel_forearm_z',\n",
              "       'magnet_forearm_x', 'magnet_forearm_y', 'magnet_forearm_z', 'classe'],\n",
              "      dtype='object', length=160)"
            ]
          },
          "metadata": {},
          "execution_count": 47
        }
      ]
    },
    {
      "cell_type": "markdown",
      "metadata": {
        "id": "lINfia61z9lf"
      },
      "source": [
        "1). Carry out the EDA. Check for the missing values. HINT: The response variable is 'classe'."
      ]
    },
    {
      "cell_type": "code",
      "metadata": {
        "id": "qW8fLXl6z9lf",
        "colab": {
          "base_uri": "https://localhost:8080/"
        },
        "outputId": "5d54fc5d-f111-4e77-9ac4-f8a84ae0b901"
      },
      "source": [
        "       # <Your code goes in here>\n",
        "#Checking for the missing values \n",
        "s = df.isnull().sum()\n",
        "s = s[s>0]\n",
        "print(s) # We see that there are 100 features with missing values"
      ],
      "execution_count": 48,
      "outputs": [
        {
          "output_type": "stream",
          "text": [
            "kurtosis_roll_belt      19216\n",
            "kurtosis_picth_belt     19216\n",
            "kurtosis_yaw_belt       19216\n",
            "skewness_roll_belt      19216\n",
            "skewness_roll_belt.1    19216\n",
            "                        ...  \n",
            "stddev_pitch_forearm    19216\n",
            "var_pitch_forearm       19216\n",
            "avg_yaw_forearm         19216\n",
            "stddev_yaw_forearm      19216\n",
            "var_yaw_forearm         19216\n",
            "Length: 100, dtype: int64\n"
          ],
          "name": "stdout"
        }
      ]
    },
    {
      "cell_type": "markdown",
      "metadata": {
        "id": "Nt97aqnfz9lg"
      },
      "source": [
        "2). Get rid of the columns that have more than 97% missing values."
      ]
    },
    {
      "cell_type": "code",
      "metadata": {
        "id": "RzdReEJdz9lg",
        "colab": {
          "base_uri": "https://localhost:8080/",
          "height": 275
        },
        "outputId": "137e2dfe-80fc-468d-838e-cf68c6c8bf16"
      },
      "source": [
        "       # <Your code goes in here>\n",
        "# Finding the columns with more than 97% missing values\n",
        "n_rows = df.shape[0]\n",
        "col = list(s[s>(97*n_rows/100)].index) #We get the index of these columns\n",
        "print(\"Number of columns to drop :\",len(col))\n",
        "df.drop(columns=col,inplace=True) #Dropping these columns\n",
        "print('There are :',int((df.isnull().sum().shape)[0]),'remaining columns ')\n",
        "df.head()"
      ],
      "execution_count": 49,
      "outputs": [
        {
          "output_type": "stream",
          "text": [
            "Number of columns to drop : 100\n",
            "There are : 60 remaining columns \n"
          ],
          "name": "stdout"
        },
        {
          "output_type": "execute_result",
          "data": {
            "text/html": [
              "<div>\n",
              "<style scoped>\n",
              "    .dataframe tbody tr th:only-of-type {\n",
              "        vertical-align: middle;\n",
              "    }\n",
              "\n",
              "    .dataframe tbody tr th {\n",
              "        vertical-align: top;\n",
              "    }\n",
              "\n",
              "    .dataframe thead th {\n",
              "        text-align: right;\n",
              "    }\n",
              "</style>\n",
              "<table border=\"1\" class=\"dataframe\">\n",
              "  <thead>\n",
              "    <tr style=\"text-align: right;\">\n",
              "      <th></th>\n",
              "      <th>Unnamed: 0</th>\n",
              "      <th>user_name</th>\n",
              "      <th>raw_timestamp_part_1</th>\n",
              "      <th>raw_timestamp_part_2</th>\n",
              "      <th>cvtd_timestamp</th>\n",
              "      <th>new_window</th>\n",
              "      <th>num_window</th>\n",
              "      <th>roll_belt</th>\n",
              "      <th>pitch_belt</th>\n",
              "      <th>yaw_belt</th>\n",
              "      <th>total_accel_belt</th>\n",
              "      <th>gyros_belt_x</th>\n",
              "      <th>gyros_belt_y</th>\n",
              "      <th>gyros_belt_z</th>\n",
              "      <th>accel_belt_x</th>\n",
              "      <th>accel_belt_y</th>\n",
              "      <th>accel_belt_z</th>\n",
              "      <th>magnet_belt_x</th>\n",
              "      <th>magnet_belt_y</th>\n",
              "      <th>magnet_belt_z</th>\n",
              "      <th>roll_arm</th>\n",
              "      <th>pitch_arm</th>\n",
              "      <th>yaw_arm</th>\n",
              "      <th>total_accel_arm</th>\n",
              "      <th>gyros_arm_x</th>\n",
              "      <th>gyros_arm_y</th>\n",
              "      <th>gyros_arm_z</th>\n",
              "      <th>accel_arm_x</th>\n",
              "      <th>accel_arm_y</th>\n",
              "      <th>accel_arm_z</th>\n",
              "      <th>magnet_arm_x</th>\n",
              "      <th>magnet_arm_y</th>\n",
              "      <th>magnet_arm_z</th>\n",
              "      <th>roll_dumbbell</th>\n",
              "      <th>pitch_dumbbell</th>\n",
              "      <th>yaw_dumbbell</th>\n",
              "      <th>total_accel_dumbbell</th>\n",
              "      <th>gyros_dumbbell_x</th>\n",
              "      <th>gyros_dumbbell_y</th>\n",
              "      <th>gyros_dumbbell_z</th>\n",
              "      <th>accel_dumbbell_x</th>\n",
              "      <th>accel_dumbbell_y</th>\n",
              "      <th>accel_dumbbell_z</th>\n",
              "      <th>magnet_dumbbell_x</th>\n",
              "      <th>magnet_dumbbell_y</th>\n",
              "      <th>magnet_dumbbell_z</th>\n",
              "      <th>roll_forearm</th>\n",
              "      <th>pitch_forearm</th>\n",
              "      <th>yaw_forearm</th>\n",
              "      <th>total_accel_forearm</th>\n",
              "      <th>gyros_forearm_x</th>\n",
              "      <th>gyros_forearm_y</th>\n",
              "      <th>gyros_forearm_z</th>\n",
              "      <th>accel_forearm_x</th>\n",
              "      <th>accel_forearm_y</th>\n",
              "      <th>accel_forearm_z</th>\n",
              "      <th>magnet_forearm_x</th>\n",
              "      <th>magnet_forearm_y</th>\n",
              "      <th>magnet_forearm_z</th>\n",
              "      <th>classe</th>\n",
              "    </tr>\n",
              "  </thead>\n",
              "  <tbody>\n",
              "    <tr>\n",
              "      <th>0</th>\n",
              "      <td>1</td>\n",
              "      <td>carlitos</td>\n",
              "      <td>1323084231</td>\n",
              "      <td>788290</td>\n",
              "      <td>05/12/2011 11:23</td>\n",
              "      <td>no</td>\n",
              "      <td>11</td>\n",
              "      <td>1.41</td>\n",
              "      <td>8.07</td>\n",
              "      <td>-94.4</td>\n",
              "      <td>3</td>\n",
              "      <td>0.00</td>\n",
              "      <td>0.00</td>\n",
              "      <td>-0.02</td>\n",
              "      <td>-21</td>\n",
              "      <td>4</td>\n",
              "      <td>22</td>\n",
              "      <td>-3</td>\n",
              "      <td>599</td>\n",
              "      <td>-313</td>\n",
              "      <td>-128.0</td>\n",
              "      <td>22.5</td>\n",
              "      <td>-161.0</td>\n",
              "      <td>34</td>\n",
              "      <td>0.00</td>\n",
              "      <td>0.00</td>\n",
              "      <td>-0.02</td>\n",
              "      <td>-288</td>\n",
              "      <td>109</td>\n",
              "      <td>-123</td>\n",
              "      <td>-368</td>\n",
              "      <td>337</td>\n",
              "      <td>516</td>\n",
              "      <td>13.052175</td>\n",
              "      <td>-70.494004</td>\n",
              "      <td>-84.873939</td>\n",
              "      <td>37</td>\n",
              "      <td>0.0</td>\n",
              "      <td>-0.02</td>\n",
              "      <td>0.00</td>\n",
              "      <td>-234</td>\n",
              "      <td>47</td>\n",
              "      <td>-271</td>\n",
              "      <td>-559</td>\n",
              "      <td>293</td>\n",
              "      <td>-65.0</td>\n",
              "      <td>28.4</td>\n",
              "      <td>-63.9</td>\n",
              "      <td>-153.0</td>\n",
              "      <td>36</td>\n",
              "      <td>0.03</td>\n",
              "      <td>0.00</td>\n",
              "      <td>-0.02</td>\n",
              "      <td>192</td>\n",
              "      <td>203</td>\n",
              "      <td>-215</td>\n",
              "      <td>-17</td>\n",
              "      <td>654.0</td>\n",
              "      <td>476.0</td>\n",
              "      <td>A</td>\n",
              "    </tr>\n",
              "    <tr>\n",
              "      <th>1</th>\n",
              "      <td>2</td>\n",
              "      <td>carlitos</td>\n",
              "      <td>1323084231</td>\n",
              "      <td>808298</td>\n",
              "      <td>05/12/2011 11:23</td>\n",
              "      <td>no</td>\n",
              "      <td>11</td>\n",
              "      <td>1.41</td>\n",
              "      <td>8.07</td>\n",
              "      <td>-94.4</td>\n",
              "      <td>3</td>\n",
              "      <td>0.02</td>\n",
              "      <td>0.00</td>\n",
              "      <td>-0.02</td>\n",
              "      <td>-22</td>\n",
              "      <td>4</td>\n",
              "      <td>22</td>\n",
              "      <td>-7</td>\n",
              "      <td>608</td>\n",
              "      <td>-311</td>\n",
              "      <td>-128.0</td>\n",
              "      <td>22.5</td>\n",
              "      <td>-161.0</td>\n",
              "      <td>34</td>\n",
              "      <td>0.02</td>\n",
              "      <td>-0.02</td>\n",
              "      <td>-0.02</td>\n",
              "      <td>-290</td>\n",
              "      <td>110</td>\n",
              "      <td>-125</td>\n",
              "      <td>-369</td>\n",
              "      <td>337</td>\n",
              "      <td>513</td>\n",
              "      <td>13.130740</td>\n",
              "      <td>-70.637505</td>\n",
              "      <td>-84.710647</td>\n",
              "      <td>37</td>\n",
              "      <td>0.0</td>\n",
              "      <td>-0.02</td>\n",
              "      <td>0.00</td>\n",
              "      <td>-233</td>\n",
              "      <td>47</td>\n",
              "      <td>-269</td>\n",
              "      <td>-555</td>\n",
              "      <td>296</td>\n",
              "      <td>-64.0</td>\n",
              "      <td>28.3</td>\n",
              "      <td>-63.9</td>\n",
              "      <td>-153.0</td>\n",
              "      <td>36</td>\n",
              "      <td>0.02</td>\n",
              "      <td>0.00</td>\n",
              "      <td>-0.02</td>\n",
              "      <td>192</td>\n",
              "      <td>203</td>\n",
              "      <td>-216</td>\n",
              "      <td>-18</td>\n",
              "      <td>661.0</td>\n",
              "      <td>473.0</td>\n",
              "      <td>A</td>\n",
              "    </tr>\n",
              "    <tr>\n",
              "      <th>2</th>\n",
              "      <td>3</td>\n",
              "      <td>carlitos</td>\n",
              "      <td>1323084231</td>\n",
              "      <td>820366</td>\n",
              "      <td>05/12/2011 11:23</td>\n",
              "      <td>no</td>\n",
              "      <td>11</td>\n",
              "      <td>1.42</td>\n",
              "      <td>8.07</td>\n",
              "      <td>-94.4</td>\n",
              "      <td>3</td>\n",
              "      <td>0.00</td>\n",
              "      <td>0.00</td>\n",
              "      <td>-0.02</td>\n",
              "      <td>-20</td>\n",
              "      <td>5</td>\n",
              "      <td>23</td>\n",
              "      <td>-2</td>\n",
              "      <td>600</td>\n",
              "      <td>-305</td>\n",
              "      <td>-128.0</td>\n",
              "      <td>22.5</td>\n",
              "      <td>-161.0</td>\n",
              "      <td>34</td>\n",
              "      <td>0.02</td>\n",
              "      <td>-0.02</td>\n",
              "      <td>-0.02</td>\n",
              "      <td>-289</td>\n",
              "      <td>110</td>\n",
              "      <td>-126</td>\n",
              "      <td>-368</td>\n",
              "      <td>344</td>\n",
              "      <td>513</td>\n",
              "      <td>12.850750</td>\n",
              "      <td>-70.278120</td>\n",
              "      <td>-85.140781</td>\n",
              "      <td>37</td>\n",
              "      <td>0.0</td>\n",
              "      <td>-0.02</td>\n",
              "      <td>0.00</td>\n",
              "      <td>-232</td>\n",
              "      <td>46</td>\n",
              "      <td>-270</td>\n",
              "      <td>-561</td>\n",
              "      <td>298</td>\n",
              "      <td>-63.0</td>\n",
              "      <td>28.3</td>\n",
              "      <td>-63.9</td>\n",
              "      <td>-152.0</td>\n",
              "      <td>36</td>\n",
              "      <td>0.03</td>\n",
              "      <td>-0.02</td>\n",
              "      <td>0.00</td>\n",
              "      <td>196</td>\n",
              "      <td>204</td>\n",
              "      <td>-213</td>\n",
              "      <td>-18</td>\n",
              "      <td>658.0</td>\n",
              "      <td>469.0</td>\n",
              "      <td>A</td>\n",
              "    </tr>\n",
              "    <tr>\n",
              "      <th>3</th>\n",
              "      <td>4</td>\n",
              "      <td>carlitos</td>\n",
              "      <td>1323084232</td>\n",
              "      <td>120339</td>\n",
              "      <td>05/12/2011 11:23</td>\n",
              "      <td>no</td>\n",
              "      <td>12</td>\n",
              "      <td>1.48</td>\n",
              "      <td>8.05</td>\n",
              "      <td>-94.4</td>\n",
              "      <td>3</td>\n",
              "      <td>0.02</td>\n",
              "      <td>0.00</td>\n",
              "      <td>-0.03</td>\n",
              "      <td>-22</td>\n",
              "      <td>3</td>\n",
              "      <td>21</td>\n",
              "      <td>-6</td>\n",
              "      <td>604</td>\n",
              "      <td>-310</td>\n",
              "      <td>-128.0</td>\n",
              "      <td>22.1</td>\n",
              "      <td>-161.0</td>\n",
              "      <td>34</td>\n",
              "      <td>0.02</td>\n",
              "      <td>-0.03</td>\n",
              "      <td>0.02</td>\n",
              "      <td>-289</td>\n",
              "      <td>111</td>\n",
              "      <td>-123</td>\n",
              "      <td>-372</td>\n",
              "      <td>344</td>\n",
              "      <td>512</td>\n",
              "      <td>13.431200</td>\n",
              "      <td>-70.393795</td>\n",
              "      <td>-84.873626</td>\n",
              "      <td>37</td>\n",
              "      <td>0.0</td>\n",
              "      <td>-0.02</td>\n",
              "      <td>-0.02</td>\n",
              "      <td>-232</td>\n",
              "      <td>48</td>\n",
              "      <td>-269</td>\n",
              "      <td>-552</td>\n",
              "      <td>303</td>\n",
              "      <td>-60.0</td>\n",
              "      <td>28.1</td>\n",
              "      <td>-63.9</td>\n",
              "      <td>-152.0</td>\n",
              "      <td>36</td>\n",
              "      <td>0.02</td>\n",
              "      <td>-0.02</td>\n",
              "      <td>0.00</td>\n",
              "      <td>189</td>\n",
              "      <td>206</td>\n",
              "      <td>-214</td>\n",
              "      <td>-16</td>\n",
              "      <td>658.0</td>\n",
              "      <td>469.0</td>\n",
              "      <td>A</td>\n",
              "    </tr>\n",
              "    <tr>\n",
              "      <th>4</th>\n",
              "      <td>5</td>\n",
              "      <td>carlitos</td>\n",
              "      <td>1323084232</td>\n",
              "      <td>196328</td>\n",
              "      <td>05/12/2011 11:23</td>\n",
              "      <td>no</td>\n",
              "      <td>12</td>\n",
              "      <td>1.48</td>\n",
              "      <td>8.07</td>\n",
              "      <td>-94.4</td>\n",
              "      <td>3</td>\n",
              "      <td>0.02</td>\n",
              "      <td>0.02</td>\n",
              "      <td>-0.02</td>\n",
              "      <td>-21</td>\n",
              "      <td>2</td>\n",
              "      <td>24</td>\n",
              "      <td>-6</td>\n",
              "      <td>600</td>\n",
              "      <td>-302</td>\n",
              "      <td>-128.0</td>\n",
              "      <td>22.1</td>\n",
              "      <td>-161.0</td>\n",
              "      <td>34</td>\n",
              "      <td>0.00</td>\n",
              "      <td>-0.03</td>\n",
              "      <td>0.00</td>\n",
              "      <td>-289</td>\n",
              "      <td>111</td>\n",
              "      <td>-123</td>\n",
              "      <td>-374</td>\n",
              "      <td>337</td>\n",
              "      <td>506</td>\n",
              "      <td>13.378716</td>\n",
              "      <td>-70.428560</td>\n",
              "      <td>-84.853057</td>\n",
              "      <td>37</td>\n",
              "      <td>0.0</td>\n",
              "      <td>-0.02</td>\n",
              "      <td>0.00</td>\n",
              "      <td>-233</td>\n",
              "      <td>48</td>\n",
              "      <td>-270</td>\n",
              "      <td>-554</td>\n",
              "      <td>292</td>\n",
              "      <td>-68.0</td>\n",
              "      <td>28.0</td>\n",
              "      <td>-63.9</td>\n",
              "      <td>-152.0</td>\n",
              "      <td>36</td>\n",
              "      <td>0.02</td>\n",
              "      <td>0.00</td>\n",
              "      <td>-0.02</td>\n",
              "      <td>189</td>\n",
              "      <td>206</td>\n",
              "      <td>-214</td>\n",
              "      <td>-17</td>\n",
              "      <td>655.0</td>\n",
              "      <td>473.0</td>\n",
              "      <td>A</td>\n",
              "    </tr>\n",
              "  </tbody>\n",
              "</table>\n",
              "</div>"
            ],
            "text/plain": [
              "   Unnamed: 0 user_name  ...  magnet_forearm_z  classe\n",
              "0           1  carlitos  ...             476.0       A\n",
              "1           2  carlitos  ...             473.0       A\n",
              "2           3  carlitos  ...             469.0       A\n",
              "3           4  carlitos  ...             469.0       A\n",
              "4           5  carlitos  ...             473.0       A\n",
              "\n",
              "[5 rows x 60 columns]"
            ]
          },
          "metadata": {},
          "execution_count": 49
        }
      ]
    },
    {
      "cell_type": "markdown",
      "metadata": {
        "id": "6buNE_iLz9lg"
      },
      "source": [
        "3). Get rid of the unnecessary columns. HINT: Those columns with \"time\" in the name and those that are obviously unnecessary."
      ]
    },
    {
      "cell_type": "code",
      "metadata": {
        "id": "mqxZ4VpHz9lg"
      },
      "source": [
        "       # <Your code goes in here>\n",
        "df.drop(columns='Unnamed: 0',inplace=True)\n",
        "df.drop(columns=df.columns[df.columns.str.contains('time')],inplace=True)"
      ],
      "execution_count": 50,
      "outputs": []
    },
    {
      "cell_type": "markdown",
      "metadata": {
        "id": "pPrtMUQFz9lg"
      },
      "source": [
        "4). Label encode the responde variable. HINT: use preprocessing.LabelEncoder(). "
      ]
    },
    {
      "cell_type": "code",
      "metadata": {
        "id": "A6ia2EiLz9lg",
        "colab": {
          "base_uri": "https://localhost:8080/"
        },
        "outputId": "fa05d6e8-4df0-416f-de79-d2a435f4de45"
      },
      "source": [
        "       # <Your code goes in here>\n",
        "from sklearn.preprocessing import LabelEncoder\n",
        "print('Before label encoding :',df['classe'].unique())\n",
        "le = LabelEncoder()\n",
        "df[\"classe\"] = le.fit_transform(df[\"classe\"])\n",
        "print('After label encoding :',df['classe'].unique())"
      ],
      "execution_count": 51,
      "outputs": [
        {
          "output_type": "stream",
          "text": [
            "Before label encoding : ['A' 'B' 'C' 'D' 'E']\n",
            "After label encoding : [0 1 2 3 4]\n"
          ],
          "name": "stdout"
        }
      ]
    },
    {
      "cell_type": "markdown",
      "metadata": {
        "id": "VXzVfW5dz9lh"
      },
      "source": [
        "5). Carry out min-max scaling of the exploratory variables. HINT: use preprocessing.MinMaxScaler()."
      ]
    },
    {
      "cell_type": "code",
      "metadata": {
        "id": "2qjhdLTUz9lh"
      },
      "source": [
        "       # <Your code goes in here>\n",
        "from sklearn.preprocessing import MinMaxScaler\n",
        "scaler = MinMaxScaler()\n",
        "col = list(df.drop('classe',axis=1).select_dtypes(include='number').columns) # selecting the numerical columns  \n",
        "df[col] = scaler.fit_transform(df[col])"
      ],
      "execution_count": 52,
      "outputs": []
    },
    {
      "cell_type": "markdown",
      "metadata": {
        "id": "wa_PK9C5z9lh"
      },
      "source": [
        "6). Choose an algorithm and carry out the predictive analysis.\n",
        "\n",
        "- Optimize the hyperparameter(s)\n",
        "- Calculate the accuracy.\n",
        "- Aim for upper 90% accuracy."
      ]
    },
    {
      "cell_type": "code",
      "metadata": {
        "id": "1dS0Ekmdz9lh",
        "colab": {
          "base_uri": "https://localhost:8080/"
        },
        "outputId": "6232cc54-d2d5-43fe-a6ff-82b9e516d751"
      },
      "source": [
        "       # <Your code goes in here>\n",
        "X=df[col]\n",
        "Y=df['classe']\n",
        "X_train, X_test, Y_train, Y_test = train_test_split(X, Y, test_size=0.2)\n",
        "\n",
        "#We choose the random forest algorithm\n",
        "RFC = RandomForestClassifier()\n",
        "#Optimizing the hyperparameters using GridSearchCV \n",
        "n_estimators = [10 , 50, 100, 300]\n",
        "max_depth = [5, 8, 15]\n",
        "\n",
        "param_dict = dict(n_estimators = n_estimators , max_depth=max_depth)\n",
        "\n",
        "gridF = GridSearchCV(RFC, param_dict, cv = 3, verbose = 1, \n",
        "                      n_jobs = -1)\n",
        "bestF = gridF.fit(X_train, Y_train)\n",
        "Y_pred = gridF.predict(X_test)\n",
        "print( \"Random Forest accuracy : \" + str(np.round(metrics.accuracy_score(Y_test,Y_pred),3)))\n",
        "print(\"The best parameters are :\",bestF.best_params_)"
      ],
      "execution_count": 54,
      "outputs": [
        {
          "output_type": "stream",
          "text": [
            "Fitting 3 folds for each of 12 candidates, totalling 36 fits\n"
          ],
          "name": "stdout"
        },
        {
          "output_type": "stream",
          "text": [
            "[Parallel(n_jobs=-1)]: Using backend LokyBackend with 2 concurrent workers.\n",
            "[Parallel(n_jobs=-1)]: Done  36 out of  36 | elapsed:  1.6min finished\n"
          ],
          "name": "stderr"
        },
        {
          "output_type": "stream",
          "text": [
            "Random Forest accuracy : 0.996\n",
            "The best parameters are : {'max_depth': 15, 'n_estimators': 300}\n"
          ],
          "name": "stdout"
        }
      ]
    }
  ]
}