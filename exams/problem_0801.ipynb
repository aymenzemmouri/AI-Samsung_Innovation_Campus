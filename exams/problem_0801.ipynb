{
  "nbformat": 4,
  "nbformat_minor": 0,
  "metadata": {
    "colab": {
      "name": "problem_0801.ipynb",
      "provenance": [],
      "collapsed_sections": []
    },
    "kernelspec": {
      "display_name": "Python 3",
      "language": "python",
      "name": "python3"
    },
    "language_info": {
      "codemirror_mode": {
        "name": "ipython",
        "version": 3
      },
      "file_extension": ".py",
      "mimetype": "text/x-python",
      "name": "python",
      "nbconvert_exporter": "python",
      "pygments_lexer": "ipython3",
      "version": "3.7.3"
    }
  },
  "cells": [
    {
      "cell_type": "markdown",
      "metadata": {
        "id": "FsxL_e2JnusZ"
      },
      "source": [
        "## Quiz #0801"
      ]
    },
    {
      "cell_type": "markdown",
      "metadata": {
        "id": "TGLZR7ZFnusi"
      },
      "source": [
        "### \"Text Classification with Keras\""
      ]
    },
    {
      "cell_type": "code",
      "metadata": {
        "id": "B9sECm6xnusk"
      },
      "source": [
        "import numpy as np\n",
        "import pandas as pd\n",
        "import re\n",
        "import nltk\n",
        "import os\n",
        "import seaborn as sns\n",
        "import matplotlib.pyplot as plt\n",
        "from nltk.corpus import stopwords\n",
        "from sklearn.datasets import load_files\n",
        "from sklearn.model_selection import train_test_split\n",
        "from keras.models import Sequential\n",
        "from keras.layers import Dense, SimpleRNN, LSTM, Embedding\n",
        "#from keras.utils import to_categorical\n",
        "from tensorflow.keras.utils import to_categorical\n",
        "from keras.preprocessing import sequence\n",
        "#from keras.optimizers import Adam, RMSprop, SGD\n",
        "from tensorflow.keras.optimizers import Adam, RMSprop, SGD\n",
        "#nltk.download('stopwords')\n",
        "import nltk\n",
        "nltk.download('punkt')\n",
        "import seaborn as sns"
      ],
      "execution_count": null,
      "outputs": []
    },
    {
      "cell_type": "markdown",
      "metadata": {
        "id": "-PDiT-Kjnusm"
      },
      "source": [
        "#### Answer the following question by providing Python code:"
      ]
    },
    {
      "cell_type": "markdown",
      "metadata": {
        "id": "J5MLkOq5nusn"
      },
      "source": [
        "1). Read in the movie review data from Cornell CS department. Carry out the EDA. <br>\n",
        "- The data can be found [here](https://www.cs.cornell.edu/people/pabo/movie-review-data). <br>\n",
        "- Download the “polarity dataset” and unzip. <br>\n",
        "- Under the \"txt_sentoken” folder, there are “pos” and “neg\" subfolders. <br>"
      ]
    },
    {
      "cell_type": "code",
      "metadata": {
        "id": "dWFGNFxinuso"
      },
      "source": [
        "reviews = load_files('txt_sentoken/')\n",
        "my_docs, y = reviews.data, reviews.target"
      ],
      "execution_count": null,
      "outputs": []
    },
    {
      "cell_type": "code",
      "metadata": {
        "colab": {
          "base_uri": "https://localhost:8080/"
        },
        "id": "v17GuJe_JoQJ",
        "outputId": "289a49e7-6d2b-47b4-a66d-5a2338160060"
      },
      "source": [
        "len(my_docs)"
      ],
      "execution_count": null,
      "outputs": [
        {
          "data": {
            "text/plain": [
              "1017"
            ]
          },
          "execution_count": 139,
          "metadata": {},
          "output_type": "execute_result"
        }
      ]
    },
    {
      "cell_type": "code",
      "metadata": {
        "colab": {
          "base_uri": "https://localhost:8080/"
        },
        "id": "a1F7J1ScJqG0",
        "outputId": "e9283ea7-fbae-4d31-afd5-fab1274244cf"
      },
      "source": [
        "y.shape"
      ],
      "execution_count": null,
      "outputs": [
        {
          "data": {
            "text/plain": [
              "(1017,)"
            ]
          },
          "execution_count": 141,
          "metadata": {},
          "output_type": "execute_result"
        }
      ]
    },
    {
      "cell_type": "code",
      "metadata": {
        "colab": {
          "base_uri": "https://localhost:8080/",
          "height": 335
        },
        "id": "aUJezTVHJhyE",
        "outputId": "25ba4f20-4ea1-41b6-c9a5-596e1bf0e974"
      },
      "source": [
        "sns.countplot(y).set_title(\"Frequency Table\")\n",
        "plt.show()"
      ],
      "execution_count": null,
      "outputs": [
        {
          "name": "stderr",
          "output_type": "stream",
          "text": [
            "/usr/local/lib/python3.7/dist-packages/seaborn/_decorators.py:43: FutureWarning: Pass the following variable as a keyword arg: x. From version 0.12, the only valid positional argument will be `data`, and passing other arguments without an explicit keyword will result in an error or misinterpretation.\n",
            "  FutureWarning\n"
          ]
        },
        {
          "data": {
            "image/png": "[encoded data removed]",
            "text/plain": [
              "<Figure size 432x288 with 1 Axes>"
            ]
          },
          "metadata": {},
          "output_type": "display_data"
        }
      ]
    },
    {
      "cell_type": "markdown",
      "metadata": {
        "id": "Ydn4vg2Qnusp"
      },
      "source": [
        "2). Carry out the data preprocessing: <br>\n",
        "- Cleaning.\n",
        "- Stopword removal."
      ]
    },
    {
      "cell_type": "code",
      "metadata": {
        "colab": {
          "base_uri": "https://localhost:8080/"
        },
        "id": "pSYaAnxJnusr",
        "outputId": "daf4d747-a36c-4d7f-c430-98bd2ce5c8cd"
      },
      "source": [
        "nltk.download('stopwords')\n",
        "# collecting english stop words from nltk-library\n",
        "stpw = stopwords.words('english')\n",
        "    \n",
        "# Adding custom stop-words\n",
        "stpw.extend(['www','http','utc'])\n",
        "stpw = set(stpw)"
      ],
      "execution_count": null,
      "outputs": [
        {
          "name": "stdout",
          "output_type": "stream",
          "text": [
            "[nltk_data] Downloading package stopwords to /root/nltk_data...\n",
            "[nltk_data]   Package stopwords is already up-to-date!\n"
          ]
        }
      ]
    },
    {
      "cell_type": "code",
      "metadata": {
        "id": "AoIUbs7p5sje"
      },
      "source": [
        "new_text = [x.decode('utf-8') for x in my_docs]"
      ],
      "execution_count": null,
      "outputs": []
    },
    {
      "cell_type": "code",
      "metadata": {
        "id": "Z2ZuKTE05wbd"
      },
      "source": [
        "#Cleaning \n",
        "for i in range(len(new_text)) : \n",
        "  # remove special characters/symbols\n",
        "  new_text[i] = re.sub(r\"\\n\", \" \", new_text[i]) \n",
        "  new_text[i] = re.sub(\"[\\<\\[].*?[\\>\\]]\", \" \", new_text[i])\n",
        "  #convert text to lower-case\n",
        "  new_text[i] = new_text[i].lower()\n",
        "  #retain only alphabets\n",
        "  new_text[i] = re.sub(r\"[^a-z ]\", \" \", new_text[i])\n",
        "  #remove words less than 3 characters\n",
        "  new_text[i] = re.sub(r\"\\b\\w{1,3}\\b\", \" \",new_text[i])"
      ],
      "execution_count": null,
      "outputs": []
    },
    {
      "cell_type": "code",
      "metadata": {
        "id": "jrM0W9aN6Los"
      },
      "source": [
        "#Stopword removal\n",
        "for i in range(len(new_text)) : \n",
        "  new_text[i] = \" \".join([x for x in new_text[i].split() if x not in stpw])"
      ],
      "execution_count": null,
      "outputs": []
    },
    {
      "cell_type": "code",
      "metadata": {
        "id": "Bo0GBjS98CMd"
      },
      "source": [
        "corpus = new_text"
      ],
      "execution_count": null,
      "outputs": []
    },
    {
      "cell_type": "markdown",
      "metadata": {
        "id": "i-OgF_1knuss"
      },
      "source": [
        "3). Carry out label encoding by integers (required form by Keras):"
      ]
    },
    {
      "cell_type": "code",
      "metadata": {
        "id": "nYkJ91Ttnust"
      },
      "source": [
        "# Make a dictionary with the top words.\n",
        "n_words = 2000  \n",
        "words = []\n",
        "for i in range(len(corpus)):\n",
        "    words += nltk.word_tokenize(corpus[i])\n",
        "top_words = pd.Series(words).value_counts().index\n",
        "top_words = top_words[0:n_words]                     # Apply a limitation.\n",
        "my_dict = {}\n",
        "my_dict_inv = {}\n",
        "for i in range(len(top_words)):\n",
        "    my_dict_inv[i] = top_words[i]                   \n",
        "    my_dict[top_words[i]] = i  "
      ],
      "execution_count": null,
      "outputs": []
    },
    {
      "cell_type": "code",
      "metadata": {
        "id": "nnHCdPVTpX53"
      },
      "source": [
        "# Convert the corpus into the label encoded form.\n",
        "corpus_int =[]\n",
        "for i in range(len(corpus)):\n",
        "    words = nltk.word_tokenize(corpus[i])\n",
        "    words2int = []\n",
        "    for x in words:\n",
        "        if x in my_dict:\n",
        "            words2int += [my_dict[x]]\n",
        "    corpus_int.append(words2int)"
      ],
      "execution_count": null,
      "outputs": []
    },
    {
      "cell_type": "markdown",
      "metadata": {
        "id": "mNEnRmd9nusu"
      },
      "source": [
        "4). Prepare the data for AI: <br>\n",
        "- Apply the padding.\n",
        "- Split the data into training and testing."
      ]
    },
    {
      "cell_type": "code",
      "metadata": {
        "colab": {
          "base_uri": "https://localhost:8080/"
        },
        "id": "zwbC4KvRnusv",
        "outputId": "82fef172-204d-45a2-8987-dcbcc5caff6a"
      },
      "source": [
        "X = np.array(corpus_int)\n",
        "y = np.array(y)"
      ],
      "execution_count": null,
      "outputs": [
        {
          "name": "stderr",
          "output_type": "stream",
          "text": [
            "/usr/local/lib/python3.7/dist-packages/ipykernel_launcher.py:1: VisibleDeprecationWarning: Creating an ndarray from ragged nested sequences (which is a list-or-tuple of lists-or-tuples-or ndarrays with different lengths or shapes) is deprecated. If you meant to do this, you must specify 'dtype=object' when creating the ndarray\n",
            "  \"\"\"Entry point for launching an IPython kernel.\n"
          ]
        }
      ]
    },
    {
      "cell_type": "code",
      "metadata": {
        "id": "PMNTLBDuoJu4"
      },
      "source": [
        "# Padding: newswire lengths are uniformly matched to maxlen.\n",
        "X = sequence.pad_sequences(X, maxlen = 100)\n",
        "\n",
        "# y is already binary. Thus, there is no need to covert to the one-hot-encoding scheme."
      ],
      "execution_count": null,
      "outputs": []
    },
    {
      "cell_type": "code",
      "metadata": {
        "id": "zfnO5zW4oM4r"
      },
      "source": [
        "#split the data into training and testing\n",
        "X_train,X_test,y_train,y_test = train_test_split(X,y,test_size=0.2)"
      ],
      "execution_count": null,
      "outputs": []
    },
    {
      "cell_type": "markdown",
      "metadata": {
        "id": "qtHW6J1unusv"
      },
      "source": [
        "5). Define the AI model (Embedding + LSTM):"
      ]
    },
    {
      "cell_type": "code",
      "metadata": {
        "colab": {
          "base_uri": "https://localhost:8080/"
        },
        "id": "BexDWAGiDrtN",
        "outputId": "54763e0f-e989-4263-9537-0ddb8ec36b0d"
      },
      "source": [
        "X_train.shape"
      ],
      "execution_count": null,
      "outputs": [
        {
          "data": {
            "text/plain": [
              "(813, 100)"
            ]
          },
          "execution_count": 94,
          "metadata": {},
          "output_type": "execute_result"
        }
      ]
    },
    {
      "cell_type": "code",
      "metadata": {
        "colab": {
          "base_uri": "https://localhost:8080/"
        },
        "id": "3qTRA3hVDwOt",
        "outputId": "c6a12cbd-f9db-477d-f0ea-a2e332362803"
      },
      "source": [
        "y_train.shape"
      ],
      "execution_count": null,
      "outputs": [
        {
          "data": {
            "text/plain": [
              "(813,)"
            ]
          },
          "execution_count": 89,
          "metadata": {},
          "output_type": "execute_result"
        }
      ]
    },
    {
      "cell_type": "code",
      "metadata": {
        "colab": {
          "base_uri": "https://localhost:8080/"
        },
        "id": "KORQqz7DEGt4",
        "outputId": "a8cdacd8-c22a-4644-f0ef-3212e19588e1"
      },
      "source": [
        "n_words"
      ],
      "execution_count": null,
      "outputs": [
        {
          "data": {
            "text/plain": [
              "2000"
            ]
          },
          "execution_count": 95,
          "metadata": {},
          "output_type": "execute_result"
        }
      ]
    },
    {
      "cell_type": "code",
      "metadata": {
        "id": "ezoNRvm9nusw"
      },
      "source": [
        "n_neurons = 100                    # Neurons within each memory cell.\n",
        "n_input = 500                     # Dimension of the embeding space. "
      ],
      "execution_count": null,
      "outputs": []
    },
    {
      "cell_type": "code",
      "metadata": {
        "colab": {
          "base_uri": "https://localhost:8080/"
        },
        "id": "9r6EBhLTonps",
        "outputId": "f6dfe8d2-4297-44e0-e1f9-01dc17f3665c"
      },
      "source": [
        "my_model = Sequential()\n",
        "my_model.add(Embedding(n_words, n_input, input_length=n_neurons))\n",
        "my_model.add(LSTM(100, dropout=0.2, recurrent_dropout=0.2))\n",
        "my_model.add(Dense(1, activation='sigmoid'))\n",
        "print(my_model.summary())"
      ],
      "execution_count": null,
      "outputs": [
        {
          "name": "stdout",
          "output_type": "stream",
          "text": [
            "Model: \"sequential_2\"\n",
            "_________________________________________________________________\n",
            "Layer (type)                 Output Shape              Param #   \n",
            "=================================================================\n",
            "embedding_2 (Embedding)      (None, 100, 500)          1000000   \n",
            "_________________________________________________________________\n",
            "lstm_1 (LSTM)                (None, 100)               240400    \n",
            "_________________________________________________________________\n",
            "dense_1 (Dense)              (None, 1)                 101       \n",
            "=================================================================\n",
            "Total params: 1,240,501\n",
            "Trainable params: 1,240,501\n",
            "Non-trainable params: 0\n",
            "_________________________________________________________________\n",
            "None\n"
          ]
        }
      ]
    },
    {
      "cell_type": "markdown",
      "metadata": {
        "id": "1tw-fUxvnusx"
      },
      "source": [
        "6). Define the optimizer and compile the model:"
      ]
    },
    {
      "cell_type": "code",
      "metadata": {
        "id": "_SthDq7unusx"
      },
      "source": [
        "n_epochs = 15                      # Number of epochs.\n",
        "batch_size = 100                    # Size of each batch.\n",
        "learn_rate = 0.0001 "
      ],
      "execution_count": null,
      "outputs": []
    },
    {
      "cell_type": "code",
      "metadata": {
        "id": "k2OaiwlZh9zU"
      },
      "source": [
        "opt = Adam(learning_rate=learn_rate)\n",
        "my_model.compile(loss='categorical_crossentropy', optimizer=opt, metrics=['accuracy'])"
      ],
      "execution_count": null,
      "outputs": []
    },
    {
      "cell_type": "markdown",
      "metadata": {
        "id": "z1kSE53Gnusy"
      },
      "source": [
        "7). Train the model and visualize the summary:"
      ]
    },
    {
      "cell_type": "code",
      "metadata": {
        "colab": {
          "base_uri": "https://localhost:8080/"
        },
        "id": "Bds7DuTSnusy",
        "outputId": "040fbb50-b5f8-48f6-9902-8e44068ed236"
      },
      "source": [
        "history = my_model.fit(X_train, y_train, epochs=n_epochs, batch_size=batch_size,validation_split=0.1)#,callbacks=[EarlyStopping(monitor='val_loss', patience=3, min_delta=0.0001)])"
      ],
      "execution_count": null,
      "outputs": [
        {
          "name": "stdout",
          "output_type": "stream",
          "text": [
            "Epoch 1/15\n",
            "8/8 [==============================] - 12s 1s/step - loss: 0.0000e+00 - accuracy: 0.6183 - val_loss: 0.0000e+00 - val_accuracy: 0.7561\n",
            "Epoch 2/15\n",
            "8/8 [==============================] - 8s 927ms/step - loss: 0.0000e+00 - accuracy: 0.8632 - val_loss: 0.0000e+00 - val_accuracy: 0.9024\n",
            "Epoch 3/15\n",
            "8/8 [==============================] - 8s 940ms/step - loss: 0.0000e+00 - accuracy: 0.9398 - val_loss: 0.0000e+00 - val_accuracy: 0.9390\n",
            "Epoch 4/15\n",
            "8/8 [==============================] - 8s 938ms/step - loss: 0.0000e+00 - accuracy: 0.9740 - val_loss: 0.0000e+00 - val_accuracy: 0.9512\n",
            "Epoch 5/15\n",
            "8/8 [==============================] - 7s 931ms/step - loss: 0.0000e+00 - accuracy: 0.9808 - val_loss: 0.0000e+00 - val_accuracy: 0.9634\n",
            "Epoch 6/15\n",
            "8/8 [==============================] - 8s 931ms/step - loss: 0.0000e+00 - accuracy: 0.9850 - val_loss: 0.0000e+00 - val_accuracy: 0.9634\n",
            "Epoch 7/15\n",
            "8/8 [==============================] - 7s 922ms/step - loss: 0.0000e+00 - accuracy: 0.9850 - val_loss: 0.0000e+00 - val_accuracy: 0.9634\n",
            "Epoch 8/15\n",
            "8/8 [==============================] - 7s 914ms/step - loss: 0.0000e+00 - accuracy: 0.9850 - val_loss: 0.0000e+00 - val_accuracy: 0.9634\n",
            "Epoch 9/15\n",
            "8/8 [==============================] - 7s 910ms/step - loss: 0.0000e+00 - accuracy: 0.9850 - val_loss: 0.0000e+00 - val_accuracy: 0.9634\n",
            "Epoch 10/15\n",
            "8/8 [==============================] - 7s 916ms/step - loss: 0.0000e+00 - accuracy: 0.9850 - val_loss: 0.0000e+00 - val_accuracy: 0.9634\n",
            "Epoch 11/15\n",
            "8/8 [==============================] - 7s 906ms/step - loss: 0.0000e+00 - accuracy: 0.9850 - val_loss: 0.0000e+00 - val_accuracy: 0.9634\n",
            "Epoch 12/15\n",
            "8/8 [==============================] - 7s 915ms/step - loss: 0.0000e+00 - accuracy: 0.9850 - val_loss: 0.0000e+00 - val_accuracy: 0.9634\n",
            "Epoch 13/15\n",
            "8/8 [==============================] - 7s 923ms/step - loss: 0.0000e+00 - accuracy: 0.9850 - val_loss: 0.0000e+00 - val_accuracy: 0.9634\n",
            "Epoch 14/15\n",
            "8/8 [==============================] - 7s 919ms/step - loss: 0.0000e+00 - accuracy: 0.9850 - val_loss: 0.0000e+00 - val_accuracy: 0.9634\n",
            "Epoch 15/15\n",
            "8/8 [==============================] - 7s 923ms/step - loss: 0.0000e+00 - accuracy: 0.9850 - val_loss: 0.0000e+00 - val_accuracy: 0.9634\n"
          ]
        }
      ]
    },
    {
      "cell_type": "markdown",
      "metadata": {
        "id": "1Yw9Eh_5nusy"
      },
      "source": [
        "8). Display the test result (accuracy):"
      ]
    },
    {
      "cell_type": "code",
      "metadata": {
        "colab": {
          "background_save": true
        },
        "id": "Ypva7wC6nusz",
        "outputId": "f5a95534-632a-4d94-dc49-c9376ac2dddf"
      },
      "source": [
        "score = my_model.evaluate(X_test,y_test)\n",
        "print('Test set accuracy: {:0.2f}'.format(score[1]))"
      ],
      "execution_count": null,
      "outputs": [
        {
          "name": "stdout",
          "output_type": "stream",
          "text": [
            "7/7 [==============================] - 0s 60ms/step - loss: 0.0000e+00 - accuracy: 0.9853\n",
            "Test set accuracy: 0.99\n"
          ]
        }
      ]
    }
  ]
}