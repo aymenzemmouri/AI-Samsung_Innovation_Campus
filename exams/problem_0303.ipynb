{
  "nbformat": 4,
  "nbformat_minor": 0,
  "metadata": {
    "kernelspec": {
      "display_name": "Python 3",
      "language": "python",
      "name": "python3"
    },
    "language_info": {
      "codemirror_mode": {
        "name": "ipython",
        "version": 3
      },
      "file_extension": ".py",
      "mimetype": "text/x-python",
      "name": "python",
      "nbconvert_exporter": "python",
      "pygments_lexer": "ipython3",
      "version": "3.8.8"
    },
    "toc": {
      "base_numbering": 1,
      "nav_menu": {},
      "number_sections": true,
      "sideBar": true,
      "skip_h1_title": false,
      "title_cell": "Table of Contents",
      "title_sidebar": "Contents",
      "toc_cell": false,
      "toc_position": {},
      "toc_section_display": true,
      "toc_window_display": false
    },
    "varInspector": {
      "cols": {
        "lenName": 16,
        "lenType": 16,
        "lenVar": 40
      },
      "kernels_config": {
        "python": {
          "delete_cmd_postfix": "",
          "delete_cmd_prefix": "del ",
          "library": "var_list.py",
          "varRefreshCmd": "print(var_dic_list())"
        },
        "r": {
          "delete_cmd_postfix": ") ",
          "delete_cmd_prefix": "rm(",
          "library": "var_list.r",
          "varRefreshCmd": "cat(var_dic_list()) "
        }
      },
      "types_to_exclude": [
        "module",
        "function",
        "builtin_function_or_method",
        "instance",
        "_Feature"
      ],
      "window_display": false
    },
    "colab": {
      "name": "problem_0303.ipynb",
      "provenance": []
    }
  },
  "cells": [
    {
      "cell_type": "markdown",
      "metadata": {
        "id": "7otacd5xGXmo"
      },
      "source": [
        "## Quiz #0303"
      ]
    },
    {
      "cell_type": "markdown",
      "metadata": {
        "id": "2fDtsYHhGXmv"
      },
      "source": [
        "### \"Ball bearing quality control\""
      ]
    },
    {
      "cell_type": "code",
      "metadata": {
        "id": "j6VNZ80_GXmw"
      },
      "source": [
        "import numpy as np\n",
        "import scipy.stats as st"
      ],
      "execution_count": null,
      "outputs": []
    },
    {
      "cell_type": "markdown",
      "metadata": {
        "id": "T-0uoySKGXmx"
      },
      "source": [
        "#### Answer the following questions by providing Python code:"
      ]
    },
    {
      "cell_type": "markdown",
      "metadata": {
        "id": "4d1HUtYfGXmy"
      },
      "source": [
        "It is known that 3% of the ball bearings from a production line are defective. <br>\n",
        "Suppose that a sample of 500 ball bearings is drawn."
      ]
    },
    {
      "cell_type": "code",
      "metadata": {
        "id": "vjiUvzX2GXmy"
      },
      "source": [
        "p = 0.03\n",
        "n = 500"
      ],
      "execution_count": null,
      "outputs": []
    },
    {
      "cell_type": "code",
      "metadata": {
        "id": "6tFzw0ISGXmz",
        "outputId": "864a803d-c5f9-43a4-f592-73e99898bb1d"
      },
      "source": [
        "print(n*p)                               # Check wheather this is larger than 10. => OK\n",
        "print(n*(1-p))                           # Check wheather this is larger than 10. => OK"
      ],
      "execution_count": null,
      "outputs": [
        {
          "output_type": "stream",
          "text": [
            "15.0\n",
            "485.0\n"
          ],
          "name": "stdout"
        }
      ]
    },
    {
      "cell_type": "markdown",
      "metadata": {
        "id": "NN-LNWT5GXm0"
      },
      "source": [
        "1). What is the probability that the sample defect rate is larger than 5%? <br>\n",
        "HINT: Use sample proportion and Standard Normal distribution."
      ]
    },
    {
      "cell_type": "code",
      "metadata": {
        "id": "kzbN4G6RGXm2",
        "outputId": "cfa69bbc-aca3-4cde-a5b9-4abfe644537b"
      },
      "source": [
        "std_error = np.sqrt(n*p*(1-p))\n",
        "z = (0.05*n - n*p)/std_error\n",
        "1 - st.norm.cdf(z)"
      ],
      "execution_count": null,
      "outputs": [
        {
          "output_type": "execute_result",
          "data": {
            "text/plain": [
              "0.004375743328279169"
            ]
          },
          "metadata": {
            "tags": []
          },
          "execution_count": 54
        }
      ]
    },
    {
      "cell_type": "markdown",
      "metadata": {
        "id": "7saBqm2MGXm3"
      },
      "source": [
        "2). What is the probability that the sample defect rate is less than 2%? <br>\n",
        "HINT: Use sample proportion and Standard Normal distribution."
      ]
    },
    {
      "cell_type": "code",
      "metadata": {
        "id": "x3uri-IwGXm4",
        "outputId": "3e6c1536-43b3-4508-ab4d-1150ef9e208a"
      },
      "source": [
        "z = (0.02*n - n*p)/std_error\n",
        "st.norm.cdf(z)"
      ],
      "execution_count": null,
      "outputs": [
        {
          "output_type": "execute_result",
          "data": {
            "text/plain": [
              "0.09496161307581885"
            ]
          },
          "metadata": {
            "tags": []
          },
          "execution_count": 57
        }
      ]
    },
    {
      "cell_type": "markdown",
      "metadata": {
        "id": "TVshhypAGXm5"
      },
      "source": [
        "3). Redo the calculations of 1) and 2) using the Binomial distribution. Then, compare."
      ]
    },
    {
      "cell_type": "code",
      "metadata": {
        "id": "R87AGcEAGXm6",
        "outputId": "a8b00799-fcce-414c-ed70-ff2abe73dbdb"
      },
      "source": [
        "# Redo of 1).\n",
        "# the sample defect rate > 5% <=> more than 25 of the balls are defective \n",
        "1 - st.binom.cdf(k=0.05*n,n=n,p=p)"
      ],
      "execution_count": null,
      "outputs": [
        {
          "output_type": "execute_result",
          "data": {
            "text/plain": [
              "0.005456997386145246"
            ]
          },
          "metadata": {
            "tags": []
          },
          "execution_count": 23
        }
      ]
    },
    {
      "cell_type": "code",
      "metadata": {
        "id": "7irZoWCPGXm6",
        "outputId": "1f07ed84-6fe0-411f-f568-68b1a04540f2"
      },
      "source": [
        "# Redo of 2).\n",
        "# the sample defect rate < 2% <=> less than 10 of the balls are defective \n",
        "st.binom.cdf(k=0.02*n,n=n,p=p) - st.binom.pmf(10,n,p)"
      ],
      "execution_count": null,
      "outputs": [
        {
          "output_type": "execute_result",
          "data": {
            "text/plain": [
              "0.06692856081079039"
            ]
          },
          "metadata": {
            "tags": []
          },
          "execution_count": 60
        }
      ]
    }
  ]
}