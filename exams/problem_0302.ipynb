{
  "nbformat": 4,
  "nbformat_minor": 0,
  "metadata": {
    "kernelspec": {
      "display_name": "Python 3",
      "language": "python",
      "name": "python3"
    },
    "language_info": {
      "codemirror_mode": {
        "name": "ipython",
        "version": 3
      },
      "file_extension": ".py",
      "mimetype": "text/x-python",
      "name": "python",
      "nbconvert_exporter": "python",
      "pygments_lexer": "ipython3",
      "version": "3.8.8"
    },
    "toc": {
      "base_numbering": 1,
      "nav_menu": {},
      "number_sections": true,
      "sideBar": true,
      "skip_h1_title": false,
      "title_cell": "Table of Contents",
      "title_sidebar": "Contents",
      "toc_cell": false,
      "toc_position": {},
      "toc_section_display": true,
      "toc_window_display": false
    },
    "varInspector": {
      "cols": {
        "lenName": 16,
        "lenType": 16,
        "lenVar": 40
      },
      "kernels_config": {
        "python": {
          "delete_cmd_postfix": "",
          "delete_cmd_prefix": "del ",
          "library": "var_list.py",
          "varRefreshCmd": "print(var_dic_list())"
        },
        "r": {
          "delete_cmd_postfix": ") ",
          "delete_cmd_prefix": "rm(",
          "library": "var_list.r",
          "varRefreshCmd": "cat(var_dic_list()) "
        }
      },
      "types_to_exclude": [
        "module",
        "function",
        "builtin_function_or_method",
        "instance",
        "_Feature"
      ],
      "window_display": false
    },
    "colab": {
      "name": "problem_0302.ipynb",
      "provenance": []
    }
  },
  "cells": [
    {
      "cell_type": "markdown",
      "metadata": {
        "id": "S8ZSK04XGVdS"
      },
      "source": [
        "## Quiz #0302"
      ]
    },
    {
      "cell_type": "markdown",
      "metadata": {
        "id": "7CNPAqJcGVdc"
      },
      "source": [
        "### \"Bolt specification\""
      ]
    },
    {
      "cell_type": "code",
      "metadata": {
        "id": "muPzJmbYGVde"
      },
      "source": [
        "import numpy as np\n",
        "import scipy.stats as st"
      ],
      "execution_count": null,
      "outputs": []
    },
    {
      "cell_type": "markdown",
      "metadata": {
        "id": "Q6GmBqj8GVdf"
      },
      "source": [
        "#### Answer the following questions by providing Python code:"
      ]
    },
    {
      "cell_type": "markdown",
      "metadata": {
        "id": "wAIU2S0rGVdg"
      },
      "source": [
        "According to the specification sheet, the average weight of the bolts is $\\mu = 30$gr with $\\sigma = 2$gr.<br>\n",
        "Suppose that a sample of 50 bolts is drawn. "
      ]
    },
    {
      "cell_type": "code",
      "metadata": {
        "id": "t4voo2v0GVdg"
      },
      "source": [
        "mu = 30\n",
        "sigma = 2\n",
        "n = 50\n",
        "df = n-1"
      ],
      "execution_count": null,
      "outputs": []
    },
    {
      "cell_type": "markdown",
      "metadata": {
        "id": "yKfCFrlGGVdh"
      },
      "source": [
        "1). What is the probability that the sample mean is **between** 29.8gr and 30.2gr? (Use Standard Normal and Student-t)"
      ]
    },
    {
      "cell_type": "code",
      "metadata": {
        "id": "xVKBmIAoGVdi",
        "outputId": "e381e838-1d20-4212-b8a3-9f7ee62882d9"
      },
      "source": [
        "# Using the Standard Normal.\n",
        "z1 = (30.2-30)/(2/np.sqrt(50))\n",
        "z2 = (29.8-30)/(2/np.sqrt(50))\n",
        "\n",
        "p_normal1 = st.norm.cdf(z1)-st.norm.cdf(z2)\n",
        "p_normal1"
      ],
      "execution_count": null,
      "outputs": [
        {
          "output_type": "execute_result",
          "data": {
            "text/plain": [
              "0.520499877813045"
            ]
          },
          "metadata": {
            "tags": []
          },
          "execution_count": 20
        }
      ]
    },
    {
      "cell_type": "code",
      "metadata": {
        "id": "JAeeeW1zGVdk",
        "outputId": "e430d1b4-c278-44f5-d4c2-0d20bba4f9b5"
      },
      "source": [
        "# Using the Student-t.\n",
        "t1 = (30.2-30)/(2/np.sqrt(50))\n",
        "t2 = (29.8-30)/(2/np.sqrt(50))\n",
        "\n",
        "p_student1 = st.t.cdf(z1,df=df)-st.t.cdf(z2,df=df)\n",
        "p_student1"
      ],
      "execution_count": null,
      "outputs": [
        {
          "output_type": "execute_result",
          "data": {
            "text/plain": [
              "0.5171504292916964"
            ]
          },
          "metadata": {
            "tags": []
          },
          "execution_count": 21
        }
      ]
    },
    {
      "cell_type": "markdown",
      "metadata": {
        "id": "amP5sRAvGVdm"
      },
      "source": [
        "2). What is the probability that the sample mean is **larger** than 30.5gr? (Use Standard Normal and Student-t)"
      ]
    },
    {
      "cell_type": "code",
      "metadata": {
        "id": "6I3xxoFGGVdn",
        "outputId": "0307dce9-8279-4bd2-f0fd-95ecb6dd5979"
      },
      "source": [
        "# Using the Standard Normal.\n",
        "z1 = (30.5-30)/(2/np.sqrt(50))\n",
        "p_normal2 = 1 - st.norm.cdf(z1)\n",
        "p_normal2"
      ],
      "execution_count": null,
      "outputs": [
        {
          "output_type": "execute_result",
          "data": {
            "text/plain": [
              "0.0385499358717708"
            ]
          },
          "metadata": {
            "tags": []
          },
          "execution_count": 22
        }
      ]
    },
    {
      "cell_type": "code",
      "metadata": {
        "id": "6-mRuJMSGVdo",
        "outputId": "4eac3b68-7e8d-4dea-95b7-0f3086b1e11a"
      },
      "source": [
        "# Using the Student-t.\n",
        "t1 = (30.5-30)/(2/np.sqrt(50))\n",
        "p_student2 = 1 - st.t.cdf(z1,df=df)\n",
        "p_student2"
      ],
      "execution_count": null,
      "outputs": [
        {
          "output_type": "execute_result",
          "data": {
            "text/plain": [
              "0.04166307987075457"
            ]
          },
          "metadata": {
            "tags": []
          },
          "execution_count": 23
        }
      ]
    },
    {
      "cell_type": "markdown",
      "metadata": {
        "id": "TsZKihFwGVdp"
      },
      "source": [
        "## Comparing "
      ]
    },
    {
      "cell_type": "code",
      "metadata": {
        "id": "5KhK3atCGVdp",
        "outputId": "4a6c60b0-b1ff-42bc-9d77-a0184045f0af"
      },
      "source": [
        "print(\"p_normal1\",p_normal1)\n",
        "print(\"p_student1\",p_student1)\n",
        "print(\"p_normal > p_student\")"
      ],
      "execution_count": null,
      "outputs": [
        {
          "output_type": "stream",
          "text": [
            "p_normal1 0.520499877813045\n",
            "p_student1 0.5171504292916964\n"
          ],
          "name": "stdout"
        }
      ]
    },
    {
      "cell_type": "code",
      "metadata": {
        "id": "zcCFW-NdGVdq",
        "outputId": "664e09bb-5608-4afb-bbfd-32f80f291f0e"
      },
      "source": [
        "print(\"p_normal2\",p_normal2)\n",
        "print(\"p_student2\",p_student2)\n",
        "print(\"p_normal < p_student\")"
      ],
      "execution_count": null,
      "outputs": [
        {
          "output_type": "stream",
          "text": [
            "p_normal2 0.0385499358717708\n",
            "p_student2 0.04166307987075457\n",
            "p_normal < p_student\n"
          ],
          "name": "stdout"
        }
      ]
    }
  ]
}