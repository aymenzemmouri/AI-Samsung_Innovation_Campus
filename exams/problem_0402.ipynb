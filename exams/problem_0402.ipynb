{
 "cells": [
  {
   "cell_type": "markdown",
   "metadata": {
    "id": "fymIZnE2HiSk"
   },
   "source": [
    "## Quiz #0402"
   ]
  },
  {
   "cell_type": "markdown",
   "metadata": {
    "id": "ev6UMwZsHiSq"
   },
   "source": [
    "### \"OLS solution\""
   ]
  },
  {
   "cell_type": "code",
   "execution_count": 6,
   "metadata": {
    "id": "KjB62CZXHiSs"
   },
   "outputs": [],
   "source": [
    "import numpy as np\n",
    "import pandas as pd"
   ]
  },
  {
   "cell_type": "markdown",
   "metadata": {
    "id": "anHya6yqHiSt"
   },
   "source": [
    "#### Answer the following question by providing Python code:\n",
    "<br>\n",
    "study = an array that contains the hours of study. This is the explanatory variable. <br>\n",
    "score = an array that contains the test scores. This is the response variable."
   ]
  },
  {
   "cell_type": "code",
   "execution_count": 7,
   "metadata": {
    "id": "medl6inpHiSu"
   },
   "outputs": [],
   "source": [
    "study = np.array([ 3, 4.5, 6, 1.2, 2, 6.9, 6.7, 5.5]).reshape(-1,1)\n",
    "score = np.array([ 88, 85, 90, 80, 81, 92, 95, 90]).reshape(-1,1)"
   ]
  },
  {
   "cell_type": "markdown",
   "metadata": {
    "id": "DmOxv3DsHiSv"
   },
   "source": [
    "1). Define the 'linerRegression' class to match the output shown below:"
   ]
  },
  {
   "cell_type": "code",
   "execution_count": 16,
   "metadata": {
    "id": "cB51PpzbHiSw"
   },
   "outputs": [],
   "source": [
    "class linearRegression:\n",
    "    def __init__(self):\n",
    "        return\n",
    "        \n",
    "    def train(self, input_X, input_Y):\n",
    "        n = input_X.shape[0]                                      # Number of observations.\n",
    "        k = input_X.shape[1]                                      # Number of explanatory variables.\n",
    "        \n",
    "        x_mean = np.mean(input_X)\n",
    "        y_mean = np.mean(input_Y)\n",
    "        \n",
    "        # Regression Coefficients by OLS.\n",
    "        self.beta = sum((input_X[i]-x_mean)*(input_Y[i]-y_mean) for i in range(n)) / sum((input_X[i] - x_mean)**2 for i in range(n)) #<Your code goes in here>\n",
    "        \n",
    "        # Residuals.\n",
    "        self.residuals = input_Y - np.dot(input_X,self.beta)\n",
    "        \n",
    "        # R^2.\n",
    "        #<Your code goes in here>\n",
    "        sumofsquares = 0\n",
    "        sumofresiduals = 0\n",
    "        b1 = self.beta\n",
    "        b0 = self.residuals.mean()\n",
    "        for i in range(n) :\n",
    "            y_pred = b0 + b1 * input_X[i]\n",
    "            sumofsquares += (input_Y[i] - y_mean) ** 2\n",
    "            sumofresiduals += (input_Y[i] - y_pred) **2\n",
    "        self.r2 = 1 - (sumofresiduals/sumofsquares)\n",
    "        \n",
    "        # Summary.\n",
    "        #<Your code goes in here>\n",
    "        intercept = float(np.round(self.residuals.mean(),6))\n",
    "        X1 = float(np.round(self.beta,6))\n",
    "        r2 = float(np.round(self.r2,6))\n",
    "        self.summary = (f\"            Coefficient\\nIntercept     {intercept:.6f} \\nX1             {X1:.6f}\\n------------------------------\\nR^2 : {r2:.6f}\")\n",
    "        \n",
    "        return \n",
    "\n",
    "    def output(self):\n",
    "        print(self.summary)"
   ]
  },
  {
   "cell_type": "markdown",
   "metadata": {
    "id": "TTNJUDEMHiSy"
   },
   "source": [
    "**Sample run:**"
   ]
  },
  {
   "cell_type": "code",
   "execution_count": 17,
   "metadata": {
    "id": "u6tzBl78HiSz",
    "outputId": "1b1bb499-caa2-4066-9ca3-c432837ad970"
   },
   "outputs": [
    {
     "name": "stdout",
     "output_type": "stream",
     "text": [
      "            Coefficient\n",
      "Intercept     77.684670 \n",
      "X1             2.221303\n",
      "------------------------------\n",
      "R^2 : 0.845842\n"
     ]
    }
   ],
   "source": [
    "LR = linearRegression()                    # Create a linear regression object.\n",
    "LR.train(study, score)                     # Train.\n",
    "LR.output()                                # Display the training result."
   ]
  }
 ],
 "metadata": {
  "colab": {
   "name": "problem_0402.ipynb",
   "provenance": []
  },
  "kernelspec": {
   "display_name": "Python 3",
   "language": "python",
   "name": "python3"
  },
  "language_info": {
   "codemirror_mode": {
    "name": "ipython",
    "version": 3
   },
   "file_extension": ".py",
   "mimetype": "text/x-python",
   "name": "python",
   "nbconvert_exporter": "python",
   "pygments_lexer": "ipython3",
   "version": "3.8.8"
  }
 },
 "nbformat": 4,
 "nbformat_minor": 4
}
