{
  "nbformat": 4,
  "nbformat_minor": 0,
  "metadata": {
    "kernelspec": {
      "display_name": "Python 3",
      "language": "python",
      "name": "python3"
    },
    "language_info": {
      "codemirror_mode": {
        "name": "ipython",
        "version": 3
      },
      "file_extension": ".py",
      "mimetype": "text/x-python",
      "name": "python",
      "nbconvert_exporter": "python",
      "pygments_lexer": "ipython3",
      "version": "3.7.3"
    },
    "colab": {
      "name": "problem_0105.ipynb",
      "provenance": [],
      "collapsed_sections": []
    }
  },
  "cells": [
    {
      "cell_type": "markdown",
      "metadata": {
        "id": "6GvOS1KUuPwd"
      },
      "source": [
        "## Quiz #0105 "
      ]
    },
    {
      "cell_type": "markdown",
      "metadata": {
        "id": "zcEwcMaluPwg"
      },
      "source": [
        "#### Assignment: \n",
        "- Write a function named 'palindrome' to test whether the entered word or sentence is a palindrome.<br>\n",
        "- Ignore capitalization, spaces, punctuation marks, symbols, etc. <br>\n",
        "- Use the properties of 'queue' and 'stack' data structures. <br>"
      ]
    },
    {
      "cell_type": "markdown",
      "metadata": {
        "id": "9pDjk-CvuPwi"
      },
      "source": [
        "Palindrome examples: <br>\n",
        "- mom\n",
        "- wow\n",
        "- noon\n",
        "- level\n",
        "- radar\n",
        "- kayak\n",
        "- racecar\n",
        "- God's dog\n",
        "- Madam, I'm Adam"
      ]
    },
    {
      "cell_type": "code",
      "metadata": {
        "colab": {
          "base_uri": "https://localhost:8080/"
        },
        "id": "RXIa5oJruPwj",
        "outputId": "d4877613-0d05-46db-9f93-ccf77ef16af9"
      },
      "source": [
        "import string\n",
        "def palindrome (d) : \n",
        "    isPalindrome = True\n",
        "    d = \"\".join(u for u in d if u not in (string.punctuation))# removing punctuation marks, symbols\n",
        "    d = \"\".join(u for u in d if u not in (\" \")) # removing the spaces \n",
        "    d = \"\".join(u for u in d if not u.isdigit()) # removing the numbers \n",
        "    d = d.lower()\n",
        "    \n",
        "    strList = list(d)\n",
        "    a = ''\n",
        "    b = ''\n",
        "    for i in range (0 , int(len(strList)/2)) : \n",
        "        a = strList.pop(0)\n",
        "        b = strList.pop()\n",
        "        if(a != b) :\n",
        "            isPalindrome = False\n",
        "            break\n",
        "    print(isPalindrome)    \n",
        "    \n",
        "    \n",
        "palindrome(\"Kayak\")   \n",
        "palindrome(\"Madam, I'm Adam\")\n",
        "palindrome(\"Hello\")\n",
        "palindrome(\"God's dog\")\n",
        "palindrome(\"Rada5r\")"
      ],
      "execution_count": null,
      "outputs": [
        {
          "output_type": "stream",
          "text": [
            "True\n",
            "True\n",
            "False\n",
            "True\n",
            "True\n"
          ],
          "name": "stdout"
        }
      ]
    },
    {
      "cell_type": "markdown",
      "metadata": {
        "id": "ZjeczD-0uPwk"
      },
      "source": [
        "Test results:"
      ]
    },
    {
      "cell_type": "code",
      "metadata": {
        "id": "o05WQGnauPwl",
        "outputId": "de4ee5b4-e0e9-4895-f221-cd0a73f4540a"
      },
      "source": [
        "palindrome(\"Kayak\")"
      ],
      "execution_count": null,
      "outputs": [
        {
          "output_type": "execute_result",
          "data": {
            "text/plain": [
              "True"
            ]
          },
          "metadata": {
            "tags": []
          },
          "execution_count": 2
        }
      ]
    },
    {
      "cell_type": "code",
      "metadata": {
        "id": "juhatfgmuPwo",
        "outputId": "20a42dc6-6dc0-468c-c19d-b948a85c303c"
      },
      "source": [
        "palindrome(\"Madam, I'm Adam\")"
      ],
      "execution_count": null,
      "outputs": [
        {
          "output_type": "execute_result",
          "data": {
            "text/plain": [
              "True"
            ]
          },
          "metadata": {
            "tags": []
          },
          "execution_count": 3
        }
      ]
    },
    {
      "cell_type": "code",
      "metadata": {
        "id": "zQ5ktSLJuPwp",
        "outputId": "f64922ff-8676-449e-c8e9-c0a8524cc07e"
      },
      "source": [
        "palindrome(\"Hello\")"
      ],
      "execution_count": null,
      "outputs": [
        {
          "output_type": "execute_result",
          "data": {
            "text/plain": [
              "False"
            ]
          },
          "metadata": {
            "tags": []
          },
          "execution_count": 4
        }
      ]
    },
    {
      "cell_type": "code",
      "metadata": {
        "id": "JbyWBjNJuPw6"
      },
      "source": [
        ""
      ],
      "execution_count": null,
      "outputs": []
    }
  ]
}