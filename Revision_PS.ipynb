{
 "cells": [
  {
   "cell_type": "code",
   "execution_count": 1,
   "metadata": {
    "id": "SN_HqkMoGlDu"
   },
   "outputs": [],
   "source": [
    "import numpy as np\n",
    "import scipy.stats as st"
   ]
  },
  {
   "cell_type": "markdown",
   "metadata": {
    "id": "y8hsVZzyf2vW"
   },
   "source": [
    "# Binomial distribution"
   ]
  },
  {
   "cell_type": "markdown",
   "metadata": {
    "id": "gDH_A-0bGm5N"
   },
   "source": [
    "Suppose that  8%  of all persons suffer some form of color blindness. \n",
    "A sample of 200 persons is choosen randomly.\n",
    "\n",
    "What is the probability that the sample suffring persons is larger than 15%?\n",
    "\n",
    "Documentation :\n",
    "\n",
    "https://www.khanacademy.org/math/ap-statistics/sampling-distribution-ap/sampling-distribution-proportion/v/sampling-distribution-of-sample-proportion-part-1"
   ]
  },
  {
   "cell_type": "code",
   "execution_count": 57,
   "metadata": {
    "id": "M_0d7_4yf-wr"
   },
   "outputs": [
    {
     "data": {
      "text/plain": [
       "0.39819441499269925"
      ]
     },
     "execution_count": 57,
     "metadata": {},
     "output_type": "execute_result"
    }
   ],
   "source": [
    "p = 0.08\n",
    "n = 200\n",
    "se =np.sqrt(p*(1-p))\n",
    "z = (0.15-p)/se\n",
    "1- st.norm.cdf(z)"
   ]
  },
  {
   "cell_type": "markdown",
   "metadata": {
    "id": "U5-KJ_WlgLjq"
   },
   "source": [
    "As you may have noticed , the calculation are tedious using the bernouli formula , this can be tackled if we approxiate the result using **the standard normal distribution**,to do so, use sample proportion and Standard Normal distribution to get the same result.\n",
    "\n",
    "\n",
    "notes : \n",
    "The mean and standar error of Bernouli formula is : \n",
    "\n",
    "\\begin{equation}\n",
    "\\begin{aligned}\n",
    "&\\mu_{Y}=p \\\\\n",
    "&\\sigma_{Y}=\\sqrt{P(1-p)}\n",
    "\\end{aligned}\n",
    "\\end{equation}\n",
    "\n",
    "in order to perfom the following calculation , some conditions need to be met :\n",
    "\n",
    "$n*p > 10$ <br>\n",
    "$n*(p-1) >10$\n",
    "\n",
    "such that $p$ is prob of success , and $n$ is the number of trials"
   ]
  },
  {
   "cell_type": "code",
   "execution_count": 8,
   "metadata": {
    "id": "B5AoL1ssglhU"
   },
   "outputs": [
    {
     "name": "stdout",
     "output_type": "stream",
     "text": [
      "16.0\n",
      "184.0\n"
     ]
    }
   ],
   "source": [
    "print(n*p)\n",
    "print(n*(1-p))"
   ]
  },
  {
   "cell_type": "markdown",
   "metadata": {
    "id": "nM7iHt8ahH1j"
   },
   "source": [
    "What is the probability that the sample defect rate is less than 4%?"
   ]
  },
  {
   "cell_type": "code",
   "execution_count": 45,
   "metadata": {
    "id": "mYACpK6GhFX8"
   },
   "outputs": [
    {
     "data": {
      "text/plain": [
       "0.441391595576413"
      ]
     },
     "execution_count": 45,
     "metadata": {},
     "output_type": "execute_result"
    }
   ],
   "source": [
    "# p(X<4)\n",
    "st.norm.cdf(x=0.04 , loc=p , scale=np.sqrt(p*(1-p)))"
   ]
  },
  {
   "cell_type": "code",
   "execution_count": 21,
   "metadata": {},
   "outputs": [
    {
     "data": {
      "text/plain": [
       "0.39819441499269925"
      ]
     },
     "execution_count": 21,
     "metadata": {},
     "output_type": "execute_result"
    }
   ],
   "source": [
    "1 - st.norm.cdf(x = 0.15 , loc=p , scale=np.sqrt(p*(1-p)))"
   ]
  },
  {
   "cell_type": "markdown",
   "metadata": {
    "id": "m2LYbk2YhVpt"
   },
   "source": [
    "the calculations of 1) and 2) using the Binomial distribution. Then, compare. (hint : consider using binom function of scipy)"
   ]
  },
  {
   "cell_type": "code",
   "execution_count": 47,
   "metadata": {
    "id": "D2Kb3rsohWPd"
   },
   "outputs": [
    {
     "name": "stdout",
     "output_type": "stream",
     "text": [
      "5.907894002722092e-05\n",
      "5.9078940027216704e-05\n"
     ]
    }
   ],
   "source": [
    "prob = 0\n",
    "for i in range(0,4) : \n",
    "    prob+= st.binom.pmf(k=i, n = n , p = p)\n",
    "\n",
    "print(prob)\n",
    "print(st.binom.cdf(k=3,n=n,p=p))"
   ]
  },
  {
   "cell_type": "code",
   "execution_count": 49,
   "metadata": {
    "id": "1VmCd0X2iAYi"
   },
   "outputs": [
    {
     "name": "stdout",
     "output_type": "stream",
     "text": [
      "0.5374177640667627\n",
      "0.5374177640666973\n"
     ]
    }
   ],
   "source": [
    "prob = 0\n",
    "for i in range(0,16) : \n",
    "    prob+= st.binom.pmf(k=i, n = n , p = p)\n",
    "\n",
    "print(1-prob)\n",
    "print(1 - st.binom.cdf(k=15,n=n,p=p))"
   ]
  },
  {
   "cell_type": "markdown",
   "metadata": {
    "id": "iY1XoPOMA0vv"
   },
   "source": [
    "# Sample size for a given margin of error for a mean\n",
    "\n",
    "Documentation :\n",
    "\n",
    "\n",
    "https://colab.research.google.com/drive/1KUcVh06rx2-j_SN3j5wVEBTpBx-7K87J#scrollTo=J5EHPBWeDp-D"
   ]
  },
  {
   "cell_type": "markdown",
   "metadata": {
    "id": "zjIEwt19iiXP"
   },
   "source": [
    "For populations that are large, Cochran (1963:75)\n",
    "developed the Equation to yield a representative\n",
    "sample for proportions :\n",
    "\n",
    "\\begin{equation}\n",
    "n_{0}=\\frac{Z^{2} p q}{ME^{2}}  \n",
    "\\end{equation}\n",
    "<br>\n",
    "such that , $q = (1-p)$ , the standard error is $\\sqrt{\\frac{p(1-p)}{n}}$ and $ME$ is the margin error <br> \n",
    "Suppose we want to evaluate a state wide Extension program in which farmers were\n",
    "encouraged to adopt a new practice. Assume there is\n",
    "a large population but that we do not know the\n",
    "variability in the proportion that will adopt the\n",
    "practice; therefore, assume p=.5 (maximum\n",
    "variability). Furthermore, suppose we desire a 95%\n",
    "confidence level and ±5% precision. The resulting\n",
    "sample size is demonstrated in the following equation.\n",
    "\n",
    "$$\n",
    "n_{0}=\\frac{Z^{2} p q}{ME^{2}}=\\frac{(1.96)^{2}(.5)(.5)}{(05)^{2}}=385 \\text { farmers }\n",
    "$$\n",
    "\n",
    "We can also use :\n",
    "\n",
    "\\begin{equation}\n",
    "n_{0}=\\frac{sigma^{2}}{e^{2}}\n",
    "\\end{equation}\n",
    "\n",
    "\n"
   ]
  },
  {
   "cell_type": "markdown",
   "metadata": {
    "id": "P4LvtEB9i0dw"
   },
   "source": [
    "Question 1---\n",
    "\n",
    "Calculate the *minimum* sample size in each of the following cases.\n",
    "\n",
    "a)- When we the standard error less than 20\n",
    "\n",
    "\n",
    "b)- Use the Standard Normal distribution to calculate  the probability or the area under curve to the left of this 95%  confidence interval that should be less than 6.\n",
    "\n",
    "c)- Use the Standard Normal distribution to calculate  the probability the full width of the 75% confidence interval confidence interval that should be less than 6.\n"
   ]
  },
  {
   "cell_type": "code",
   "execution_count": 214,
   "metadata": {
    "id": "d_II-yJEb3io"
   },
   "outputs": [
    {
     "data": {
      "text/plain": [
       "0.0625"
      ]
     },
     "execution_count": 214,
     "metadata": {},
     "output_type": "execute_result"
    }
   ],
   "source": [
    "# a\n",
    "p = 0.5\n",
    "#sigma = np.sqrt(p*(1-p))\n",
    "sigma = 5\n",
    "e = 20\n",
    "n0 = (sigma**2)/(e**2)\n",
    "n0"
   ]
  },
  {
   "cell_type": "code",
   "execution_count": 221,
   "metadata": {},
   "outputs": [
    {
     "data": {
      "text/plain": [
       "1.8788496208995926"
      ]
     },
     "execution_count": 221,
     "metadata": {},
     "output_type": "execute_result"
    }
   ],
   "source": [
    "#b\n",
    "# n = ((z*sigma)/w)**2\n",
    "w = 6\n",
    "z = st.norm.ppf(0.95)\n",
    "sigma = 5\n",
    "\n",
    "n0 = ((z*sigma)/w)**2\n",
    "n0\n",
    "### the minimum sample size == 2"
   ]
  },
  {
   "cell_type": "code",
   "execution_count": 222,
   "metadata": {},
   "outputs": [
    {
     "data": {
      "text/plain": [
       "0.918960900646851"
      ]
     },
     "execution_count": 222,
     "metadata": {},
     "output_type": "execute_result"
    }
   ],
   "source": [
    "#c\n",
    "w = 6\n",
    "z = st.norm.ppf(0.875)\n",
    "sigma = 5\n",
    "\n",
    "n0 = ((z*sigma)/w)**2\n",
    "n0\n",
    "### the minimum sample size == 1"
   ]
  },
  {
   "cell_type": "markdown",
   "metadata": {
    "id": "K-mO0-rBGp7l"
   },
   "source": [
    "Qustion \n",
    "\n",
    "According to the specification sheet, the average weight of the bolts is  μ=30 gr with  σ=2 gr.\n",
    "Suppose that a sample of 50 bolts is drawn.\n",
    "\n",
    "What is the probability that the sample mean is **between** 29.8gr and 30.2gr? (Use Standard Normal and Student-t)\n",
    "\n",
    "<br>\n",
    "\n",
    "\n",
    "recall that  the interval is $[\\bar{x} - z_{1-\\frac{\\alpha}{2}} * \\frac{\\sigma}{\\sqrt{n}}  ,\\bar{x} + z_{1-\\frac{\\alpha}{2}} * \\frac{\\sigma}{\\sqrt{n}}  ]$ \n",
    "\n",
    "<br>\n",
    "\n",
    "In the confidence interval, there's what we call the margin error (also called half half), denoted $ME$ or $w$, and is equal to : <br>\n",
    "\n",
    "$w = \\bar{x} - z_{1-\\frac{\\alpha}{2}} * \\frac{\\sigma}{\\sqrt{n}} $\n",
    "\n",
    "\n",
    "use this formula to get $n$ the sample size. \n"
   ]
  },
  {
   "cell_type": "code",
   "execution_count": 104,
   "metadata": {},
   "outputs": [
    {
     "data": {
      "text/plain": [
       "0.520499877813045"
      ]
     },
     "execution_count": 104,
     "metadata": {},
     "output_type": "execute_result"
    }
   ],
   "source": [
    "z1 = (30.2-30)/(2/np.sqrt(50))\n",
    "z2 = (29.8-30)/(2/np.sqrt(50))\n",
    "\n",
    "st.norm.cdf(z1)-st.norm.cdf(z2)"
   ]
  },
  {
   "cell_type": "code",
   "execution_count": 121,
   "metadata": {},
   "outputs": [
    {
     "data": {
      "text/plain": [
       "0.5171504292916964"
      ]
     },
     "execution_count": 121,
     "metadata": {},
     "output_type": "execute_result"
    }
   ],
   "source": [
    "t1 = (30.2-30)/(2/np.sqrt(50))\n",
    "t2 = (29.8-30)/(2/np.sqrt(50))\n",
    "\n",
    "st.t.cdf(z1,df=49)-st.t.cdf(z2,df=49)"
   ]
  },
  {
   "cell_type": "code",
   "execution_count": 216,
   "metadata": {},
   "outputs": [
    {
     "data": {
      "text/plain": [
       "50"
      ]
     },
     "execution_count": 216,
     "metadata": {},
     "output_type": "execute_result"
    }
   ],
   "source": [
    "w = 29.8\n",
    "sigma = 2\n",
    "x_bar = 30\n",
    "n_sample_size = ((z1*sigma)/(x_bar-w))**2\n",
    "n_sample_size = int(n_sample_size)\n",
    "n_sample_size"
   ]
  },
  {
   "cell_type": "markdown",
   "metadata": {
    "id": "qFODmon7Hnmy"
   },
   "source": [
    "Question\n",
    "\n",
    "What is the probability that the sample mean is **larger** than 30.5gr? (Use Standard Normal and Student-t)"
   ]
  },
  {
   "cell_type": "code",
   "execution_count": 107,
   "metadata": {
    "id": "ylDHTOlPHtHo"
   },
   "outputs": [
    {
     "data": {
      "text/plain": [
       "0.24315492495636803"
      ]
     },
     "execution_count": 107,
     "metadata": {},
     "output_type": "execute_result"
    }
   ],
   "source": [
    "#Using the standard normal \n",
    "1 - st.norm.cdf(z1)"
   ]
  },
  {
   "cell_type": "code",
   "execution_count": 117,
   "metadata": {},
   "outputs": [
    {
     "data": {
      "text/plain": [
       "0.2414247853541518"
      ]
     },
     "execution_count": 117,
     "metadata": {},
     "output_type": "execute_result"
    }
   ],
   "source": [
    "#Using the student-t\n",
    "1 - st.t.cdf(t1,df=49)"
   ]
  },
  {
   "cell_type": "markdown",
   "metadata": {
    "id": "AxUvaZwtH7Cn"
   },
   "source": [
    "# Correlation and interval estimation"
   ]
  },
  {
   "cell_type": "code",
   "execution_count": 125,
   "metadata": {
    "ExecuteTime": {
     "end_time": "2021-07-31T23:07:49.752721Z",
     "start_time": "2021-07-31T23:07:26.100667Z"
    },
    "id": "ykxS0A5NH9ef"
   },
   "outputs": [],
   "source": [
    "import seaborn as sns\n",
    "df = sns.load_dataset('iris')\n",
    "\n",
    "x = df.petal_length\n",
    "y = df.sepal_length"
   ]
  },
  {
   "cell_type": "markdown",
   "metadata": {
    "id": "-XZWYx36GdEG"
   },
   "source": [
    "Question : \n",
    "\n",
    "calculate the pearson correlation between x and y , then calculate the 95% and 99% confidence interval.  \n",
    "\n"
   ]
  },
  {
   "cell_type": "code",
   "execution_count": 137,
   "metadata": {
    "id": "kW3XCf0bGdEH"
   },
   "outputs": [
    {
     "data": {
      "text/plain": [
       "0.872"
      ]
     },
     "execution_count": 137,
     "metadata": {},
     "output_type": "execute_result"
    }
   ],
   "source": [
    "a = np.round(st.pearsonr(x,y) , 3)\n",
    "a[0]"
   ]
  },
  {
   "cell_type": "code",
   "execution_count": 138,
   "metadata": {
    "id": "Lko-vcQ5nSCL"
   },
   "outputs": [],
   "source": [
    "#Apply the Fisher's z transformation \n",
    "n = len(x)\n",
    "r = a[0]\n",
    "z = np.arctanh(r)\n",
    "std_error_z = 1/np.sqrt(n-3)"
   ]
  },
  {
   "cell_type": "code",
   "execution_count": 139,
   "metadata": {},
   "outputs": [
    {
     "name": "stdout",
     "output_type": "stream",
     "text": [
      "(0.8273604895524721, 0.9056927322146551)\n"
     ]
    }
   ],
   "source": [
    "# 95% \n",
    "low = np.tanh(z-st.norm.ppf(0.975)*std_error_z)\n",
    "high = np.tanh(z+st.norm.ppf(0.975)*std_error_z)\n",
    "print((low,high))"
   ]
  },
  {
   "cell_type": "code",
   "execution_count": 140,
   "metadata": {},
   "outputs": [
    {
     "name": "stdout",
     "output_type": "stream",
     "text": [
      "(0.810647725395961, 0.9144130908438719)\n"
     ]
    }
   ],
   "source": [
    "# 99% \n",
    "low = np.tanh(z-st.norm.ppf(0.995)*std_error_z)\n",
    "high = np.tanh(z+st.norm.ppf(0.995)*std_error_z)\n",
    "print((low,high))"
   ]
  },
  {
   "cell_type": "markdown",
   "metadata": {
    "id": "wCsUKmewGdEH"
   },
   "source": [
    "# F test for variance"
   ]
  },
  {
   "cell_type": "markdown",
   "metadata": {
    "id": "VNTaOhoZyhdl"
   },
   "source": [
    "Question :\n",
    "\n",
    "Knowing that: f-test is equal to  $ \\mathrm{s}_{1}^{2} / \\mathrm{s}_{2}^{2}$.\n",
    "\n",
    "Let's assume that we have the following values of two samples\n",
    "- $n1=17$, $\\bar{x}_1=5.0220 kg$, $s_1^2=0.0202 $\n",
    "- $n2=26$, $\\bar{x}_2=7.5263 kg$, $s_2^2=0.0178 $  \n",
    "\n",
    "Test whether there is a significant difference in the variances (95%).\n",
    "\n",
    "Do the right/ left / 2 side tail test.\n",
    "\n",
    "recall that : <br>\n",
    "the null hypothesis $H_{0}$ is that the two samples have equal population variances $s_{1}=s_{2}$\n",
    "\n",
    "the alternative hypothesis $H_{a}$ is that the two samples have unequal population variances.  $s_{1}!=s_{2}$\n",
    "\n",
    "\n",
    "this applies for two tails test\n"
   ]
  },
  {
   "cell_type": "code",
   "execution_count": 162,
   "metadata": {
    "id": "7UKWRcHGylHH"
   },
   "outputs": [
    {
     "name": "stdout",
     "output_type": "stream",
     "text": [
      "f_stat : 1.1348314606741572\n",
      "f_critical : 2.3840020122505803\n",
      "We cannot reject H0\n"
     ]
    }
   ],
   "source": [
    "n1=17\n",
    "n2=26\n",
    "x1=5.022\n",
    "x2=7.5263\n",
    "s1_2=0.0202\n",
    "s2_2=0.0178\n",
    "\n",
    "alpha = 1-0.95\n",
    "\n",
    "#H0 : no difference in variances\n",
    "#Ha : difference in variances\n",
    "\n",
    "#Calculate the F critical value \n",
    "f_stat = s1_2/s2_2\n",
    "\n",
    "#Calculate degrees of freedom\n",
    "df1 = 16\n",
    "df2 = 25\n",
    "\n",
    "\n",
    "#pvalue = (1 - st.f.cdf(f_stat,df1,df2))*2\n",
    "#print(\"pvalue :\",pvalue)\n",
    "\n",
    "f_critical = st.f.ppf(0.975,df1,df2)\n",
    "print(\"f_stat :\",f_stat)\n",
    "print(\"f_critical :\",f_critical)\n",
    "if f_stat > f_critical  :\n",
    "    print(\"We reject H0\")\n",
    "else : \n",
    "    print(\"We cannot reject H0\")"
   ]
  },
  {
   "cell_type": "markdown",
   "metadata": {
    "id": "LEwJfcbRGdEH"
   },
   "source": [
    "same as the above for right tail test"
   ]
  },
  {
   "cell_type": "code",
   "execution_count": 163,
   "metadata": {
    "id": "iRYIE5pCGdEI"
   },
   "outputs": [
    {
     "name": "stdout",
     "output_type": "stream",
     "text": [
      "We cannot reject H0\n"
     ]
    }
   ],
   "source": [
    "f_critical = st.f.ppf(0.95,df1,df2)\n",
    "\n",
    "if f_stat > f_critical  :\n",
    "    print(\"We reject H0\")\n",
    "else : \n",
    "    print(\"We cannot reject H0\")"
   ]
  },
  {
   "cell_type": "markdown",
   "metadata": {
    "id": "KzSHHT57GdEI"
   },
   "source": [
    "same as the above for left tail test"
   ]
  },
  {
   "cell_type": "code",
   "execution_count": 164,
   "metadata": {
    "id": "ynMOP3TyGdEI"
   },
   "outputs": [
    {
     "name": "stdout",
     "output_type": "stream",
     "text": [
      "We reject H0\n"
     ]
    }
   ],
   "source": [
    "f_critical = st.f.ppf(0.05,df1,df2)\n",
    "\n",
    "if f_stat > f_critical  :\n",
    "    print(\"We reject H0\")\n",
    "else : \n",
    "    print(\"We cannot reject H0\")"
   ]
  },
  {
   "cell_type": "markdown",
   "metadata": {
    "id": "9d6VD-sTGdEI"
   },
   "source": [
    "do you notice any differences ? "
   ]
  },
  {
   "cell_type": "markdown",
   "metadata": {},
   "source": [
    "Yes, There is a difference between the left tail test and the right tail test\n",
    "In the right tail test we failed to reject H0\n",
    "In the left tail test we rejected H0"
   ]
  },
  {
   "cell_type": "markdown",
   "metadata": {
    "id": "rf1aToBx0w1c"
   },
   "source": [
    "# ANOVA\n"
   ]
  },
  {
   "cell_type": "code",
   "execution_count": 165,
   "metadata": {
    "id": "uE7OMgAO0yLF"
   },
   "outputs": [],
   "source": [
    "import scipy.stats as stats\n",
    "import seaborn as sns\n",
    "import pandas as pd\n",
    "import numpy as np\n",
    "import scipy.stats as st\n",
    "df=sns.load_dataset('tips')"
   ]
  },
  {
   "cell_type": "code",
   "execution_count": 166,
   "metadata": {
    "id": "vREfa8uH1KE8"
   },
   "outputs": [
    {
     "name": "stdout",
     "output_type": "stream",
     "text": [
      "<class 'pandas.core.frame.DataFrame'>\n",
      "RangeIndex: 244 entries, 0 to 243\n",
      "Data columns (total 7 columns):\n",
      " #   Column      Non-Null Count  Dtype   \n",
      "---  ------      --------------  -----   \n",
      " 0   total_bill  244 non-null    float64 \n",
      " 1   tip         244 non-null    float64 \n",
      " 2   sex         244 non-null    category\n",
      " 3   smoker      244 non-null    category\n",
      " 4   day         244 non-null    category\n",
      " 5   time        244 non-null    category\n",
      " 6   size        244 non-null    int64   \n",
      "dtypes: category(4), float64(2), int64(1)\n",
      "memory usage: 7.4 KB\n"
     ]
    }
   ],
   "source": [
    "df.info()"
   ]
  },
  {
   "cell_type": "code",
   "execution_count": 169,
   "metadata": {},
   "outputs": [
    {
     "data": {
      "text/html": [
       "<div>\n",
       "<style scoped>\n",
       "    .dataframe tbody tr th:only-of-type {\n",
       "        vertical-align: middle;\n",
       "    }\n",
       "\n",
       "    .dataframe tbody tr th {\n",
       "        vertical-align: top;\n",
       "    }\n",
       "\n",
       "    .dataframe thead th {\n",
       "        text-align: right;\n",
       "    }\n",
       "</style>\n",
       "<table border=\"1\" class=\"dataframe\">\n",
       "  <thead>\n",
       "    <tr style=\"text-align: right;\">\n",
       "      <th></th>\n",
       "      <th>total_bill</th>\n",
       "      <th>tip</th>\n",
       "      <th>sex</th>\n",
       "      <th>smoker</th>\n",
       "      <th>day</th>\n",
       "      <th>time</th>\n",
       "      <th>size</th>\n",
       "    </tr>\n",
       "  </thead>\n",
       "  <tbody>\n",
       "    <tr>\n",
       "      <th>0</th>\n",
       "      <td>16.99</td>\n",
       "      <td>1.01</td>\n",
       "      <td>Female</td>\n",
       "      <td>No</td>\n",
       "      <td>Sun</td>\n",
       "      <td>Dinner</td>\n",
       "      <td>2</td>\n",
       "    </tr>\n",
       "    <tr>\n",
       "      <th>1</th>\n",
       "      <td>10.34</td>\n",
       "      <td>1.66</td>\n",
       "      <td>Male</td>\n",
       "      <td>No</td>\n",
       "      <td>Sun</td>\n",
       "      <td>Dinner</td>\n",
       "      <td>3</td>\n",
       "    </tr>\n",
       "    <tr>\n",
       "      <th>2</th>\n",
       "      <td>21.01</td>\n",
       "      <td>3.50</td>\n",
       "      <td>Male</td>\n",
       "      <td>No</td>\n",
       "      <td>Sun</td>\n",
       "      <td>Dinner</td>\n",
       "      <td>3</td>\n",
       "    </tr>\n",
       "    <tr>\n",
       "      <th>3</th>\n",
       "      <td>23.68</td>\n",
       "      <td>3.31</td>\n",
       "      <td>Male</td>\n",
       "      <td>No</td>\n",
       "      <td>Sun</td>\n",
       "      <td>Dinner</td>\n",
       "      <td>2</td>\n",
       "    </tr>\n",
       "    <tr>\n",
       "      <th>4</th>\n",
       "      <td>24.59</td>\n",
       "      <td>3.61</td>\n",
       "      <td>Female</td>\n",
       "      <td>No</td>\n",
       "      <td>Sun</td>\n",
       "      <td>Dinner</td>\n",
       "      <td>4</td>\n",
       "    </tr>\n",
       "    <tr>\n",
       "      <th>...</th>\n",
       "      <td>...</td>\n",
       "      <td>...</td>\n",
       "      <td>...</td>\n",
       "      <td>...</td>\n",
       "      <td>...</td>\n",
       "      <td>...</td>\n",
       "      <td>...</td>\n",
       "    </tr>\n",
       "    <tr>\n",
       "      <th>239</th>\n",
       "      <td>29.03</td>\n",
       "      <td>5.92</td>\n",
       "      <td>Male</td>\n",
       "      <td>No</td>\n",
       "      <td>Sat</td>\n",
       "      <td>Dinner</td>\n",
       "      <td>3</td>\n",
       "    </tr>\n",
       "    <tr>\n",
       "      <th>240</th>\n",
       "      <td>27.18</td>\n",
       "      <td>2.00</td>\n",
       "      <td>Female</td>\n",
       "      <td>Yes</td>\n",
       "      <td>Sat</td>\n",
       "      <td>Dinner</td>\n",
       "      <td>2</td>\n",
       "    </tr>\n",
       "    <tr>\n",
       "      <th>241</th>\n",
       "      <td>22.67</td>\n",
       "      <td>2.00</td>\n",
       "      <td>Male</td>\n",
       "      <td>Yes</td>\n",
       "      <td>Sat</td>\n",
       "      <td>Dinner</td>\n",
       "      <td>2</td>\n",
       "    </tr>\n",
       "    <tr>\n",
       "      <th>242</th>\n",
       "      <td>17.82</td>\n",
       "      <td>1.75</td>\n",
       "      <td>Male</td>\n",
       "      <td>No</td>\n",
       "      <td>Sat</td>\n",
       "      <td>Dinner</td>\n",
       "      <td>2</td>\n",
       "    </tr>\n",
       "    <tr>\n",
       "      <th>243</th>\n",
       "      <td>18.78</td>\n",
       "      <td>3.00</td>\n",
       "      <td>Female</td>\n",
       "      <td>No</td>\n",
       "      <td>Thur</td>\n",
       "      <td>Dinner</td>\n",
       "      <td>2</td>\n",
       "    </tr>\n",
       "  </tbody>\n",
       "</table>\n",
       "<p>244 rows × 7 columns</p>\n",
       "</div>"
      ],
      "text/plain": [
       "     total_bill   tip     sex smoker   day    time  size\n",
       "0         16.99  1.01  Female     No   Sun  Dinner     2\n",
       "1         10.34  1.66    Male     No   Sun  Dinner     3\n",
       "2         21.01  3.50    Male     No   Sun  Dinner     3\n",
       "3         23.68  3.31    Male     No   Sun  Dinner     2\n",
       "4         24.59  3.61  Female     No   Sun  Dinner     4\n",
       "..          ...   ...     ...    ...   ...     ...   ...\n",
       "239       29.03  5.92    Male     No   Sat  Dinner     3\n",
       "240       27.18  2.00  Female    Yes   Sat  Dinner     2\n",
       "241       22.67  2.00    Male    Yes   Sat  Dinner     2\n",
       "242       17.82  1.75    Male     No   Sat  Dinner     2\n",
       "243       18.78  3.00  Female     No  Thur  Dinner     2\n",
       "\n",
       "[244 rows x 7 columns]"
      ]
     },
     "execution_count": 169,
     "metadata": {},
     "output_type": "execute_result"
    }
   ],
   "source": [
    "df"
   ]
  },
  {
   "cell_type": "code",
   "execution_count": 188,
   "metadata": {
    "id": "1QahbiXi1Mg0"
   },
   "outputs": [
    {
     "data": {
      "text/plain": [
       "['No', 'Yes']\n",
       "Categories (2, object): ['No', 'Yes']"
      ]
     },
     "execution_count": 188,
     "metadata": {},
     "output_type": "execute_result"
    }
   ],
   "source": [
    "df.smoker.unique()"
   ]
  },
  {
   "cell_type": "code",
   "execution_count": 170,
   "metadata": {
    "id": "jacOqr2__aX1"
   },
   "outputs": [
    {
     "data": {
      "image/png": "[encoded data removed]",
      "text/plain": [
       "<Figure size 432x288 with 1 Axes>"
      ]
     },
     "metadata": {
      "needs_background": "light"
     },
     "output_type": "display_data"
    }
   ],
   "source": [
    "x_vc = len(df[df.smoker=='Yes'])\n",
    "x_oj = len(df[df.smoker=='No'])\n",
    "# Multiple Boxplots.\n",
    "import matplotlib.pyplot as plt\n",
    "fig = plt.figure()\n",
    "ax = fig.add_axes([0,0,1,1])\n",
    "ax.boxplot([x_vc,x_oj],0)\n",
    "#ax.set_xticklabels(['Y','N'])\n",
    "plt.show()"
   ]
  },
  {
   "cell_type": "code",
   "execution_count": 195,
   "metadata": {},
   "outputs": [
    {
     "data": {
      "text/plain": [
       "total_bill  tip    sex     smoker  day   time    size\n",
       "13.00       2.00   Female  Yes     Thur  Lunch   2       2\n",
       "3.07        1.00   Female  Yes     Sat   Dinner  1       1\n",
       "23.10       4.00   Male    Yes     Sun   Dinner  3       1\n",
       "26.59       3.41   Male    Yes     Sat   Dinner  3       1\n",
       "25.89       5.16   Male    Yes     Sat   Dinner  4       1\n",
       "                                                        ..\n",
       "15.36       1.64   Male    Yes     Sat   Dinner  2       1\n",
       "15.01       2.09   Male    Yes     Sat   Dinner  2       1\n",
       "14.48       2.00   Male    Yes     Sun   Dinner  2       1\n",
       "14.31       4.00   Female  Yes     Sat   Dinner  2       1\n",
       "50.81       10.00  Male    Yes     Sat   Dinner  3       1\n",
       "Length: 92, dtype: int64"
      ]
     },
     "execution_count": 195,
     "metadata": {},
     "output_type": "execute_result"
    }
   ],
   "source": [
    "df[df.smoker=='Yes'].value_counts()"
   ]
  },
  {
   "cell_type": "markdown",
   "metadata": {
    "id": "VGWfrTB1B5Fo"
   },
   "source": [
    "#Anova\n",
    "\n",
    "https://www.pythonfordatascience.org/anova-python/"
   ]
  },
  {
   "cell_type": "code",
   "execution_count": null,
   "metadata": {
    "id": "vWX0pcov_9YR"
   },
   "outputs": [],
   "source": [
    "#one way test with anova"
   ]
  },
  {
   "cell_type": "code",
   "execution_count": 192,
   "metadata": {
    "id": "wZKDP6KbDsai"
   },
   "outputs": [
    {
     "name": "stdout",
     "output_type": "stream",
     "text": [
      "Test statistic  : 1.645684 \n",
      "p-value         : 0.200780 \n"
     ]
    }
   ],
   "source": [
    "res=st.f_oneway(df[df.smoker=='Yes'].value_counts(),df[df.smoker=='No'].value_counts())\n",
    "print(\"Test statistic  : %f \" % res[0] )\n",
    "print(\"p-value         : %f \" % res[1] )"
   ]
  },
  {
   "cell_type": "markdown",
   "metadata": {
    "id": "2Pw63Q5jl6rk"
   },
   "source": [
    "#Pearson correlation\n",
    "\n",
    "In Python, there is no functions to directly obtain confidence intervals (CIs) of Pearson correlations."
   ]
  },
  {
   "cell_type": "code",
   "execution_count": 196,
   "metadata": {
    "id": "VhHyX8E_mIC-"
   },
   "outputs": [],
   "source": [
    "x = np.random.randint(1, 300, 10)\n",
    "y  = np.random.randint(1, 300, 10)"
   ]
  },
  {
   "cell_type": "markdown",
   "metadata": {
    "id": "1QoPEai9mLBQ"
   },
   "source": [
    "The first step involves transformation of the correlation coefficient into a Fishers’ Z-score.\n",
    "\n",
    "The corresponding standard deviation is:\n",
    "\n",
    "\\begin{equation}\n",
    "s e=\\frac{1}{\\sqrt{N-3}}\n",
    "\\end{equation}\n",
    "\n"
   ]
  },
  {
   "cell_type": "code",
   "execution_count": 197,
   "metadata": {
    "id": "voYXPIe9mIbL"
   },
   "outputs": [],
   "source": [
    "#he first step involves transformation of the correlation coefficient into a Fishers’ Z-score.\n",
    "r, p = st.pearsonr(x,y)\n",
    "z = np.arctanh(r)"
   ]
  },
  {
   "cell_type": "code",
   "execution_count": 198,
   "metadata": {
    "id": "IMwJq3aDmO_a"
   },
   "outputs": [],
   "source": [
    "#Calculating SE\n",
    "std_error_z = 1/np.sqrt(x.size-3)"
   ]
  },
  {
   "cell_type": "markdown",
   "metadata": {
    "id": "_yf8oOA2mqZq"
   },
   "source": [
    "CI under the transformation can be calculated as   $\n",
    "r_{z} \\pm z_{\\alpha / 2} \\times s e\n",
    "$\n",
    ", where  $\n",
    "z_{\\alpha / 2}\n",
    "$\n",
    " is can be calculated using scipy.stats.norm.ppf function:"
   ]
  },
  {
   "cell_type": "code",
   "execution_count": 199,
   "metadata": {
    "id": "-YPdxPPDmt-i"
   },
   "outputs": [
    {
     "data": {
      "text/plain": [
       "{'low': 0.6675823576369068, 'high': -0.41117415412646235}"
      ]
     },
     "execution_count": 199,
     "metadata": {},
     "output_type": "execute_result"
    }
   ],
   "source": [
    "alpha = 0.05\n",
    "\n",
    "{'low':np.tanh(z-st.norm.ppf(0.05)*std_error_z), 'high': np.tanh(z+st.norm.ppf(0.05)*std_error_z)}\n"
   ]
  }
 ],
 "metadata": {
  "colab": {
   "collapsed_sections": [],
   "name": "Révision_PS_edited.ipynb",
   "private_outputs": true,
   "provenance": []
  },
  "kernelspec": {
   "display_name": "Python 3",
   "language": "python",
   "name": "python3"
  },
  "language_info": {
   "codemirror_mode": {
    "name": "ipython",
    "version": 3
   },
   "file_extension": ".py",
   "mimetype": "text/x-python",
   "name": "python",
   "nbconvert_exporter": "python",
   "pygments_lexer": "ipython3",
   "version": "3.8.8"
  },
  "toc": {
   "base_numbering": 1,
   "nav_menu": {},
   "number_sections": true,
   "sideBar": true,
   "skip_h1_title": false,
   "title_cell": "Table of Contents",
   "title_sidebar": "Contents",
   "toc_cell": false,
   "toc_position": {},
   "toc_section_display": true,
   "toc_window_display": false
  },
  "varInspector": {
   "cols": {
    "lenName": 16,
    "lenType": 16,
    "lenVar": 40
   },
   "kernels_config": {
    "python": {
     "delete_cmd_postfix": "",
     "delete_cmd_prefix": "del ",
     "library": "var_list.py",
     "varRefreshCmd": "print(var_dic_list())"
    },
    "r": {
     "delete_cmd_postfix": ") ",
     "delete_cmd_prefix": "rm(",
     "library": "var_list.r",
     "varRefreshCmd": "cat(var_dic_list()) "
    }
   },
   "types_to_exclude": [
    "module",
    "function",
    "builtin_function_or_method",
    "instance",
    "_Feature"
   ],
   "window_display": false
  }
 },
 "nbformat": 4,
 "nbformat_minor": 4
}
