{
 "cells": [
  {
   "cell_type": "code",
   "execution_count": 1,
   "source": [
    "import imageai\n",
    "import tensorflow as tf\n",
    "import cv2\n",
    "import numpy as np\n",
    "import pandas as pd\n"
   ],
   "outputs": [],
   "metadata": {}
  },
  {
   "cell_type": "code",
   "execution_count": 2,
   "source": [
    "tf.config.run_functions_eagerly(True)\n"
   ],
   "outputs": [],
   "metadata": {}
  },
  {
   "cell_type": "code",
   "execution_count": 4,
   "source": [
    "from imageai.Detection.Custom import DetectionModelTrainer\n",
    "trainer = DetectionModelTrainer()\n",
    "trainer.setModelTypeAsYOLOv3()\n",
    "\n",
    "trainer.setDataDirectory(\"final_model\")\n",
    "trainer.setTrainConfig(object_names_array=['house', 'person', 'tree', 'flower', 'sun', 'knife', 'hammer', 'scissors',\n",
    "                       'rocket', 'rifle', 'rainbow'], batch_size=10, num_experiments=1, train_from_pretrained_model=\"pretrained-yolov3.h5\")\n",
    "trainer.trainModel()\n"
   ],
   "outputs": [
    {
     "output_type": "stream",
     "name": "stdout",
     "text": [
      "Generating anchor boxes for training images and annotation...\n",
      "Average IOU for 9 anchors: 0.75\n",
      "Anchor Boxes generated.\n",
      "Detection configuration saved in  final_model\\json\\detection_config.json\n",
      "Training on: \t['flower', 'hammer', 'house', 'knife', 'person', 'rainbow', 'rifle', 'rocket', 'scissors', 'sun', 'tree']\n",
      "Training with Batch Size:  10\n",
      "Number of Experiments:  1\n",
      "Training with transfer learning from pretrained Model\n",
      "WARNING:tensorflow:`period` argument is deprecated. Please use `save_freq` to specify the frequency in number of batches seen.\n",
      "WARNING:tensorflow:`epsilon` argument is deprecated and will be removed, use `min_delta` instead.\n"
     ]
    },
    {
     "output_type": "stream",
     "name": "stderr",
     "text": [
      "C:\\Users\\Rania\\AppData\\Roaming\\Python\\Python39\\site-packages\\tensorflow\\python\\keras\\optimizer_v2\\optimizer_v2.py:374: UserWarning: The `lr` argument is deprecated, use `learning_rate` instead.\n",
      "  warnings.warn(\n",
      "C:\\Users\\Rania\\AppData\\Roaming\\Python\\Python39\\site-packages\\tensorflow\\python\\keras\\engine\\training.py:1969: UserWarning: `Model.fit_generator` is deprecated and will be removed in a future version. Please use `Model.fit`, which supports generators.\n",
      "  warnings.warn('`Model.fit_generator` is deprecated and '\n"
     ]
    },
    {
     "output_type": "stream",
     "name": "stdout",
     "text": [
      "WARNING:tensorflow:Model failed to serialize as JSON. Ignoring... Layer YoloLayer has arguments in `__init__` and therefore must override `get_config`.\n"
     ]
    },
    {
     "output_type": "stream",
     "name": "stderr",
     "text": [
      "C:\\Users\\Rania\\AppData\\Roaming\\Python\\Python39\\site-packages\\tensorflow\\python\\data\\ops\\dataset_ops.py:4211: UserWarning: Even though the `tf.config.experimental_run_functions_eagerly` option is set, this option does not apply to tf.data functions. To force eager execution of tf.data functions, please use `tf.data.experimental.enable_debug_mode()`.\n",
      "  warnings.warn(\n",
      "C:\\Users\\Rania\\AppData\\Roaming\\Python\\Python39\\site-packages\\tensorflow\\python\\keras\\utils\\generic_utils.py:494: CustomMaskWarning: Custom mask layers require a config and must override get_config. When loading, the custom mask layer must be passed to the custom_objects argument.\n",
      "  warnings.warn('Custom mask layers require a config and must override '\n"
     ]
    },
    {
     "output_type": "stream",
     "name": "stdout",
     "text": [
      "912/912 [==============================] - 31280s 34s/step - loss: 31.8822 - yolo_layer_loss: 5.2008 - yolo_layer_1_loss: 8.1949 - yolo_layer_2_loss: 18.4866 - val_loss: 13.9673 - val_yolo_layer_loss: 1.1831 - val_yolo_layer_1_loss: 4.2096 - val_yolo_layer_2_loss: 8.5746\n",
      "WARNING:tensorflow:Compiled the loaded model, but the compiled metrics have yet to be built. `model.compile_metrics` will be empty until you train or evaluate the model.\n"
     ]
    }
   ],
   "metadata": {}
  },
  {
   "cell_type": "code",
   "execution_count": 5,
   "source": [
    "from imageai.Detection.Custom import DetectionModelTrainer\n",
    "\n",
    "trainer = DetectionModelTrainer()\n",
    "trainer.setModelTypeAsYOLOv3()\n",
    "trainer.setDataDirectory(data_directory=\"final_model\")\n",
    "metrics = trainer.evaluateModel(model_path=\"./final_model/models\", json_path=\"./final_model/json/detection_config.json\",\n",
    "                                iou_threshold=0.2, object_threshold=0.2, nms_threshold=0.2)\n",
    "print(metrics)\n"
   ],
   "outputs": [
    {
     "output_type": "stream",
     "name": "stdout",
     "text": [
      "Starting Model evaluation....\n"
     ]
    },
    {
     "output_type": "stream",
     "name": "stderr",
     "text": [
      "C:\\Users\\Rania\\AppData\\Roaming\\Python\\Python39\\site-packages\\tensorflow\\python\\keras\\optimizer_v2\\optimizer_v2.py:374: UserWarning: The `lr` argument is deprecated, use `learning_rate` instead.\n",
      "  warnings.warn(\n"
     ]
    },
    {
     "output_type": "stream",
     "name": "stdout",
     "text": [
      "WARNING:tensorflow:No training configuration found in the save file, so the model was *not* compiled. Compile it manually.\n",
      "Model File:  ./final_model/models\\detection_model-ex-001--loss-0031.882.h5 \n",
      "\n",
      "Using IoU :  0.2\n",
      "Using Object Threshold :  0.2\n",
      "Using Non-Maximum Suppression :  0.2\n",
      "flower: 0.4009\n",
      "hammer: 0.0000\n",
      "house: 0.8123\n",
      "knife: 0.0818\n",
      "person: 0.7726\n",
      "rainbow: 0.0000\n",
      "rifle: 0.5921\n",
      "rocket: 0.2459\n",
      "scissors: 0.0000\n",
      "sun: 0.7487\n",
      "tree: 0.1388\n",
      "mAP: 0.3448\n",
      "===============================\n",
      "[{'model_file': './final_model/models\\\\detection_model-ex-001--loss-0031.882.h5', 'using_iou': 0.2, 'using_object_threshold': 0.2, 'using_non_maximum_suppression': 0.2, 'average_precision': {'flower': 0.4008512353302792, 'hammer': 0, 'house': 0.8123436306340719, 'knife': 0.0818181818181818, 'person': 0.7726360331836617, 'rainbow': 0.0, 'rifle': 0.5921257391845627, 'rocket': 0.24586206896551724, 'scissors': 0, 'sun': 0.7486573576799141, 'tree': 0.13877314814814815}, 'map': 0.3448243086313033}]\n"
     ]
    }
   ],
   "metadata": {}
  },
  {
   "cell_type": "code",
   "execution_count": 21,
   "source": [
    "from imageai.Detection.Custom import CustomObjectDetection\n",
    "detector = CustomObjectDetection()\n",
    "detector.setModelTypeAsYOLOv3()\n",
    "detector.setModelPath(\n",
    "    \"./final_model/models/detection_model-ex-001--loss-0031.882.h5\")\n",
    "detector.setJsonPath(\"./final_model/json/detection_config.json\")\n",
    "detector.loadModel()\n",
    "detections = detector.detectObjectsFromImage(\n",
    "    input_image=\"47.jpg\", output_image_path=\"test_res.jpg\", minimum_percentage_probability=80)\n",
    "for detection in detections:\n",
    "    print(detection[\"name\"], \" : \", detection[\"percentage_probability\"], \" : \", detection[\"box_points\"])\n"
   ],
   "outputs": [
    {
     "output_type": "stream",
     "name": "stdout",
     "text": [
      "[341, 193, 424, 371]\n",
      "[438, 208, 521, 357]\n",
      "[441, 215, 517, 364]\n",
      "[182, 230, 247, 431]\n",
      "person  :  98.76635670661926  :  [341, 193, 424, 371]\n",
      "person  :  97.50291109085083  :  [438, 208, 521, 357]\n",
      "tree  :  82.70829319953918  :  [441, 215, 517, 364]\n",
      "person  :  96.01204991340637  :  [182, 230, 247, 431]\n"
     ]
    }
   ],
   "metadata": {}
  },
  {
   "cell_type": "code",
   "execution_count": 155,
   "source": [
    "#From the results of the object detecion model, we create a dataframe that contains the boxpoints of each object on the image (house, tree and person)\n",
    "df = pd.DataFrame({'name': pd.Series(dtype='str'),\n",
    "                   'xmin': pd.Series(dtype='int'),\n",
    "                   'ymin': pd.Series(dtype='int'),\n",
    "                   'xmax': pd.Series(dtype='int'),\n",
    "                   'ymax': pd.Series(dtype='int'),\n",
    "                   })\n",
    "for detection in detections:\n",
    "  new_row= pd.DataFrame()\n",
    "  new_row = pd.DataFrame([[detection['name'],detection[\"box_points\"][0],detection[\"box_points\"][1],detection[\"box_points\"][2],detection[\"box_points\"][3]]],columns=['name','xmin','ymin','xmax','ymax'])\n",
    "  df = pd.concat([df, new_row], ignore_index=True)\n",
    "#We add three more columns that contains heights, widths and areas of the objects  \n",
    "df['height'] = df['xmax']-df['xmin']\n",
    "df['width'] = df['ymax']-df['ymin']\n",
    "df['area'] = df['height']*df['width']\n",
    "\n",
    "#We create another dataframe that contains the thresholds of height, width and area for each object, so we can make the interpretation  \n",
    "thresholds = pd.DataFrame({'object': ['house', 'tree', 'person'], 'height': [(\n",
    "    size[0]*30/100, size[0]*60/100), (size[0]*30/100, size[0]*80/100), ((size[0]*30/100, size[0]*40/100))], 'width': [(size[0]*30/100), (size[0]*5/100), (size[0]*5/100)], 'area': [(0), (0), (0)]})\n",
    "thresholds.set_index('object',inplace=True)\n",
    "# TO FILL ....\n",
    "\n",
    "#After that, we create a function that takes as input the object that we want to analyse (measure the proportions), and then return the interpretation based on the height, width and area (for the moment, we only check the height of the objects) \n",
    "def interpretation(drawing,df) : #drawing is the object we want to check its proportions, and df is the dataframe that contains the informations of each object (for example: interpretation('house',df))\n",
    "  interpretation = 'the size of the object'+' \\\"'+drawing +'\\\"'+' is normal'\n",
    "  if drawing == 'tree' : \n",
    "    if int(df[df['name'] == drawing].height) < thresholds['height'][drawing][0] : \n",
    "      interpretation = 'The size of the tree in the drawing is very small, it relates to a weak ego'\n",
    "    elif int(df[df['name'] == drawing].height) > thresholds['height'][drawing][1]:\n",
    "      interpretation = 'The size of the tree in the drawing is very big, it relates to a strong inner stength and ego'\n",
    "  \n",
    "  elif drawing == 'house' : \n",
    "    if int(df[df['name'] == drawing].height) < thresholds['height'][drawing][0]:\n",
    "      interpretation = 'The height of the house in the drawing is very small, it signifies rejection of the home and family life'\n",
    "    elif int(df[df['name'] == drawing].height) > thresholds['height'][drawing][1]:\n",
    "      interpretation = 'The height of the house in the drawing is very big, it signifies the view of the home as restrictive and controlling'\n",
    "  \n",
    "  elif drawing == 'person' : \n",
    "    if int(df[df['name'] == drawing].height) < thresholds['height'][drawing][0]:\n",
    "      interpretation = 'The height of the person in the drawing is very small, it reflects feeling of inferiority and insignificance'\n",
    "    elif int(df[df['name'] == drawing].height) > thresholds['height'][drawing][1]:\n",
    "      interpretation = 'The height of the person in the drawing is extremly large, it tell us that the patient has a high-level of self esteem, or may suffer from delusions of grandeur'\n",
    "      \n",
    "  else : \n",
    "    return 'no drawing found'\n",
    "\n",
    "  return interpretation #If interpretation == '', it means that we can tell anything about the sizes of the objects (the objects are in a normal size)\n",
    "\n",
    "\n",
    "\n",
    "#After that, we crop the object we want to analyze on the image, using these two functions (the house object)\n",
    "# FUNCTIONS \n",
    "def boxpoints_object(ob,df) : #df is the dataframe that contains the informations about each object, and ob is the object we want to crop (for the moment, we only analyze the house) \n",
    "  if ob not in ['house','tree','person'] :\n",
    "    print('no object found')\n",
    "  else : \n",
    "    coordinates_obj = df[df.name==ob][['xmin','ymin','xmax','ymax']]\n",
    "    if coordinates_obj.shape[0] != 1 :\n",
    "      print('Error, the model detected zero or more than one',ob,'object' )\n",
    "      return 0\n",
    "    else : \n",
    "      coordinates_obj=coordinates_obj.values.flatten().tolist()\n",
    "      return [coordinates_obj[0], coordinates_obj[1], coordinates_obj[2], coordinates_obj[3]] \n",
    "\n",
    "#If the function returns 0, it means the presence of zero or more than one same object in the dataframe (for example: the dataset contains two house objects, or zero house object)\n",
    "\n",
    "def return_cropped_image(im,boxpoints) : #this function takes as input the original image, and then return the cropped image using the boxpoints returned by 'boxpoints_object' function  \n",
    "  im_cropped = im.crop((boxpoints_house))\n",
    "  im_cropped = im_cropped.resize((512,512))\n",
    "  return im_cropped\n",
    "\n",
    "#The cropped image (of the house) is then fed to the next model for further analysis (hassan's model)\n",
    "#ICI \n"
   ],
   "outputs": [],
   "metadata": {}
  },
  {
   "cell_type": "code",
   "execution_count": 156,
   "source": [
    "print(df)\n",
    "print(interpretation('house', df))\n",
    "print(interpretation('tree', df))\n",
    "print(interpretation('person', df))\n"
   ],
   "outputs": [
    {
     "output_type": "stream",
     "name": "stdout",
     "text": [
      "     name  xmin  ymin  xmax  ymax  height  width    area\n",
      "0     sun     0     8   206   161     206    153   31518\n",
      "1    tree   162    59   440   610     278    551  153178\n",
      "2   house   482   214   856   601     374    387  144738\n",
      "3  person   345   335   485   692     140    357   49980\n",
      "the size of the object \"house\" is normal\n",
      "the size of the object \"tree\" is normal\n",
      "The height of the person in the drawing is very small, it reflects feeling of inferiority and insignificance\n"
     ]
    }
   ],
   "metadata": {}
  }
 ],
 "metadata": {
  "orig_nbformat": 4,
  "language_info": {
   "name": "python",
   "version": "3.9.6",
   "mimetype": "text/x-python",
   "codemirror_mode": {
    "name": "ipython",
    "version": 3
   },
   "pygments_lexer": "ipython3",
   "nbconvert_exporter": "python",
   "file_extension": ".py"
  },
  "kernelspec": {
   "name": "python3",
   "display_name": "Python 3.9.6 64-bit"
  },
  "interpreter": {
   "hash": "b3ed8e708b643839dc49c9e4479760f0fed46f4af64d471bc476f8b8b680b9fd"
  }
 },
 "nbformat": 4,
 "nbformat_minor": 2
}
